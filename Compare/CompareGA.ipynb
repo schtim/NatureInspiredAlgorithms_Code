{
 "cells": [
  {
   "cell_type": "markdown",
   "source": [
    "# Vergleich der Algorithmen"
   ],
   "metadata": {}
  },
  {
   "cell_type": "code",
   "execution_count": 11,
   "source": [
    "# imports\n",
    "# add folder to syspath to import GeneticAlgorithm \n",
    "import os\n",
    "import sys\n",
    "path = os.path.dirname(os.path.abspath(''))\n",
    "sys.path.insert(0, path+'/GeneticAlgorithm')\n",
    "from GeneticAlgorithm import GeneticAlgorithm\n",
    "sys.path.insert(0, path+'/ParticleSwarmOptimization')\n",
    "from ParticleSwarmOptimization import ParticleSwarmOptimization\n",
    "\n",
    " # add folder to syspath to import ACO \n",
    "sys.path.insert(0, os.path.dirname(path)+'/AntColonyOptimization')\n",
    "\n",
    "import numpy as np\n",
    "from matplotlib import pyplot as plt"
   ],
   "outputs": [],
   "metadata": {}
  },
  {
   "cell_type": "code",
   "execution_count": 12,
   "source": [
    "# lade die Probleme (klassisch)\n",
    "# small problem\n",
    "small_objects  = np.load(os.path.join(path,'Compare/Ressources/betterproblem/small_objects.npy'))\n",
    "small_container = np.load(os.path.join(path,'Compare/Ressources/betterproblem/small_container.npy'))\n",
    "small_optimal_solution = np.load(os.path.join(path, 'Compare/Ressources/betterproblem/small_optimal.npy'))\n",
    "# medium Problem\n",
    "medium_objects= np.load(os.path.join(path,'Compare/Ressources/betterproblem/medium_objects.npy'))\n",
    "medium_container = np.load(os.path.join(path,'Compare/Ressources/betterproblem/medium_container.npy'))\n",
    "medium_optimal_solution = np.load(os.path.join(path, 'Compare/Ressources/betterproblem/medium_optimal.npy'))\n",
    "# large Problem\n",
    "large_objects  = np.load(os.path.join(path,'Compare/Ressources/betterproblem/large_objects.npy'))\n",
    "large_container = np.load(os.path.join(path,'Compare/Ressources/betterproblem/large_container.npy'))\n",
    "large_optimal_solution = np.load(os.path.join(path, 'Compare/Ressources/betterproblem/large_optimal.npy'))\n",
    "\n",
    "print('Optimale Lösungen')\n",
    "print(f'Kleines Problem {small_optimal_solution}')\n",
    "print(f'Medium Problem {medium_optimal_solution}')\n",
    "print(f'Großes Problem {large_optimal_solution}')"
   ],
   "outputs": [
    {
     "output_type": "stream",
     "name": "stdout",
     "text": [
      "Optimale Lösungen\n",
      "Kleines Problem 3\n",
      "Medium Problem 16\n",
      "Großes Problem 35\n"
     ]
    }
   ],
   "metadata": {}
  },
  {
   "cell_type": "code",
   "execution_count": 13,
   "source": [
    "# lade die Probleme (neu)\n",
    "# 50\n",
    "new_50_0 = np.load(os.path.join(path,'Compare/Ressources/newproblem/o50_0.npy'))\n",
    "new_50_1 = np.load(os.path.join(path,'Compare/Ressources/newproblem/o50_1.npy'))\n",
    "new_50_2 = np.load(os.path.join(path,'Compare/Ressources/newproblem/o50_2.npy'))\n",
    "new_50_3 = np.load(os.path.join(path,'Compare/Ressources/newproblem/o50_3.npy'))\n",
    "new_50_4 = np.load(os.path.join(path,'Compare/Ressources/newproblem/o50_4.npy'))\n",
    "new_50_5 = np.load(os.path.join(path,'Compare/Ressources/newproblem/o50_5.npy'))\n",
    "new_50_6 = np.load(os.path.join(path,'Compare/Ressources/newproblem/o50_6.npy'))\n",
    "new_50_7 = np.load(os.path.join(path,'Compare/Ressources/newproblem/o50_7.npy'))\n",
    "new_50_8 = np.load(os.path.join(path,'Compare/Ressources/newproblem/o50_8.npy'))\n",
    "new_50_9 = np.load(os.path.join(path,'Compare/Ressources/newproblem/o50_9.npy'))\n",
    "new_50_container = np.load(os.path.join(path,'Compare/Ressources/newproblem/medium_container.npy'))\n",
    "new_50_optimal = np.load(os.path.join(path,'Compare/Ressources/newproblem/optimal_solutions_50.npy'))\n",
    "# 100\n",
    "new_100_0 = np.load(os.path.join(path,'Compare/Ressources/newproblem/o100_0.npy'))\n",
    "new_100_1 = np.load(os.path.join(path,'Compare/Ressources/newproblem/o100_1.npy'))\n",
    "new_100_2 = np.load(os.path.join(path,'Compare/Ressources/newproblem/o100_2.npy'))\n",
    "new_100_3 = np.load(os.path.join(path,'Compare/Ressources/newproblem/o100_3.npy'))\n",
    "new_100_4 = np.load(os.path.join(path,'Compare/Ressources/newproblem/o100_4.npy'))\n",
    "new_100_5 = np.load(os.path.join(path,'Compare/Ressources/newproblem/o100_5.npy'))\n",
    "new_100_6 = np.load(os.path.join(path,'Compare/Ressources/newproblem/o100_6.npy'))\n",
    "new_100_7 = np.load(os.path.join(path,'Compare/Ressources/newproblem/o100_7.npy'))\n",
    "new_100_8 = np.load(os.path.join(path,'Compare/Ressources/newproblem/o100_8.npy'))\n",
    "new_100_9 = np.load(os.path.join(path,'Compare/Ressources/newproblem/o100_9.npy'))\n",
    "new_100_container = np.load(os.path.join(path,'Compare/Ressources/newproblem/medium_container.npy'))\n",
    "new_100_optimal = np.load(os.path.join(path,'Compare/Ressources/newproblem/optimal_solutions_100.npy'))\n",
    "# 250\n",
    "new_250_0 = np.load(os.path.join(path,'Compare/Ressources/newproblem/o250_0.npy'))\n",
    "new_250_1 = np.load(os.path.join(path,'Compare/Ressources/newproblem/o250_1.npy'))\n",
    "new_250_2 = np.load(os.path.join(path,'Compare/Ressources/newproblem/o250_2.npy'))\n",
    "new_250_3 = np.load(os.path.join(path,'Compare/Ressources/newproblem/o250_3.npy'))\n",
    "new_250_4 = np.load(os.path.join(path,'Compare/Ressources/newproblem/o250_4.npy'))\n",
    "new_250_5 = np.load(os.path.join(path,'Compare/Ressources/newproblem/o250_5.npy'))\n",
    "new_250_6 = np.load(os.path.join(path,'Compare/Ressources/newproblem/o250_6.npy'))\n",
    "new_250_7 = np.load(os.path.join(path,'Compare/Ressources/newproblem/o250_7.npy'))\n",
    "new_250_8 = np.load(os.path.join(path,'Compare/Ressources/newproblem/o250_8.npy'))\n",
    "new_250_9 = np.load(os.path.join(path,'Compare/Ressources/newproblem/o250_9.npy'))\n",
    "new_250_container = np.load(os.path.join(path,'Compare/Ressources/newproblem/medium_container.npy'))\n",
    "new_250_optimal = np.load(os.path.join(path,'Compare/Ressources/newproblem/optimal_solutions_250.npy'))\n",
    "# 500\n",
    "new_500_0 = np.load(os.path.join(path,'Compare/Ressources/newproblem/o500_0.npy'))\n",
    "new_500_1 = np.load(os.path.join(path,'Compare/Ressources/newproblem/o500_1.npy'))\n",
    "new_500_2 = np.load(os.path.join(path,'Compare/Ressources/newproblem/o500_2.npy'))\n",
    "new_500_3 = np.load(os.path.join(path,'Compare/Ressources/newproblem/o500_3.npy'))\n",
    "new_500_4 = np.load(os.path.join(path,'Compare/Ressources/newproblem/o500_4.npy'))\n",
    "new_500_5 = np.load(os.path.join(path,'Compare/Ressources/newproblem/o500_5.npy'))\n",
    "new_500_6 = np.load(os.path.join(path,'Compare/Ressources/newproblem/o500_6.npy'))\n",
    "new_500_7 = np.load(os.path.join(path,'Compare/Ressources/newproblem/o500_7.npy'))\n",
    "new_500_8 = np.load(os.path.join(path,'Compare/Ressources/newproblem/o500_8.npy'))\n",
    "new_500_9 = np.load(os.path.join(path,'Compare/Ressources/newproblem/o500_9.npy'))\n",
    "new_500_container = np.load(os.path.join(path,'Compare/Ressources/newproblem/medium_container.npy'))\n",
    "new_500_optimal = np.load(os.path.join(path,'Compare/Ressources/newproblem/optimal_solutions_500.npy'))\n",
    "# 1000\n",
    "new_1000_0 = np.load(os.path.join(path,'Compare/Ressources/newproblem/o1000_0.npy'))\n",
    "new_1000_1 = np.load(os.path.join(path,'Compare/Ressources/newproblem/o1000_1.npy'))\n",
    "new_1000_2 = np.load(os.path.join(path,'Compare/Ressources/newproblem/o1000_2.npy'))\n",
    "new_1000_3 = np.load(os.path.join(path,'Compare/Ressources/newproblem/o1000_3.npy'))\n",
    "new_1000_4 = np.load(os.path.join(path,'Compare/Ressources/newproblem/o1000_4.npy'))\n",
    "new_1000_5 = np.load(os.path.join(path,'Compare/Ressources/newproblem/o1000_5.npy'))\n",
    "new_1000_6 = np.load(os.path.join(path,'Compare/Ressources/newproblem/o1000_6.npy'))\n",
    "new_1000_7 = np.load(os.path.join(path,'Compare/Ressources/newproblem/o1000_7.npy'))\n",
    "new_1000_8 = np.load(os.path.join(path,'Compare/Ressources/newproblem/o1000_8.npy'))\n",
    "new_1000_9 = np.load(os.path.join(path,'Compare/Ressources/newproblem/o1000_9.npy'))\n",
    "new_1000_container = np.load(os.path.join(path,'Compare/Ressources/newproblem/medium_container.npy'))\n",
    "new_1000_optimal = np.load(os.path.join(path,'Compare/Ressources/newproblem/optimal_solutions_1000.npy'))\n",
    "print('Optimale Lösungen')\n",
    "print(f'50: {new_50_optimal}')\n",
    "print(f'100 {new_100_optimal}')\n",
    "print(f'250 {new_250_optimal}')\n",
    "print(f'500 {new_500_optimal}')\n",
    "print(f'1000 {new_1000_optimal}')"
   ],
   "outputs": [
    {
     "output_type": "stream",
     "name": "stdout",
     "text": [
      "Optimale Lösungen\n",
      "50: [14 14 14 15 14 13 13 13 14 14]\n",
      "100 [30 26 29 27 29 29 29 25 27 27]\n",
      "250 [72 70 67 71 71 71 67 74 75 71]\n",
      "500 [145 139 141 146 143 149 142 143 147 140]\n",
      "1000 [283 288 283 284 282 293 286 282 285 291]\n"
     ]
    }
   ],
   "metadata": {}
  },
  {
   "cell_type": "code",
   "execution_count": 14,
   "source": [
    "number_average = 10\n",
    "iterations = 30"
   ],
   "outputs": [],
   "metadata": {}
  },
  {
   "cell_type": "markdown",
   "source": [
    "# FF"
   ],
   "metadata": {}
  },
  {
   "cell_type": "code",
   "execution_count": 4,
   "source": [
    "# First Fit\n",
    "from GeneticAlgorithm import SimpleFirstFit\n",
    "def compute_first_fit_solutions(problem_size, amount_trials):\n",
    "    path = os.path.dirname(os.path.abspath(''))\n",
    "    for problem_number in np.arange(10):\n",
    "        best_vals = np.zeros(10)\n",
    "        runtimes = np.zeros(10)\n",
    "        for i in np.arange(10):\n",
    "            objects = np.load(os.path.join(path,f'Compare/Ressources/newproblem/o{problem_size}_{problem_number}.npy'))\n",
    "            container_weight, container_vol = np.load(os.path.join(path,'Compare/Ressources/newproblem/medium_container.npy'))\n",
    "            FF = SimpleFirstFit(objects, container_weight, container_vol, amount_trials)\n",
    "            best_vals[i], runtimes[i] =FF.run()\n",
    "        print(np.average(runtimes))\n",
    "        np.save(f'Solutions/new_{problem_size}_{problem_number}_FF_gbest_bins.npy', best_vals)\n",
    "        np.save(f'Solutions/new_{problem_size}_{problem_number}_FF_runtime.npy', runtimes)"
   ],
   "outputs": [],
   "metadata": {}
  },
  {
   "cell_type": "code",
   "execution_count": 4,
   "source": [
    "# First Fit Decreasing\n",
    "from GeneticAlgorithm import FirstFitDecreasing\n",
    "def compute_first_fit_decreasing_solutions(problem_size):\n",
    "    path = os.path.dirname(os.path.abspath(''))\n",
    "    for problem_number in np.arange(10):\n",
    "        objects = np.load(os.path.join(path,f'Compare/Ressources/newproblem/o{problem_size}_{problem_number}.npy'))\n",
    "        container_weight, container_vol = np.load(os.path.join(path,'Compare/Ressources/newproblem/medium_container.npy'))\n",
    "        FFD = FirstFitDecreasing(objects, container_weight, container_vol)\n",
    "        best_val, runtime =FFD.run()\n",
    "        np.save(f'Solutions/new_{problem_size}_{problem_number}_FFD_gbest_bins.npy', best_val)\n",
    "        np.save(f'Solutions/new_{problem_size}_{problem_number}_FFD_runtime.npy', runtime)"
   ],
   "outputs": [],
   "metadata": {}
  },
  {
   "cell_type": "markdown",
   "source": [
    "## 50 Problem"
   ],
   "metadata": {}
  },
  {
   "cell_type": "code",
   "execution_count": 10,
   "source": [
    "compute_first_fit_solutions(50,2500)"
   ],
   "outputs": [
    {
     "output_type": "stream",
     "name": "stdout",
     "text": [
      "1.2001868724822997\n",
      "0.8390203714370728\n",
      "1.005761408805847\n",
      "0.9122687816619873\n",
      "0.8901650905609131\n",
      "1.096380925178528\n",
      "1.525799036026001\n",
      "1.203623151779175\n",
      "0.9232409954071045\n",
      "1.116699743270874\n"
     ]
    }
   ],
   "metadata": {}
  },
  {
   "cell_type": "code",
   "execution_count": 5,
   "source": [
    "compute_first_fit_decreasing_solutions(50)"
   ],
   "outputs": [],
   "metadata": {}
  },
  {
   "cell_type": "markdown",
   "source": [
    "##100 Problem"
   ],
   "metadata": {}
  },
  {
   "cell_type": "code",
   "execution_count": 14,
   "source": [
    "compute_first_fit_solutions(100, 2000)"
   ],
   "outputs": [
    {
     "output_type": "stream",
     "name": "stdout",
     "text": [
      "2.6246608018875124\n",
      "2.0374711036682127\n",
      "2.1122999668121336\n",
      "1.9144712924957275\n",
      "1.9291831254959106\n",
      "1.9776792049407959\n",
      "1.8845149517059325\n",
      "1.7193016767501832\n",
      "2.9314810752868654\n",
      "2.893898105621338\n"
     ]
    }
   ],
   "metadata": {}
  },
  {
   "cell_type": "code",
   "execution_count": 6,
   "source": [
    "compute_first_fit_decreasing_solutions(100)"
   ],
   "outputs": [],
   "metadata": {}
  },
  {
   "cell_type": "markdown",
   "source": [
    "##250 Problem"
   ],
   "metadata": {}
  },
  {
   "cell_type": "code",
   "execution_count": 18,
   "source": [
    "compute_first_fit_solutions(250, 1500)"
   ],
   "outputs": [
    {
     "output_type": "stream",
     "name": "stdout",
     "text": [
      "8.228948020935059\n",
      "5.998953914642334\n",
      "5.82615852355957\n",
      "6.0450788021087645\n",
      "6.920798683166504\n",
      "6.643115472793579\n",
      "5.97147524356842\n",
      "6.312564826011657\n",
      "6.4360222816467285\n",
      "6.342212772369384\n"
     ]
    }
   ],
   "metadata": {}
  },
  {
   "cell_type": "code",
   "execution_count": 7,
   "source": [
    "compute_first_fit_decreasing_solutions(250)"
   ],
   "outputs": [],
   "metadata": {}
  },
  {
   "cell_type": "markdown",
   "source": [
    "##500 Problem"
   ],
   "metadata": {}
  },
  {
   "cell_type": "code",
   "execution_count": 8,
   "source": [
    "compute_first_fit_solutions(500, 1500)"
   ],
   "outputs": [
    {
     "output_type": "error",
     "ename": "NameError",
     "evalue": "name 'compute_first_fit_solutions' is not defined",
     "traceback": [
      "\u001b[0;31m---------------------------------------------------------------------------\u001b[0m",
      "\u001b[0;31mNameError\u001b[0m                                 Traceback (most recent call last)",
      "\u001b[0;32m/var/folders/6j/_dhbmfxs7j5_s134l1bccbzc0000gn/T/ipykernel_36937/1746576541.py\u001b[0m in \u001b[0;36m<module>\u001b[0;34m\u001b[0m\n\u001b[0;32m----> 1\u001b[0;31m \u001b[0mcompute_first_fit_solutions\u001b[0m\u001b[0;34m(\u001b[0m\u001b[0;36m500\u001b[0m\u001b[0;34m,\u001b[0m \u001b[0;36m1500\u001b[0m\u001b[0;34m)\u001b[0m\u001b[0;34m\u001b[0m\u001b[0;34m\u001b[0m\u001b[0m\n\u001b[0m",
      "\u001b[0;31mNameError\u001b[0m: name 'compute_first_fit_solutions' is not defined"
     ]
    }
   ],
   "metadata": {}
  },
  {
   "cell_type": "code",
   "execution_count": 8,
   "source": [
    "compute_first_fit_decreasing_solutions(500)"
   ],
   "outputs": [],
   "metadata": {}
  },
  {
   "cell_type": "markdown",
   "source": [
    "## 1000 Problem"
   ],
   "metadata": {}
  },
  {
   "cell_type": "code",
   "execution_count": 17,
   "source": [
    "compute_first_fit_solutions(1000, 1500)"
   ],
   "outputs": [
    {
     "output_type": "stream",
     "name": "stdout",
     "text": [
      "101.23780090808869\n"
     ]
    },
    {
     "output_type": "error",
     "ename": "KeyboardInterrupt",
     "evalue": "",
     "traceback": [
      "\u001b[0;31m---------------------------------------------------------------------------\u001b[0m",
      "\u001b[0;31mKeyboardInterrupt\u001b[0m                         Traceback (most recent call last)",
      "\u001b[0;32m/var/folders/6j/_dhbmfxs7j5_s134l1bccbzc0000gn/T/ipykernel_31935/2184103013.py\u001b[0m in \u001b[0;36m<module>\u001b[0;34m\u001b[0m\n\u001b[0;32m----> 1\u001b[0;31m \u001b[0mcompute_first_fit_solutions\u001b[0m\u001b[0;34m(\u001b[0m\u001b[0;36m1000\u001b[0m\u001b[0;34m,\u001b[0m \u001b[0;36m1500\u001b[0m\u001b[0;34m)\u001b[0m\u001b[0;34m\u001b[0m\u001b[0;34m\u001b[0m\u001b[0m\n\u001b[0m",
      "\u001b[0;32m/var/folders/6j/_dhbmfxs7j5_s134l1bccbzc0000gn/T/ipykernel_31935/2569071586.py\u001b[0m in \u001b[0;36mcompute_first_fit_solutions\u001b[0;34m(problem_size, amount_trials)\u001b[0m\n\u001b[1;32m     10\u001b[0m             \u001b[0mcontainer_weight\u001b[0m\u001b[0;34m,\u001b[0m \u001b[0mcontainer_vol\u001b[0m \u001b[0;34m=\u001b[0m \u001b[0mnp\u001b[0m\u001b[0;34m.\u001b[0m\u001b[0mload\u001b[0m\u001b[0;34m(\u001b[0m\u001b[0mos\u001b[0m\u001b[0;34m.\u001b[0m\u001b[0mpath\u001b[0m\u001b[0;34m.\u001b[0m\u001b[0mjoin\u001b[0m\u001b[0;34m(\u001b[0m\u001b[0mpath\u001b[0m\u001b[0;34m,\u001b[0m\u001b[0;34m'Compare/Ressources/newproblem/medium_container.npy'\u001b[0m\u001b[0;34m)\u001b[0m\u001b[0;34m)\u001b[0m\u001b[0;34m\u001b[0m\u001b[0;34m\u001b[0m\u001b[0m\n\u001b[1;32m     11\u001b[0m             \u001b[0mFF\u001b[0m \u001b[0;34m=\u001b[0m \u001b[0mSimpleFirstFit\u001b[0m\u001b[0;34m(\u001b[0m\u001b[0mobjects\u001b[0m\u001b[0;34m,\u001b[0m \u001b[0mcontainer_weight\u001b[0m\u001b[0;34m,\u001b[0m \u001b[0mcontainer_vol\u001b[0m\u001b[0;34m,\u001b[0m \u001b[0mamount_trials\u001b[0m\u001b[0;34m)\u001b[0m\u001b[0;34m\u001b[0m\u001b[0;34m\u001b[0m\u001b[0m\n\u001b[0;32m---> 12\u001b[0;31m             \u001b[0mbest_vals\u001b[0m\u001b[0;34m[\u001b[0m\u001b[0mi\u001b[0m\u001b[0;34m]\u001b[0m\u001b[0;34m,\u001b[0m \u001b[0mruntimes\u001b[0m\u001b[0;34m[\u001b[0m\u001b[0mi\u001b[0m\u001b[0;34m]\u001b[0m \u001b[0;34m=\u001b[0m\u001b[0mFF\u001b[0m\u001b[0;34m.\u001b[0m\u001b[0mrun\u001b[0m\u001b[0;34m(\u001b[0m\u001b[0;34m)\u001b[0m\u001b[0;34m\u001b[0m\u001b[0;34m\u001b[0m\u001b[0m\n\u001b[0m\u001b[1;32m     13\u001b[0m         \u001b[0mprint\u001b[0m\u001b[0;34m(\u001b[0m\u001b[0mnp\u001b[0m\u001b[0;34m.\u001b[0m\u001b[0maverage\u001b[0m\u001b[0;34m(\u001b[0m\u001b[0mruntimes\u001b[0m\u001b[0;34m)\u001b[0m\u001b[0;34m)\u001b[0m\u001b[0;34m\u001b[0m\u001b[0;34m\u001b[0m\u001b[0m\n\u001b[1;32m     14\u001b[0m         \u001b[0mnp\u001b[0m\u001b[0;34m.\u001b[0m\u001b[0msave\u001b[0m\u001b[0;34m(\u001b[0m\u001b[0;34mf'Solutions/new_{problem_size}_{problem_number}_FF_gbest_bins.npy'\u001b[0m\u001b[0;34m,\u001b[0m \u001b[0mbest_vals\u001b[0m\u001b[0;34m)\u001b[0m\u001b[0;34m\u001b[0m\u001b[0;34m\u001b[0m\u001b[0m\n",
      "\u001b[0;32m~/Documents/Uni/Uni_Bonn/Informatik/Semester4/Projektgruppe/NatureInspiredAlgorithms/GeneticAlgorithm/GeneticAlgorithm.py\u001b[0m in \u001b[0;36mrun\u001b[0;34m(self)\u001b[0m\n\u001b[1;32m     24\u001b[0m             \u001b[0mrandom\u001b[0m\u001b[0;34m.\u001b[0m\u001b[0mshuffle\u001b[0m\u001b[0;34m(\u001b[0m\u001b[0mself\u001b[0m\u001b[0;34m.\u001b[0m\u001b[0mobject_list\u001b[0m\u001b[0;34m)\u001b[0m\u001b[0;34m\u001b[0m\u001b[0;34m\u001b[0m\u001b[0m\n\u001b[1;32m     25\u001b[0m             \u001b[0;32mfor\u001b[0m \u001b[0mobj\u001b[0m \u001b[0;32min\u001b[0m \u001b[0mself\u001b[0m\u001b[0;34m.\u001b[0m\u001b[0mobject_list\u001b[0m\u001b[0;34m:\u001b[0m\u001b[0;34m\u001b[0m\u001b[0;34m\u001b[0m\u001b[0m\n\u001b[0;32m---> 26\u001b[0;31m                 \u001b[0mself\u001b[0m\u001b[0;34m.\u001b[0m\u001b[0mfirst_fit\u001b[0m\u001b[0;34m(\u001b[0m\u001b[0mobj\u001b[0m\u001b[0;34m)\u001b[0m\u001b[0;34m\u001b[0m\u001b[0;34m\u001b[0m\u001b[0m\n\u001b[0m\u001b[1;32m     27\u001b[0m             \u001b[0;32mif\u001b[0m \u001b[0mlen\u001b[0m\u001b[0;34m(\u001b[0m\u001b[0mself\u001b[0m\u001b[0;34m.\u001b[0m\u001b[0msolution\u001b[0m\u001b[0;34m)\u001b[0m \u001b[0;34m<=\u001b[0m \u001b[0mself\u001b[0m\u001b[0;34m.\u001b[0m\u001b[0mall_time_best\u001b[0m\u001b[0;34m:\u001b[0m\u001b[0;34m\u001b[0m\u001b[0;34m\u001b[0m\u001b[0m\n\u001b[1;32m     28\u001b[0m                 \u001b[0mself\u001b[0m\u001b[0;34m.\u001b[0m\u001b[0mall_time_best\u001b[0m \u001b[0;34m=\u001b[0m \u001b[0mlen\u001b[0m\u001b[0;34m(\u001b[0m\u001b[0mself\u001b[0m\u001b[0;34m.\u001b[0m\u001b[0msolution\u001b[0m\u001b[0;34m)\u001b[0m\u001b[0;34m\u001b[0m\u001b[0;34m\u001b[0m\u001b[0m\n",
      "\u001b[0;32m~/Documents/Uni/Uni_Bonn/Informatik/Semester4/Projektgruppe/NatureInspiredAlgorithms/GeneticAlgorithm/GeneticAlgorithm.py\u001b[0m in \u001b[0;36mfirst_fit\u001b[0;34m(self, obj)\u001b[0m\n\u001b[1;32m     34\u001b[0m     \u001b[0;32mdef\u001b[0m \u001b[0mfirst_fit\u001b[0m\u001b[0;34m(\u001b[0m\u001b[0mself\u001b[0m\u001b[0;34m,\u001b[0m \u001b[0mobj\u001b[0m\u001b[0;34m)\u001b[0m\u001b[0;34m:\u001b[0m\u001b[0;34m\u001b[0m\u001b[0;34m\u001b[0m\u001b[0m\n\u001b[1;32m     35\u001b[0m         \u001b[0;32mfor\u001b[0m \u001b[0mbin\u001b[0m \u001b[0;32min\u001b[0m \u001b[0mself\u001b[0m\u001b[0;34m.\u001b[0m\u001b[0msolution\u001b[0m\u001b[0;34m:\u001b[0m\u001b[0;34m\u001b[0m\u001b[0;34m\u001b[0m\u001b[0m\n\u001b[0;32m---> 36\u001b[0;31m             \u001b[0;32mif\u001b[0m \u001b[0mbin\u001b[0m\u001b[0;34m.\u001b[0m\u001b[0mcheck_fit\u001b[0m\u001b[0;34m(\u001b[0m\u001b[0mobj\u001b[0m\u001b[0;34m)\u001b[0m\u001b[0;34m:\u001b[0m\u001b[0;34m\u001b[0m\u001b[0;34m\u001b[0m\u001b[0m\n\u001b[0m\u001b[1;32m     37\u001b[0m                 \u001b[0mbin\u001b[0m\u001b[0;34m.\u001b[0m\u001b[0mfit_obj\u001b[0m\u001b[0;34m(\u001b[0m\u001b[0mobj\u001b[0m\u001b[0;34m)\u001b[0m\u001b[0;34m\u001b[0m\u001b[0;34m\u001b[0m\u001b[0m\n\u001b[1;32m     38\u001b[0m                 \u001b[0;32mreturn\u001b[0m\u001b[0;34m\u001b[0m\u001b[0;34m\u001b[0m\u001b[0m\n",
      "\u001b[0;32m~/Documents/Uni/Uni_Bonn/Informatik/Semester4/Projektgruppe/NatureInspiredAlgorithms/GeneticAlgorithm/GeneticAlgorithm.py\u001b[0m in \u001b[0;36mcheck_fit\u001b[0;34m(self, obj)\u001b[0m\n\u001b[1;32m    577\u001b[0m             \u001b[0;32mreturn\u001b[0m \u001b[0;32mFalse\u001b[0m\u001b[0;34m\u001b[0m\u001b[0;34m\u001b[0m\u001b[0m\n\u001b[1;32m    578\u001b[0m \u001b[0;34m\u001b[0m\u001b[0m\n\u001b[0;32m--> 579\u001b[0;31m     \u001b[0;32mdef\u001b[0m \u001b[0mcheck_fit\u001b[0m\u001b[0;34m(\u001b[0m\u001b[0mself\u001b[0m\u001b[0;34m,\u001b[0m \u001b[0mobj\u001b[0m\u001b[0;34m)\u001b[0m\u001b[0;34m:\u001b[0m\u001b[0;34m\u001b[0m\u001b[0;34m\u001b[0m\u001b[0m\n\u001b[0m\u001b[1;32m    580\u001b[0m         \u001b[0;34m'''Checks if the given object fits in the bin'''\u001b[0m\u001b[0;34m\u001b[0m\u001b[0;34m\u001b[0m\u001b[0m\n\u001b[1;32m    581\u001b[0m         \u001b[0;32mif\u001b[0m \u001b[0mBin\u001b[0m\u001b[0;34m.\u001b[0m\u001b[0mvol_capacity\u001b[0m \u001b[0;34m-\u001b[0m \u001b[0mself\u001b[0m\u001b[0;34m.\u001b[0m\u001b[0mvolume_fill\u001b[0m \u001b[0;34m>=\u001b[0m \u001b[0mobj\u001b[0m\u001b[0;34m.\u001b[0m\u001b[0mvolume\u001b[0m \u001b[0;32mand\u001b[0m \u001b[0mBin\u001b[0m\u001b[0;34m.\u001b[0m\u001b[0mweight_capacity\u001b[0m \u001b[0;34m-\u001b[0m \u001b[0mself\u001b[0m\u001b[0;34m.\u001b[0m\u001b[0mweight_fill\u001b[0m \u001b[0;34m>=\u001b[0m \u001b[0mobj\u001b[0m\u001b[0;34m.\u001b[0m\u001b[0mweight\u001b[0m\u001b[0;34m:\u001b[0m\u001b[0;34m\u001b[0m\u001b[0;34m\u001b[0m\u001b[0m\n",
      "\u001b[0;31mKeyboardInterrupt\u001b[0m: "
     ]
    }
   ],
   "metadata": {}
  },
  {
   "cell_type": "code",
   "execution_count": 9,
   "source": [
    "compute_first_fit_decreasing_solutions(1000)"
   ],
   "outputs": [],
   "metadata": {}
  },
  {
   "cell_type": "markdown",
   "source": [
    "# GA"
   ],
   "metadata": {}
  },
  {
   "cell_type": "markdown",
   "source": [
    "## small"
   ],
   "metadata": {}
  },
  {
   "cell_type": "code",
   "execution_count": 5,
   "source": [
    "small_GA_runtime = np.zeros(number_average)\n",
    "small_GA_gbest_bins = np.zeros((number_average))\n",
    "small_GA_average_bins = np.zeros((number_average, iterations))\n",
    "small_GA_best_bins = np.zeros((number_average, iterations))\n",
    "small_GA_worst_bins = np.zeros((number_average, iterations))\n",
    "small_GA_fitness = np.zeros((number_average, iterations))\n",
    "\n",
    "for i in range(number_average):\n",
    "    GA = GeneticAlgorithm(small_objects, small_container[0], small_container[1])\n",
    "    _, small_GA_gbest_bins[i], small_GA_average_bins[i], small_GA_best_bins, small_GA_worst_bins, small_GA_runtime[i], small_GA_fitness[i] = GA.run()\n",
    "    print(str(i) + ' done')\n",
    "    \n",
    "name1 = 'Solutions/small_GA_runtime.npy'\n",
    "name2 = 'Solutions/small_GA_gbest_bins.npy'\n",
    "name3 = 'Solutions/small_GA_average_bins.npy'\n",
    "name4 = 'Solutions/small_GA_best_bins.npy'\n",
    "name5 = 'Solutions/small_GA_worst_bins.npy'\n",
    "name6 = 'Solutions/small_GA_fitness.npy'\n",
    "\n",
    "np.save(name1, small_GA_runtime)\n",
    "np.save(name2, small_GA_gbest_bins)\n",
    "np.save(name3, small_GA_average_bins)\n",
    "np.save(name4, small_GA_best_bins)\n",
    "np.save(name5, small_GA_worst_bins)\n",
    "np.save(name6, small_GA_fitness)"
   ],
   "outputs": [
    {
     "output_type": "stream",
     "name": "stdout",
     "text": [
      "0 done\n",
      "1 done\n",
      "2 done\n",
      "3 done\n",
      "4 done\n",
      "5 done\n",
      "6 done\n",
      "7 done\n",
      "8 done\n",
      "9 done\n"
     ]
    }
   ],
   "metadata": {}
  },
  {
   "cell_type": "markdown",
   "source": [
    "## medium"
   ],
   "metadata": {}
  },
  {
   "cell_type": "code",
   "execution_count": 6,
   "source": [
    "medium_GA_runtime = np.zeros(number_average)\n",
    "medium_GA_gbest_bins = np.zeros((number_average))\n",
    "medium_GA_average_bins = np.zeros((number_average, iterations))\n",
    "medium_GA_best_bins = np.zeros((number_average, iterations))\n",
    "medium_GA_worst_bins = np.zeros((number_average, iterations))\n",
    "medium_GA_fitness = np.zeros((number_average, iterations))\n",
    "\n",
    "for i in range(number_average):\n",
    "    GA = GeneticAlgorithm(medium_objects, medium_container[0], medium_container[1])\n",
    "    _, medium_GA_gbest_bins[i], medium_GA_average_bins[i], medium_GA_best_bins, medium_GA_worst_bins, medium_GA_runtime[i], medium_GA_fitness[i] = GA.run()\n",
    "    print(str(i) + ' done')\n",
    "    \n",
    "name1 = 'Solutions/medium_GA_runtime.npy'\n",
    "name2 = 'Solutions/medium_GA_gbest_bins.npy'\n",
    "name3 = 'Solutions/medium_GA_average_bins.npy'\n",
    "name4 = 'Solutions/medium_GA_best_bins.npy'\n",
    "name5 = 'Solutions/medium_GA_worst_bins.npy'\n",
    "name6 = 'Solutions/medium_GA_fitness.npy'\n",
    "\n",
    "np.save(name1, medium_GA_runtime)\n",
    "np.save(name2, medium_GA_gbest_bins)\n",
    "np.save(name3, medium_GA_average_bins)\n",
    "np.save(name4, medium_GA_best_bins)\n",
    "np.save(name5, medium_GA_worst_bins)\n",
    "np.save(name6, medium_GA_fitness)"
   ],
   "outputs": [
    {
     "output_type": "stream",
     "name": "stdout",
     "text": [
      "0 done\n",
      "1 done\n",
      "2 done\n",
      "3 done\n",
      "4 done\n",
      "5 done\n",
      "6 done\n",
      "7 done\n",
      "8 done\n",
      "9 done\n"
     ]
    }
   ],
   "metadata": {}
  },
  {
   "cell_type": "markdown",
   "source": [
    "## large"
   ],
   "metadata": {}
  },
  {
   "cell_type": "code",
   "execution_count": 7,
   "source": [
    "large_GA_runtime = np.zeros(number_average)\n",
    "large_GA_gbest_bins = np.zeros((number_average))\n",
    "large_GA_average_bins = np.zeros((number_average, iterations))\n",
    "large_GA_best_bins = np.zeros((number_average, iterations))\n",
    "large_GA_worst_bins = np.zeros((number_average, iterations))\n",
    "large_GA_fitness = np.zeros((number_average, iterations))\n",
    "\n",
    "for i in range(number_average):\n",
    "    GA = GeneticAlgorithm(large_objects, large_container[0], large_container[1])\n",
    "    _, large_GA_gbest_bins[i], large_GA_average_bins[i], large_GA_best_bins, large_GA_worst_bins, large_GA_runtime[i], large_GA_fitness[i] = GA.run()\n",
    "    print(str(i) + ' done')\n",
    "    \n",
    "name1 = 'Solutions/large_GA_runtime.npy'\n",
    "name2 = 'Solutions/large_GA_gbest_bins.npy'\n",
    "name3 = 'Solutions/large_GA_average_bins.npy'\n",
    "name4 = 'Solutions/large_GA_best_bins.npy'\n",
    "name5 = 'Solutions/large_GA_worst_bins.npy'\n",
    "name6 = 'Solutions/large_GA_fitness.npy'\n",
    "\n",
    "np.save(name1, large_GA_runtime)\n",
    "np.save(name2, large_GA_gbest_bins)\n",
    "np.save(name3, large_GA_average_bins)\n",
    "np.save(name4, large_GA_best_bins)\n",
    "np.save(name5, large_GA_worst_bins)\n",
    "np.save(name6, large_GA_fitness)"
   ],
   "outputs": [
    {
     "output_type": "stream",
     "name": "stdout",
     "text": [
      "0 done\n",
      "1 done\n",
      "2 done\n",
      "3 done\n",
      "4 done\n",
      "5 done\n",
      "6 done\n",
      "7 done\n",
      "8 done\n",
      "9 done\n"
     ]
    }
   ],
   "metadata": {}
  },
  {
   "cell_type": "markdown",
   "source": [
    "## PSO new_50"
   ],
   "metadata": {}
  },
  {
   "cell_type": "markdown",
   "source": [
    "### new_50_0"
   ],
   "metadata": {}
  },
  {
   "cell_type": "code",
   "execution_count": null,
   "source": [
    "#new_50_0_GA_solution_bins = np.zeros(number_average) # <- ist bei mir einfach nur die letzte Generation -> brauchen wir das wirklich dann muss ich noch einiges umschreiben?\n",
    "new_50_0_GA_runtime = np.zeros(number_average) #wichtig\n",
    "# new_50_0_PSO_gbest_bins = np.zeros((number_average, iterations)) <- Ist bei mir nur ein eindim Array? Also der bestBin der überhaupt gefunden wurde (pro durchlauf(number_average))\n",
    "new_50_0_GA_gbest_bins = np.zeros((number_average))\n",
    "#new_50_0_PSO_gbest_fitness = np.zeros((number_average, iterations)) <- habe ich nicht \n",
    "new_50_0_GA_average_bins = np.zeros((number_average, iterations)) #wichtig\n",
    "new_50_0_GA_best_bins = np.zeros((number_average, iterations)) #wichtig\n",
    "new_50_0_GA_worst_bins = np.zeros((number_average, iterations)) #wichtig\n",
    "new_50_0_GA_fitness = np.zeros((number_average, iterations)) #wichtig\n",
    "#new_50_0_PSO_unfit_moves = np.zeros((number_average, iterations)) # <- habe ich nicht \n",
    "#new_50_0_PSO_chaos_moves = np.zeros((number_average, iterations)) # <- habe ich nicht \n",
    "#new_50_0_PSO_heuristic_moves = np.zeros((number_average, iterations)) # <- habe ich nicht \n",
    "\n",
    "# hier der Beispielaufruf für die Funktion\n",
    "for i in range(number_average):\n",
    "    GA = GeneticAlgorithm(new_50_0, new_50_container[0], new_50_container[1])\n",
    "    _, new_50_0_GA_gbest_bins[i], new_50_0_GA_average_bins[i], new_50_0_GA_best_bins, new_50_0_GA_worst_bins, new_50_0_GA_runtime[i], new_50_0_GA_fitness[i]    = GA.run()\n",
    "    print(str(i) + ' done')\n",
    "    \n",
    "name1 = 'Solutions/new_50_0_GA_solution_bins.npy'\n",
    "name2 = 'Solutions/new_50_0_GA_runtime.npy'\n",
    "name3 = 'Solutions/new_50_0_GA_gbest_bins.npy'\n",
    "#name4 = 'Solutions/new_50_0__gbest_fitness.npy'\n",
    "name5 = 'Solutions/new_50_0_GA_average_bins.npy'\n",
    "name6 = 'Solutions/new_50_0_GA_best_bins.npy'\n",
    "name7 = 'Solutions/new_50_0_GA_worst_bins.npy'\n",
    "name8 = 'Solutions/new_50_0_GA_fitness.npy'\n",
    "#name9 = 'Solutions/new_50_0_PSO_unfit_moves.npy'\n",
    "#name10 = 'Solutions/new_50_0_PSO_chaos_moves.npy'\n",
    "#name11 = 'Solutions/new_50_0_PSO_heuristic_moves.npy'\n",
    "\n",
    "#np.save(name1, new_50_0_GA_solution_bins)\n",
    "np.save(name2, new_50_0_GA_runtime)\n",
    "np.save(name3, new_50_0_GA_gbest_bins)\n",
    "#np.save(name4, new_50_0_PSO_gbest_fitness)\n",
    "np.save(name5, new_50_0_GA_average_bins)\n",
    "np.save(name6, new_50_0_GA_best_bins)\n",
    "np.save(name7, new_50_0_GA_worst_bins)\n",
    "np.save(name8, new_50_0_GA_fitness)\n",
    "#np.save(name9, new_50_0_PSO_unfit_moves)\n",
    "#np.save(name10, new_50_0_PSO_chaos_moves)\n",
    "#np.save(name11, new_50_0_PSO_heuristic_moves)"
   ],
   "outputs": [],
   "metadata": {}
  },
  {
   "cell_type": "code",
   "execution_count": 39,
   "source": [
    "new_50_0_GA_runtime = np.zeros(number_average)\n",
    "new_50_0_GA_gbest_bins = np.zeros((number_average))\n",
    "new_50_0_GA_average_bins = np.zeros((number_average, iterations))\n",
    "new_50_0_GA_best_bins = np.zeros((number_average, iterations))\n",
    "new_50_0_GA_worst_bins = np.zeros((number_average, iterations))\n",
    "new_50_0_GA_fitness = np.zeros((number_average, iterations))\n",
    "\n",
    "for i in range(number_average):\n",
    "    GA = GeneticAlgorithm(new_50_0, new_50_container[0], new_50_container[1])\n",
    "    _, new_50_0_GA_gbest_bins[i], new_50_0_GA_average_bins[i], new_50_0_GA_best_bins, new_50_0_GA_worst_bins, new_50_0_GA_runtime[i], new_50_0_GA_fitness[i] = GA.run()\n",
    "    print(str(i) + ' done')\n",
    "    \n",
    "name1 = 'Solutions/new_50_0_GA_runtime.npy'\n",
    "name2 = 'Solutions/new_50_0_GA_gbest_bins.npy'\n",
    "name3 = 'Solutions/new_50_0_GA_average_bins.npy'\n",
    "name4 = 'Solutions/new_50_0_GA_best_bins.npy'\n",
    "name5 = 'Solutions/new_50_0_GA_worst_bins.npy'\n",
    "name6 = 'Solutions/new_50_0_GA_fitness.npy'\n",
    "\n",
    "np.save(name1, new_50_0_GA_runtime)\n",
    "np.save(name2, new_50_0_GA_gbest_bins)\n",
    "np.save(name3, new_50_0_GA_average_bins)\n",
    "np.save(name4, new_50_0_GA_best_bins)\n",
    "np.save(name5, new_50_0_GA_worst_bins)\n",
    "np.save(name6, new_50_0_GA_fitness)"
   ],
   "outputs": [
    {
     "output_type": "stream",
     "name": "stdout",
     "text": [
      "0 done\n",
      "1 done\n",
      "2 done\n",
      "3 done\n",
      "4 done\n",
      "5 done\n",
      "6 done\n",
      "7 done\n",
      "8 done\n",
      "9 done\n"
     ]
    }
   ],
   "metadata": {}
  },
  {
   "cell_type": "markdown",
   "source": [
    "### new_50_1"
   ],
   "metadata": {}
  },
  {
   "cell_type": "code",
   "execution_count": 9,
   "source": [
    "new_50_1_GA_runtime = np.zeros(number_average)\n",
    "new_50_1_GA_gbest_bins = np.zeros((number_average))\n",
    "new_50_1_GA_average_bins = np.zeros((number_average, iterations))\n",
    "new_50_1_GA_best_bins = np.zeros((number_average, iterations))\n",
    "new_50_1_GA_worst_bins = np.zeros((number_average, iterations))\n",
    "new_50_1_GA_fitness = np.zeros((number_average, iterations))\n",
    "\n",
    "for i in range(number_average):\n",
    "    GA = GeneticAlgorithm(new_50_1, new_50_container[0], new_50_container[1])\n",
    "    _, new_50_1_GA_gbest_bins[i], new_50_1_GA_average_bins[i], new_50_1_GA_best_bins, new_50_1_GA_worst_bins, new_50_1_GA_runtime[i], new_50_1_GA_fitness[i] = GA.run()\n",
    "    print(str(i) + ' done')\n",
    "    \n",
    "name1 = 'Solutions/new_50_1_GA_runtime.npy'\n",
    "name2 = 'Solutions/new_50_1_GA_gbest_bins.npy'\n",
    "name3 = 'Solutions/new_50_1_GA_average_bins.npy'\n",
    "name4 = 'Solutions/new_50_1_GA_best_bins.npy'\n",
    "name5 = 'Solutions/new_50_1_GA_worst_bins.npy'\n",
    "name6 = 'Solutions/new_50_1_GA_fitness.npy'\n",
    "\n",
    "np.save(name1, new_50_1_GA_runtime)\n",
    "np.save(name2, new_50_1_GA_gbest_bins)\n",
    "np.save(name3, new_50_1_GA_average_bins)\n",
    "np.save(name4, new_50_1_GA_best_bins)\n",
    "np.save(name5, new_50_1_GA_worst_bins)\n",
    "np.save(name6, new_50_1_GA_fitness)"
   ],
   "outputs": [
    {
     "output_type": "stream",
     "name": "stdout",
     "text": [
      "0 done\n",
      "1 done\n",
      "2 done\n",
      "3 done\n",
      "4 done\n",
      "5 done\n",
      "6 done\n",
      "7 done\n",
      "8 done\n",
      "9 done\n"
     ]
    }
   ],
   "metadata": {}
  },
  {
   "cell_type": "markdown",
   "source": [
    "### new_50_2"
   ],
   "metadata": {}
  },
  {
   "cell_type": "code",
   "execution_count": 10,
   "source": [
    "new_50_2_GA_runtime = np.zeros(number_average)\n",
    "new_50_2_GA_gbest_bins = np.zeros((number_average))\n",
    "new_50_2_GA_average_bins = np.zeros((number_average, iterations))\n",
    "new_50_2_GA_best_bins = np.zeros((number_average, iterations))\n",
    "new_50_2_GA_worst_bins = np.zeros((number_average, iterations))\n",
    "new_50_2_GA_fitness = np.zeros((number_average, iterations))\n",
    "\n",
    "for i in range(number_average):\n",
    "    GA = GeneticAlgorithm(new_50_2, new_50_container[0], new_50_container[1])\n",
    "    _, new_50_2_GA_gbest_bins[i], new_50_2_GA_average_bins[i], new_50_2_GA_best_bins, new_50_2_GA_worst_bins, new_50_2_GA_runtime[i], new_50_2_GA_fitness[i] = GA.run()\n",
    "    print(str(i) + ' done')\n",
    "    \n",
    "name1 = 'Solutions/new_50_2_GA_runtime.npy'\n",
    "name2 = 'Solutions/new_50_2_GA_gbest_bins.npy'\n",
    "name3 = 'Solutions/new_50_2_GA_average_bins.npy'\n",
    "name4 = 'Solutions/new_50_2_GA_best_bins.npy'\n",
    "name5 = 'Solutions/new_50_2_GA_worst_bins.npy'\n",
    "name6 = 'Solutions/new_50_2_GA_fitness.npy'\n",
    "\n",
    "np.save(name1, new_50_2_GA_runtime)\n",
    "np.save(name2, new_50_2_GA_gbest_bins)\n",
    "np.save(name3, new_50_2_GA_average_bins)\n",
    "np.save(name4, new_50_2_GA_best_bins)\n",
    "np.save(name5, new_50_2_GA_worst_bins)\n",
    "np.save(name6, new_50_2_GA_fitness)"
   ],
   "outputs": [
    {
     "output_type": "stream",
     "name": "stdout",
     "text": [
      "0 done\n",
      "1 done\n",
      "2 done\n",
      "3 done\n",
      "4 done\n",
      "5 done\n",
      "6 done\n",
      "7 done\n",
      "8 done\n",
      "9 done\n"
     ]
    }
   ],
   "metadata": {}
  },
  {
   "cell_type": "markdown",
   "source": [
    "### new_50_3"
   ],
   "metadata": {}
  },
  {
   "cell_type": "code",
   "execution_count": 11,
   "source": [
    "new_50_3_GA_runtime = np.zeros(number_average)\n",
    "new_50_3_GA_gbest_bins = np.zeros((number_average))\n",
    "new_50_3_GA_average_bins = np.zeros((number_average, iterations))\n",
    "new_50_3_GA_best_bins = np.zeros((number_average, iterations))\n",
    "new_50_3_GA_worst_bins = np.zeros((number_average, iterations))\n",
    "new_50_3_GA_fitness = np.zeros((number_average, iterations))\n",
    "\n",
    "for i in range(number_average):\n",
    "    GA = GeneticAlgorithm(new_50_3, new_50_container[0], new_50_container[1])\n",
    "    _, new_50_3_GA_gbest_bins[i], new_50_3_GA_average_bins[i], new_50_3_GA_best_bins, new_50_3_GA_worst_bins, new_50_3_GA_runtime[i], new_50_3_GA_fitness[i] = GA.run()\n",
    "    print(str(i) + ' done')\n",
    "    \n",
    "name1 = 'Solutions/new_50_3_GA_runtime.npy'\n",
    "name2 = 'Solutions/new_50_3_GA_gbest_bins.npy'\n",
    "name3 = 'Solutions/new_50_3_GA_average_bins.npy'\n",
    "name4 = 'Solutions/new_50_3_GA_best_bins.npy'\n",
    "name5 = 'Solutions/new_50_3_GA_worst_bins.npy'\n",
    "name6 = 'Solutions/new_50_3_GA_fitness.npy'\n",
    "\n",
    "np.save(name1, new_50_3_GA_runtime)\n",
    "np.save(name2, new_50_3_GA_gbest_bins)\n",
    "np.save(name3, new_50_3_GA_average_bins)\n",
    "np.save(name4, new_50_3_GA_best_bins)\n",
    "np.save(name5, new_50_3_GA_worst_bins)\n",
    "np.save(name6, new_50_3_GA_fitness)"
   ],
   "outputs": [
    {
     "output_type": "stream",
     "name": "stdout",
     "text": [
      "0 done\n",
      "1 done\n",
      "2 done\n",
      "3 done\n",
      "4 done\n",
      "5 done\n",
      "6 done\n",
      "7 done\n",
      "8 done\n",
      "9 done\n"
     ]
    }
   ],
   "metadata": {}
  },
  {
   "cell_type": "markdown",
   "source": [
    "### new_50_4"
   ],
   "metadata": {}
  },
  {
   "cell_type": "code",
   "execution_count": 12,
   "source": [
    "new_50_4_GA_runtime = np.zeros(number_average)\n",
    "new_50_4_GA_gbest_bins = np.zeros((number_average))\n",
    "new_50_4_GA_average_bins = np.zeros((number_average, iterations))\n",
    "new_50_4_GA_best_bins = np.zeros((number_average, iterations))\n",
    "new_50_4_GA_worst_bins = np.zeros((number_average, iterations))\n",
    "new_50_4_GA_fitness = np.zeros((number_average, iterations))\n",
    "\n",
    "for i in range(number_average):\n",
    "    GA = GeneticAlgorithm(new_50_4, new_50_container[0], new_50_container[1])\n",
    "    _, new_50_4_GA_gbest_bins[i], new_50_4_GA_average_bins[i], new_50_4_GA_best_bins, new_50_4_GA_worst_bins, new_50_4_GA_runtime[i], new_50_4_GA_fitness[i] = GA.run()\n",
    "    print(str(i) + ' done')\n",
    "    \n",
    "name1 = 'Solutions/new_50_4_GA_runtime.npy'\n",
    "name2 = 'Solutions/new_50_4_GA_gbest_bins.npy'\n",
    "name3 = 'Solutions/new_50_4_GA_average_bins.npy'\n",
    "name4 = 'Solutions/new_50_4_GA_best_bins.npy'\n",
    "name5 = 'Solutions/new_50_4_GA_worst_bins.npy'\n",
    "name6 = 'Solutions/new_50_4_GA_fitness.npy'\n",
    "\n",
    "np.save(name1, new_50_4_GA_runtime)\n",
    "np.save(name2, new_50_4_GA_gbest_bins)\n",
    "np.save(name3, new_50_4_GA_average_bins)\n",
    "np.save(name4, new_50_4_GA_best_bins)\n",
    "np.save(name5, new_50_4_GA_worst_bins)\n",
    "np.save(name6, new_50_4_GA_fitness)"
   ],
   "outputs": [
    {
     "output_type": "stream",
     "name": "stdout",
     "text": [
      "0 done\n",
      "1 done\n",
      "2 done\n",
      "3 done\n",
      "4 done\n",
      "5 done\n",
      "6 done\n",
      "7 done\n",
      "8 done\n",
      "9 done\n"
     ]
    }
   ],
   "metadata": {}
  },
  {
   "cell_type": "markdown",
   "source": [
    "### new_50_5"
   ],
   "metadata": {}
  },
  {
   "cell_type": "code",
   "execution_count": 13,
   "source": [
    "new_50_5_GA_runtime = np.zeros(number_average)\n",
    "new_50_5_GA_gbest_bins = np.zeros((number_average))\n",
    "new_50_5_GA_average_bins = np.zeros((number_average, iterations))\n",
    "new_50_5_GA_best_bins = np.zeros((number_average, iterations))\n",
    "new_50_5_GA_worst_bins = np.zeros((number_average, iterations))\n",
    "new_50_5_GA_fitness = np.zeros((number_average, iterations))\n",
    "\n",
    "for i in range(number_average):\n",
    "    GA = GeneticAlgorithm(new_50_5, new_50_container[0], new_50_container[1])\n",
    "    _, new_50_5_GA_gbest_bins[i], new_50_5_GA_average_bins[i], new_50_5_GA_best_bins, new_50_5_GA_worst_bins, new_50_5_GA_runtime[i], new_50_5_GA_fitness[i] = GA.run()\n",
    "    print(str(i) + ' done')\n",
    "    \n",
    "name1 = 'Solutions/new_50_5_GA_runtime.npy'\n",
    "name2 = 'Solutions/new_50_5_GA_gbest_bins.npy'\n",
    "name3 = 'Solutions/new_50_5_GA_average_bins.npy'\n",
    "name4 = 'Solutions/new_50_5_GA_best_bins.npy'\n",
    "name5 = 'Solutions/new_50_5_GA_worst_bins.npy'\n",
    "name6 = 'Solutions/new_50_5_GA_fitness.npy'\n",
    "\n",
    "np.save(name1, new_50_5_GA_runtime)\n",
    "np.save(name2, new_50_5_GA_gbest_bins)\n",
    "np.save(name3, new_50_5_GA_average_bins)\n",
    "np.save(name4, new_50_5_GA_best_bins)\n",
    "np.save(name5, new_50_5_GA_worst_bins)\n",
    "np.save(name6, new_50_5_GA_fitness)"
   ],
   "outputs": [
    {
     "output_type": "stream",
     "name": "stdout",
     "text": [
      "0 done\n",
      "1 done\n",
      "2 done\n",
      "3 done\n",
      "4 done\n",
      "5 done\n",
      "6 done\n",
      "7 done\n",
      "8 done\n",
      "9 done\n"
     ]
    }
   ],
   "metadata": {}
  },
  {
   "cell_type": "markdown",
   "source": [
    "### new_50_6"
   ],
   "metadata": {}
  },
  {
   "cell_type": "code",
   "execution_count": 14,
   "source": [
    "new_50_6_GA_runtime = np.zeros(number_average)\n",
    "new_50_6_GA_gbest_bins = np.zeros((number_average))\n",
    "new_50_6_GA_average_bins = np.zeros((number_average, iterations))\n",
    "new_50_6_GA_best_bins = np.zeros((number_average, iterations))\n",
    "new_50_6_GA_worst_bins = np.zeros((number_average, iterations))\n",
    "new_50_6_GA_fitness = np.zeros((number_average, iterations))\n",
    "\n",
    "for i in range(number_average):\n",
    "    GA = GeneticAlgorithm(new_50_6, new_50_container[0], new_50_container[1])\n",
    "    _, new_50_6_GA_gbest_bins[i], new_50_6_GA_average_bins[i], new_50_6_GA_best_bins, new_50_6_GA_worst_bins, new_50_6_GA_runtime[i], new_50_6_GA_fitness[i] = GA.run()\n",
    "    print(str(i) + ' done')\n",
    "    \n",
    "name1 = 'Solutions/new_50_6_GA_runtime.npy'\n",
    "name2 = 'Solutions/new_50_6_GA_gbest_bins.npy'\n",
    "name3 = 'Solutions/new_50_6_GA_average_bins.npy'\n",
    "name4 = 'Solutions/new_50_6_GA_best_bins.npy'\n",
    "name5 = 'Solutions/new_50_6_GA_worst_bins.npy'\n",
    "name6 = 'Solutions/new_50_6_GA_fitness.npy'\n",
    "\n",
    "np.save(name1, new_50_6_GA_runtime)\n",
    "np.save(name2, new_50_6_GA_gbest_bins)\n",
    "np.save(name3, new_50_6_GA_average_bins)\n",
    "np.save(name4, new_50_6_GA_best_bins)\n",
    "np.save(name5, new_50_6_GA_worst_bins)\n",
    "np.save(name6, new_50_6_GA_fitness)"
   ],
   "outputs": [
    {
     "output_type": "stream",
     "name": "stdout",
     "text": [
      "0 done\n",
      "1 done\n",
      "2 done\n",
      "3 done\n",
      "4 done\n",
      "5 done\n",
      "6 done\n",
      "7 done\n",
      "8 done\n",
      "9 done\n"
     ]
    }
   ],
   "metadata": {}
  },
  {
   "cell_type": "markdown",
   "source": [
    "### new_50_7"
   ],
   "metadata": {}
  },
  {
   "cell_type": "code",
   "execution_count": 15,
   "source": [
    "new_50_7_GA_runtime = np.zeros(number_average)\n",
    "new_50_7_GA_gbest_bins = np.zeros((number_average))\n",
    "new_50_7_GA_average_bins = np.zeros((number_average, iterations))\n",
    "new_50_7_GA_best_bins = np.zeros((number_average, iterations))\n",
    "new_50_7_GA_worst_bins = np.zeros((number_average, iterations))\n",
    "new_50_7_GA_fitness = np.zeros((number_average, iterations))\n",
    "\n",
    "for i in range(number_average):\n",
    "    GA = GeneticAlgorithm(new_50_7, new_50_container[0], new_50_container[1])\n",
    "    _, new_50_7_GA_gbest_bins[i], new_50_7_GA_average_bins[i], new_50_7_GA_best_bins, new_50_7_GA_worst_bins, new_50_7_GA_runtime[i], new_50_7_GA_fitness[i] = GA.run()\n",
    "    print(str(i) + ' done')\n",
    "    \n",
    "name1 = 'Solutions/new_50_7_GA_runtime.npy'\n",
    "name2 = 'Solutions/new_50_7_GA_gbest_bins.npy'\n",
    "name3 = 'Solutions/new_50_7_GA_average_bins.npy'\n",
    "name4 = 'Solutions/new_50_7_GA_best_bins.npy'\n",
    "name5 = 'Solutions/new_50_7_GA_worst_bins.npy'\n",
    "name6 = 'Solutions/new_50_7_GA_fitness.npy'\n",
    "\n",
    "np.save(name1, new_50_7_GA_runtime)\n",
    "np.save(name2, new_50_7_GA_gbest_bins)\n",
    "np.save(name3, new_50_7_GA_average_bins)\n",
    "np.save(name4, new_50_7_GA_best_bins)\n",
    "np.save(name5, new_50_7_GA_worst_bins)\n",
    "np.save(name6, new_50_7_GA_fitness)"
   ],
   "outputs": [
    {
     "output_type": "stream",
     "name": "stdout",
     "text": [
      "0 done\n",
      "1 done\n",
      "2 done\n",
      "3 done\n",
      "4 done\n",
      "5 done\n",
      "6 done\n",
      "7 done\n",
      "8 done\n",
      "9 done\n"
     ]
    }
   ],
   "metadata": {}
  },
  {
   "cell_type": "markdown",
   "source": [
    "### new_50_8"
   ],
   "metadata": {}
  },
  {
   "cell_type": "code",
   "execution_count": 16,
   "source": [
    "new_50_8_GA_runtime = np.zeros(number_average)\n",
    "new_50_8_GA_gbest_bins = np.zeros((number_average))\n",
    "new_50_8_GA_average_bins = np.zeros((number_average, iterations))\n",
    "new_50_8_GA_best_bins = np.zeros((number_average, iterations))\n",
    "new_50_8_GA_worst_bins = np.zeros((number_average, iterations))\n",
    "new_50_8_GA_fitness = np.zeros((number_average, iterations))\n",
    "\n",
    "for i in range(number_average):\n",
    "    GA = GeneticAlgorithm(new_50_8, new_50_container[0], new_50_container[1])\n",
    "    _, new_50_8_GA_gbest_bins[i], new_50_8_GA_average_bins[i], new_50_8_GA_best_bins, new_50_8_GA_worst_bins, new_50_8_GA_runtime[i], new_50_8_GA_fitness[i] = GA.run()\n",
    "    print(str(i) + ' done')\n",
    "    \n",
    "name1 = 'Solutions/new_50_8_GA_runtime.npy'\n",
    "name2 = 'Solutions/new_50_8_GA_gbest_bins.npy'\n",
    "name3 = 'Solutions/new_50_8_GA_average_bins.npy'\n",
    "name4 = 'Solutions/new_50_8_GA_best_bins.npy'\n",
    "name5 = 'Solutions/new_50_8_GA_worst_bins.npy'\n",
    "name6 = 'Solutions/new_50_8_GA_fitness.npy'\n",
    "\n",
    "np.save(name1, new_50_8_GA_runtime)\n",
    "np.save(name2, new_50_8_GA_gbest_bins)\n",
    "np.save(name3, new_50_8_GA_average_bins)\n",
    "np.save(name4, new_50_8_GA_best_bins)\n",
    "np.save(name5, new_50_8_GA_worst_bins)\n",
    "np.save(name6, new_50_8_GA_fitness)"
   ],
   "outputs": [
    {
     "output_type": "stream",
     "name": "stdout",
     "text": [
      "0 done\n",
      "1 done\n",
      "2 done\n",
      "3 done\n",
      "4 done\n",
      "5 done\n",
      "6 done\n",
      "7 done\n",
      "8 done\n",
      "9 done\n"
     ]
    }
   ],
   "metadata": {}
  },
  {
   "cell_type": "markdown",
   "source": [
    "### new_50_9"
   ],
   "metadata": {}
  },
  {
   "cell_type": "code",
   "execution_count": 17,
   "source": [
    "new_50_9_GA_runtime = np.zeros(number_average)\n",
    "new_50_9_GA_gbest_bins = np.zeros((number_average))\n",
    "new_50_9_GA_average_bins = np.zeros((number_average, iterations))\n",
    "new_50_9_GA_best_bins = np.zeros((number_average, iterations))\n",
    "new_50_9_GA_worst_bins = np.zeros((number_average, iterations))\n",
    "new_50_9_GA_fitness = np.zeros((number_average, iterations))\n",
    "\n",
    "for i in range(number_average):\n",
    "    GA = GeneticAlgorithm(new_50_9, new_50_container[0], new_50_container[1])\n",
    "    _, new_50_9_GA_gbest_bins[i], new_50_9_GA_average_bins[i], new_50_9_GA_best_bins, new_50_9_GA_worst_bins, new_50_9_GA_runtime[i], new_50_9_GA_fitness[i] = GA.run()\n",
    "    print(str(i) + ' done')\n",
    "    \n",
    "name1 = 'Solutions/new_50_9_GA_runtime.npy'\n",
    "name2 = 'Solutions/new_50_9_GA_gbest_bins.npy'\n",
    "name3 = 'Solutions/new_50_9_GA_average_bins.npy'\n",
    "name4 = 'Solutions/new_50_9_GA_best_bins.npy'\n",
    "name5 = 'Solutions/new_50_9_GA_worst_bins.npy'\n",
    "name6 = 'Solutions/new_50_9_GA_fitness.npy'\n",
    "\n",
    "np.save(name1, new_50_9_GA_runtime)\n",
    "np.save(name2, new_50_9_GA_gbest_bins)\n",
    "np.save(name3, new_50_9_GA_average_bins)\n",
    "np.save(name4, new_50_9_GA_best_bins)\n",
    "np.save(name5, new_50_9_GA_worst_bins)\n",
    "np.save(name6, new_50_9_GA_fitness)"
   ],
   "outputs": [
    {
     "output_type": "stream",
     "name": "stdout",
     "text": [
      "0 done\n",
      "1 done\n",
      "2 done\n",
      "3 done\n",
      "4 done\n",
      "5 done\n",
      "6 done\n",
      "7 done\n",
      "8 done\n",
      "9 done\n"
     ]
    }
   ],
   "metadata": {}
  },
  {
   "cell_type": "markdown",
   "source": [
    "## new_100"
   ],
   "metadata": {}
  },
  {
   "cell_type": "markdown",
   "source": [
    "### new_100_0"
   ],
   "metadata": {}
  },
  {
   "cell_type": "code",
   "execution_count": 18,
   "source": [
    "new_100_0_GA_runtime = np.zeros(number_average)\n",
    "new_100_0_GA_gbest_bins = np.zeros((number_average))\n",
    "new_100_0_GA_average_bins = np.zeros((number_average, iterations))\n",
    "new_100_0_GA_best_bins = np.zeros((number_average, iterations))\n",
    "new_100_0_GA_worst_bins = np.zeros((number_average, iterations))\n",
    "new_100_0_GA_fitness = np.zeros((number_average, iterations))\n",
    "\n",
    "for i in range(number_average):\n",
    "    GA = GeneticAlgorithm(new_100_0, new_100_container[0], new_100_container[1])\n",
    "    _, new_100_0_GA_gbest_bins[i], new_100_0_GA_average_bins[i], new_100_0_GA_best_bins, new_100_0_GA_worst_bins, new_100_0_GA_runtime[i], new_100_0_GA_fitness[i] = GA.run()\n",
    "    print(str(i) + ' done')\n",
    "    \n",
    "name1 = 'Solutions/new_100_0_GA_runtime.npy'\n",
    "name2 = 'Solutions/new_100_0_GA_gbest_bins.npy'\n",
    "name3 = 'Solutions/new_100_0_GA_average_bins.npy'\n",
    "name4 = 'Solutions/new_100_0_GA_best_bins.npy'\n",
    "name5 = 'Solutions/new_100_0_GA_worst_bins.npy'\n",
    "name6 = 'Solutions/new_100_0_GA_fitness.npy'\n",
    "\n",
    "np.save(name1, new_100_0_GA_runtime)\n",
    "np.save(name2, new_100_0_GA_gbest_bins)\n",
    "np.save(name3, new_100_0_GA_average_bins)\n",
    "np.save(name4, new_100_0_GA_best_bins)\n",
    "np.save(name5, new_100_0_GA_worst_bins)\n",
    "np.save(name6, new_100_0_GA_fitness)"
   ],
   "outputs": [
    {
     "output_type": "stream",
     "name": "stdout",
     "text": [
      "0 done\n",
      "1 done\n",
      "2 done\n",
      "3 done\n",
      "4 done\n",
      "5 done\n",
      "6 done\n",
      "7 done\n",
      "8 done\n",
      "9 done\n"
     ]
    }
   ],
   "metadata": {}
  },
  {
   "cell_type": "markdown",
   "source": [
    "### new_100_1"
   ],
   "metadata": {}
  },
  {
   "cell_type": "code",
   "execution_count": 19,
   "source": [
    "new_100_1_GA_runtime = np.zeros(number_average)\n",
    "new_100_1_GA_gbest_bins = np.zeros((number_average))\n",
    "new_100_1_GA_average_bins = np.zeros((number_average, iterations))\n",
    "new_100_1_GA_best_bins = np.zeros((number_average, iterations))\n",
    "new_100_1_GA_worst_bins = np.zeros((number_average, iterations))\n",
    "new_100_1_GA_fitness = np.zeros((number_average, iterations))\n",
    "\n",
    "for i in range(number_average):\n",
    "    GA = GeneticAlgorithm(new_100_1, new_100_container[0], new_100_container[1])\n",
    "    _, new_100_1_GA_gbest_bins[i], new_100_1_GA_average_bins[i], new_100_1_GA_best_bins, new_100_1_GA_worst_bins, new_100_1_GA_runtime[i], new_100_1_GA_fitness[i] = GA.run()\n",
    "    print(str(i) + ' done')\n",
    "    \n",
    "name1 = 'Solutions/new_100_1_GA_runtime.npy'\n",
    "name2 = 'Solutions/new_100_1_GA_gbest_bins.npy'\n",
    "name3 = 'Solutions/new_100_1_GA_average_bins.npy'\n",
    "name4 = 'Solutions/new_100_1_GA_best_bins.npy'\n",
    "name5 = 'Solutions/new_100_1_GA_worst_bins.npy'\n",
    "name6 = 'Solutions/new_100_1_GA_fitness.npy'\n",
    "\n",
    "np.save(name1, new_100_1_GA_runtime)\n",
    "np.save(name2, new_100_1_GA_gbest_bins)\n",
    "np.save(name3, new_100_1_GA_average_bins)\n",
    "np.save(name4, new_100_1_GA_best_bins)\n",
    "np.save(name5, new_100_1_GA_worst_bins)\n",
    "np.save(name6, new_100_1_GA_fitness)"
   ],
   "outputs": [
    {
     "output_type": "stream",
     "name": "stdout",
     "text": [
      "0 done\n",
      "1 done\n",
      "2 done\n",
      "3 done\n",
      "4 done\n",
      "5 done\n",
      "6 done\n",
      "7 done\n",
      "8 done\n",
      "9 done\n"
     ]
    }
   ],
   "metadata": {}
  },
  {
   "cell_type": "markdown",
   "source": [
    "### new_100_2"
   ],
   "metadata": {}
  },
  {
   "cell_type": "code",
   "execution_count": 20,
   "source": [
    "new_100_2_GA_runtime = np.zeros(number_average)\n",
    "new_100_2_GA_gbest_bins = np.zeros((number_average))\n",
    "new_100_2_GA_average_bins = np.zeros((number_average, iterations))\n",
    "new_100_2_GA_best_bins = np.zeros((number_average, iterations))\n",
    "new_100_2_GA_worst_bins = np.zeros((number_average, iterations))\n",
    "new_100_2_GA_fitness = np.zeros((number_average, iterations))\n",
    "\n",
    "for i in range(number_average):\n",
    "    GA = GeneticAlgorithm(new_100_2, new_100_container[0], new_100_container[1])\n",
    "    _, new_100_2_GA_gbest_bins[i], new_100_2_GA_average_bins[i], new_100_2_GA_best_bins, new_100_2_GA_worst_bins, new_100_2_GA_runtime[i], new_100_2_GA_fitness[i] = GA.run()\n",
    "    print(str(i) + ' done')\n",
    "    \n",
    "name1 = 'Solutions/new_100_2_GA_runtime.npy'\n",
    "name2 = 'Solutions/new_100_2_GA_gbest_bins.npy'\n",
    "name3 = 'Solutions/new_100_2_GA_average_bins.npy'\n",
    "name4 = 'Solutions/new_100_2_GA_best_bins.npy'\n",
    "name5 = 'Solutions/new_100_2_GA_worst_bins.npy'\n",
    "name6 = 'Solutions/new_100_2_GA_fitness.npy'\n",
    "\n",
    "np.save(name1, new_100_2_GA_runtime)\n",
    "np.save(name2, new_100_2_GA_gbest_bins)\n",
    "np.save(name3, new_100_2_GA_average_bins)\n",
    "np.save(name4, new_100_2_GA_best_bins)\n",
    "np.save(name5, new_100_2_GA_worst_bins)\n",
    "np.save(name6, new_100_2_GA_fitness)"
   ],
   "outputs": [
    {
     "output_type": "stream",
     "name": "stdout",
     "text": [
      "0 done\n",
      "1 done\n",
      "2 done\n",
      "3 done\n",
      "4 done\n",
      "5 done\n",
      "6 done\n",
      "7 done\n",
      "8 done\n",
      "9 done\n"
     ]
    }
   ],
   "metadata": {}
  },
  {
   "cell_type": "markdown",
   "source": [
    "### new_100_3"
   ],
   "metadata": {}
  },
  {
   "cell_type": "code",
   "execution_count": 21,
   "source": [
    "new_100_3_GA_runtime = np.zeros(number_average)\n",
    "new_100_3_GA_gbest_bins = np.zeros((number_average))\n",
    "new_100_3_GA_average_bins = np.zeros((number_average, iterations))\n",
    "new_100_3_GA_best_bins = np.zeros((number_average, iterations))\n",
    "new_100_3_GA_worst_bins = np.zeros((number_average, iterations))\n",
    "new_100_3_GA_fitness = np.zeros((number_average, iterations))\n",
    "\n",
    "for i in range(number_average):\n",
    "    GA = GeneticAlgorithm(new_100_3, new_100_container[0], new_100_container[1])\n",
    "    _, new_100_3_GA_gbest_bins[i], new_100_3_GA_average_bins[i], new_100_3_GA_best_bins, new_100_3_GA_worst_bins, new_100_3_GA_runtime[i], new_100_3_GA_fitness[i] = GA.run()\n",
    "    print(str(i) + ' done')\n",
    "    \n",
    "name1 = 'Solutions/new_100_3_GA_runtime.npy'\n",
    "name2 = 'Solutions/new_100_3_GA_gbest_bins.npy'\n",
    "name3 = 'Solutions/new_100_3_GA_average_bins.npy'\n",
    "name4 = 'Solutions/new_100_3_GA_best_bins.npy'\n",
    "name5 = 'Solutions/new_100_3_GA_worst_bins.npy'\n",
    "name6 = 'Solutions/new_100_3_GA_fitness.npy'\n",
    "\n",
    "np.save(name1, new_100_3_GA_runtime)\n",
    "np.save(name2, new_100_3_GA_gbest_bins)\n",
    "np.save(name3, new_100_3_GA_average_bins)\n",
    "np.save(name4, new_100_3_GA_best_bins)\n",
    "np.save(name5, new_100_3_GA_worst_bins)\n",
    "np.save(name6, new_100_3_GA_fitness)"
   ],
   "outputs": [
    {
     "output_type": "stream",
     "name": "stdout",
     "text": [
      "0 done\n",
      "1 done\n",
      "2 done\n",
      "3 done\n",
      "4 done\n",
      "5 done\n",
      "6 done\n",
      "7 done\n",
      "8 done\n",
      "9 done\n"
     ]
    }
   ],
   "metadata": {}
  },
  {
   "cell_type": "markdown",
   "source": [
    "### new_100_4"
   ],
   "metadata": {}
  },
  {
   "cell_type": "code",
   "execution_count": 22,
   "source": [
    "new_100_4_GA_runtime = np.zeros(number_average)\n",
    "new_100_4_GA_gbest_bins = np.zeros((number_average))\n",
    "new_100_4_GA_average_bins = np.zeros((number_average, iterations))\n",
    "new_100_4_GA_best_bins = np.zeros((number_average, iterations))\n",
    "new_100_4_GA_worst_bins = np.zeros((number_average, iterations))\n",
    "new_100_4_GA_fitness = np.zeros((number_average, iterations))\n",
    "\n",
    "for i in range(number_average):\n",
    "    GA = GeneticAlgorithm(new_100_4, new_100_container[0], new_100_container[1])\n",
    "    _, new_100_4_GA_gbest_bins[i], new_100_4_GA_average_bins[i], new_100_4_GA_best_bins, new_100_4_GA_worst_bins, new_100_4_GA_runtime[i], new_100_4_GA_fitness[i] = GA.run()\n",
    "    print(str(i) + ' done')\n",
    "    \n",
    "name1 = 'Solutions/new_100_4_GA_runtime.npy'\n",
    "name2 = 'Solutions/new_100_4_GA_gbest_bins.npy'\n",
    "name3 = 'Solutions/new_100_4_GA_average_bins.npy'\n",
    "name4 = 'Solutions/new_100_4_GA_best_bins.npy'\n",
    "name5 = 'Solutions/new_100_4_GA_worst_bins.npy'\n",
    "name6 = 'Solutions/new_100_4_GA_fitness.npy'\n",
    "\n",
    "np.save(name1, new_100_4_GA_runtime)\n",
    "np.save(name2, new_100_4_GA_gbest_bins)\n",
    "np.save(name3, new_100_4_GA_average_bins)\n",
    "np.save(name4, new_100_4_GA_best_bins)\n",
    "np.save(name5, new_100_4_GA_worst_bins)\n",
    "np.save(name6, new_100_4_GA_fitness)"
   ],
   "outputs": [
    {
     "output_type": "stream",
     "name": "stdout",
     "text": [
      "0 done\n",
      "1 done\n",
      "2 done\n",
      "3 done\n",
      "4 done\n",
      "5 done\n",
      "6 done\n",
      "7 done\n",
      "8 done\n",
      "9 done\n"
     ]
    }
   ],
   "metadata": {}
  },
  {
   "cell_type": "markdown",
   "source": [
    "### new_100_5"
   ],
   "metadata": {}
  },
  {
   "cell_type": "code",
   "execution_count": 23,
   "source": [
    "new_100_5_GA_runtime = np.zeros(number_average)\n",
    "new_100_5_GA_gbest_bins = np.zeros((number_average))\n",
    "new_100_5_GA_average_bins = np.zeros((number_average, iterations))\n",
    "new_100_5_GA_best_bins = np.zeros((number_average, iterations))\n",
    "new_100_5_GA_worst_bins = np.zeros((number_average, iterations))\n",
    "new_100_5_GA_fitness = np.zeros((number_average, iterations))\n",
    "\n",
    "for i in range(number_average):\n",
    "    GA = GeneticAlgorithm(new_100_5, new_100_container[0], new_100_container[1])\n",
    "    _, new_100_5_GA_gbest_bins[i], new_100_5_GA_average_bins[i], new_100_5_GA_best_bins, new_100_5_GA_worst_bins, new_100_5_GA_runtime[i], new_100_5_GA_fitness[i] = GA.run()\n",
    "    print(str(i) + ' done')\n",
    "    \n",
    "name1 = 'Solutions/new_100_5_GA_runtime.npy'\n",
    "name2 = 'Solutions/new_100_5_GA_gbest_bins.npy'\n",
    "name3 = 'Solutions/new_100_5_GA_average_bins.npy'\n",
    "name4 = 'Solutions/new_100_5_GA_best_bins.npy'\n",
    "name5 = 'Solutions/new_100_5_GA_worst_bins.npy'\n",
    "name6 = 'Solutions/new_100_5_GA_fitness.npy'\n",
    "\n",
    "np.save(name1, new_100_5_GA_runtime)\n",
    "np.save(name2, new_100_5_GA_gbest_bins)\n",
    "np.save(name3, new_100_5_GA_average_bins)\n",
    "np.save(name4, new_100_5_GA_best_bins)\n",
    "np.save(name5, new_100_5_GA_worst_bins)\n",
    "np.save(name6, new_100_5_GA_fitness)"
   ],
   "outputs": [
    {
     "output_type": "stream",
     "name": "stdout",
     "text": [
      "0 done\n",
      "1 done\n",
      "2 done\n",
      "3 done\n",
      "4 done\n",
      "5 done\n",
      "6 done\n",
      "7 done\n",
      "8 done\n",
      "9 done\n"
     ]
    }
   ],
   "metadata": {}
  },
  {
   "cell_type": "markdown",
   "source": [
    "### new_100_6"
   ],
   "metadata": {}
  },
  {
   "cell_type": "code",
   "execution_count": 24,
   "source": [
    "new_100_6_GA_runtime = np.zeros(number_average)\n",
    "new_100_6_GA_gbest_bins = np.zeros((number_average))\n",
    "new_100_6_GA_average_bins = np.zeros((number_average, iterations))\n",
    "new_100_6_GA_best_bins = np.zeros((number_average, iterations))\n",
    "new_100_6_GA_worst_bins = np.zeros((number_average, iterations))\n",
    "new_100_6_GA_fitness = np.zeros((number_average, iterations))\n",
    "\n",
    "for i in range(number_average):\n",
    "    GA = GeneticAlgorithm(new_100_6, new_100_container[0], new_100_container[1])\n",
    "    _, new_100_6_GA_gbest_bins[i], new_100_6_GA_average_bins[i], new_100_6_GA_best_bins, new_100_6_GA_worst_bins, new_100_6_GA_runtime[i], new_100_6_GA_fitness[i] = GA.run()\n",
    "    print(str(i) + ' done')\n",
    "    \n",
    "name1 = 'Solutions/new_100_6_GA_runtime.npy'\n",
    "name2 = 'Solutions/new_100_6_GA_gbest_bins.npy'\n",
    "name3 = 'Solutions/new_100_6_GA_average_bins.npy'\n",
    "name4 = 'Solutions/new_100_6_GA_best_bins.npy'\n",
    "name5 = 'Solutions/new_100_6_GA_worst_bins.npy'\n",
    "name6 = 'Solutions/new_100_6_GA_fitness.npy'\n",
    "\n",
    "np.save(name1, new_100_6_GA_runtime)\n",
    "np.save(name2, new_100_6_GA_gbest_bins)\n",
    "np.save(name3, new_100_6_GA_average_bins)\n",
    "np.save(name4, new_100_6_GA_best_bins)\n",
    "np.save(name5, new_100_6_GA_worst_bins)\n",
    "np.save(name6, new_100_6_GA_fitness)"
   ],
   "outputs": [
    {
     "output_type": "stream",
     "name": "stdout",
     "text": [
      "0 done\n",
      "1 done\n",
      "2 done\n",
      "3 done\n",
      "4 done\n",
      "5 done\n",
      "6 done\n",
      "7 done\n",
      "8 done\n",
      "9 done\n"
     ]
    }
   ],
   "metadata": {}
  },
  {
   "cell_type": "markdown",
   "source": [
    "### new_100_7"
   ],
   "metadata": {}
  },
  {
   "cell_type": "code",
   "execution_count": 25,
   "source": [
    "new_100_7_GA_runtime = np.zeros(number_average)\n",
    "new_100_7_GA_gbest_bins = np.zeros((number_average))\n",
    "new_100_7_GA_average_bins = np.zeros((number_average, iterations))\n",
    "new_100_7_GA_best_bins = np.zeros((number_average, iterations))\n",
    "new_100_7_GA_worst_bins = np.zeros((number_average, iterations))\n",
    "new_100_7_GA_fitness = np.zeros((number_average, iterations))\n",
    "\n",
    "for i in range(number_average):\n",
    "    GA = GeneticAlgorithm(new_100_7, new_100_container[0], new_100_container[1])\n",
    "    _, new_100_7_GA_gbest_bins[i], new_100_7_GA_average_bins[i], new_100_7_GA_best_bins, new_100_7_GA_worst_bins, new_100_7_GA_runtime[i], new_100_7_GA_fitness[i] = GA.run()\n",
    "    print(str(i) + ' done')\n",
    "    \n",
    "name1 = 'Solutions/new_100_7_GA_runtime.npy'\n",
    "name2 = 'Solutions/new_100_7_GA_gbest_bins.npy'\n",
    "name3 = 'Solutions/new_100_7_GA_average_bins.npy'\n",
    "name4 = 'Solutions/new_100_7_GA_best_bins.npy'\n",
    "name5 = 'Solutions/new_100_7_GA_worst_bins.npy'\n",
    "name6 = 'Solutions/new_100_7_GA_fitness.npy'\n",
    "\n",
    "np.save(name1, new_100_7_GA_runtime)\n",
    "np.save(name2, new_100_7_GA_gbest_bins)\n",
    "np.save(name3, new_100_7_GA_average_bins)\n",
    "np.save(name4, new_100_7_GA_best_bins)\n",
    "np.save(name5, new_100_7_GA_worst_bins)\n",
    "np.save(name6, new_100_7_GA_fitness)"
   ],
   "outputs": [
    {
     "output_type": "stream",
     "name": "stdout",
     "text": [
      "0 done\n",
      "1 done\n",
      "2 done\n",
      "3 done\n",
      "4 done\n",
      "5 done\n",
      "6 done\n",
      "7 done\n",
      "8 done\n",
      "9 done\n"
     ]
    }
   ],
   "metadata": {}
  },
  {
   "cell_type": "markdown",
   "source": [
    "### new_100_8"
   ],
   "metadata": {}
  },
  {
   "cell_type": "code",
   "execution_count": 26,
   "source": [
    "new_100_8_GA_runtime = np.zeros(number_average)\n",
    "new_100_8_GA_gbest_bins = np.zeros((number_average))\n",
    "new_100_8_GA_average_bins = np.zeros((number_average, iterations))\n",
    "new_100_8_GA_best_bins = np.zeros((number_average, iterations))\n",
    "new_100_8_GA_worst_bins = np.zeros((number_average, iterations))\n",
    "new_100_8_GA_fitness = np.zeros((number_average, iterations))\n",
    "\n",
    "for i in range(number_average):\n",
    "    GA = GeneticAlgorithm(new_100_8, new_100_container[0], new_100_container[1])\n",
    "    _, new_100_8_GA_gbest_bins[i], new_100_8_GA_average_bins[i], new_100_8_GA_best_bins, new_100_8_GA_worst_bins, new_100_8_GA_runtime[i], new_100_8_GA_fitness[i] = GA.run()\n",
    "    print(str(i) + ' done')\n",
    "    \n",
    "name1 = 'Solutions/new_100_8_GA_runtime.npy'\n",
    "name2 = 'Solutions/new_100_8_GA_gbest_bins.npy'\n",
    "name3 = 'Solutions/new_100_8_GA_average_bins.npy'\n",
    "name4 = 'Solutions/new_100_8_GA_best_bins.npy'\n",
    "name5 = 'Solutions/new_100_8_GA_worst_bins.npy'\n",
    "name6 = 'Solutions/new_100_8_GA_fitness.npy'\n",
    "\n",
    "np.save(name1, new_100_8_GA_runtime)\n",
    "np.save(name2, new_100_8_GA_gbest_bins)\n",
    "np.save(name3, new_100_8_GA_average_bins)\n",
    "np.save(name4, new_100_8_GA_best_bins)\n",
    "np.save(name5, new_100_8_GA_worst_bins)\n",
    "np.save(name6, new_100_8_GA_fitness)"
   ],
   "outputs": [
    {
     "output_type": "stream",
     "name": "stdout",
     "text": [
      "0 done\n",
      "1 done\n",
      "2 done\n",
      "3 done\n",
      "4 done\n",
      "5 done\n",
      "6 done\n",
      "7 done\n",
      "8 done\n",
      "9 done\n"
     ]
    }
   ],
   "metadata": {}
  },
  {
   "cell_type": "markdown",
   "source": [
    "### new_100_9"
   ],
   "metadata": {}
  },
  {
   "cell_type": "code",
   "execution_count": 27,
   "source": [
    "new_100_9_GA_runtime = np.zeros(number_average)\n",
    "new_100_9_GA_gbest_bins = np.zeros((number_average))\n",
    "new_100_9_GA_average_bins = np.zeros((number_average, iterations))\n",
    "new_100_9_GA_best_bins = np.zeros((number_average, iterations))\n",
    "new_100_9_GA_worst_bins = np.zeros((number_average, iterations))\n",
    "new_100_9_GA_fitness = np.zeros((number_average, iterations))\n",
    "\n",
    "for i in range(number_average):\n",
    "    GA = GeneticAlgorithm(new_100_9, new_100_container[0], new_100_container[1])\n",
    "    _, new_100_9_GA_gbest_bins[i], new_100_9_GA_average_bins[i], new_100_9_GA_best_bins, new_100_9_GA_worst_bins, new_100_9_GA_runtime[i], new_100_9_GA_fitness[i] = GA.run()\n",
    "    print(str(i) + ' done')\n",
    "    \n",
    "name1 = 'Solutions/new_100_9_GA_runtime.npy'\n",
    "name2 = 'Solutions/new_100_9_GA_gbest_bins.npy'\n",
    "name3 = 'Solutions/new_100_9_GA_average_bins.npy'\n",
    "name4 = 'Solutions/new_100_9_GA_best_bins.npy'\n",
    "name5 = 'Solutions/new_100_9_GA_worst_bins.npy'\n",
    "name6 = 'Solutions/new_100_9_GA_fitness.npy'\n",
    "\n",
    "np.save(name1, new_100_9_GA_runtime)\n",
    "np.save(name2, new_100_9_GA_gbest_bins)\n",
    "np.save(name3, new_100_9_GA_average_bins)\n",
    "np.save(name4, new_100_9_GA_best_bins)\n",
    "np.save(name5, new_100_9_GA_worst_bins)\n",
    "np.save(name6, new_100_9_GA_fitness)"
   ],
   "outputs": [
    {
     "output_type": "stream",
     "name": "stdout",
     "text": [
      "0 done\n",
      "1 done\n",
      "2 done\n",
      "3 done\n",
      "4 done\n",
      "5 done\n",
      "6 done\n",
      "7 done\n",
      "8 done\n",
      "9 done\n"
     ]
    }
   ],
   "metadata": {}
  },
  {
   "cell_type": "markdown",
   "source": [
    "## new_250"
   ],
   "metadata": {}
  },
  {
   "cell_type": "markdown",
   "source": [
    "### new_250_0"
   ],
   "metadata": {}
  },
  {
   "cell_type": "code",
   "execution_count": 28,
   "source": [
    "new_250_0_GA_runtime = np.zeros(number_average)\n",
    "new_250_0_GA_gbest_bins = np.zeros((number_average))\n",
    "new_250_0_GA_average_bins = np.zeros((number_average, iterations))\n",
    "new_250_0_GA_best_bins = np.zeros((number_average, iterations))\n",
    "new_250_0_GA_worst_bins = np.zeros((number_average, iterations))\n",
    "new_250_0_GA_fitness = np.zeros((number_average, iterations))\n",
    "\n",
    "for i in range(number_average):\n",
    "    GA = GeneticAlgorithm(new_250_0, new_250_container[0], new_250_container[1])\n",
    "    _, new_250_0_GA_gbest_bins[i], new_250_0_GA_average_bins[i], new_250_0_GA_best_bins, new_250_0_GA_worst_bins, new_250_0_GA_runtime[i], new_250_0_GA_fitness[i] = GA.run()\n",
    "    print(str(i) + ' done')\n",
    "    \n",
    "name1 = 'Solutions/new_250_0_GA_runtime.npy'\n",
    "name2 = 'Solutions/new_250_0_GA_gbest_bins.npy'\n",
    "name3 = 'Solutions/new_250_0_GA_average_bins.npy'\n",
    "name4 = 'Solutions/new_250_0_GA_best_bins.npy'\n",
    "name5 = 'Solutions/new_250_0_GA_worst_bins.npy'\n",
    "name6 = 'Solutions/new_250_0_GA_fitness.npy'\n",
    "\n",
    "np.save(name1, new_250_0_GA_runtime)\n",
    "np.save(name2, new_250_0_GA_gbest_bins)\n",
    "np.save(name3, new_250_0_GA_average_bins)\n",
    "np.save(name4, new_250_0_GA_best_bins)\n",
    "np.save(name5, new_250_0_GA_worst_bins)\n",
    "np.save(name6, new_250_0_GA_fitness)"
   ],
   "outputs": [
    {
     "output_type": "stream",
     "name": "stdout",
     "text": [
      "0 done\n",
      "1 done\n",
      "2 done\n",
      "3 done\n",
      "4 done\n",
      "5 done\n",
      "6 done\n",
      "7 done\n",
      "8 done\n",
      "9 done\n"
     ]
    }
   ],
   "metadata": {}
  },
  {
   "cell_type": "markdown",
   "source": [
    "### new_250_1"
   ],
   "metadata": {}
  },
  {
   "cell_type": "code",
   "execution_count": 29,
   "source": [
    "new_250_1_GA_runtime = np.zeros(number_average)\n",
    "new_250_1_GA_gbest_bins = np.zeros((number_average))\n",
    "new_250_1_GA_average_bins = np.zeros((number_average, iterations))\n",
    "new_250_1_GA_best_bins = np.zeros((number_average, iterations))\n",
    "new_250_1_GA_worst_bins = np.zeros((number_average, iterations))\n",
    "new_250_1_GA_fitness = np.zeros((number_average, iterations))\n",
    "\n",
    "for i in range(number_average):\n",
    "    GA = GeneticAlgorithm(new_250_1, new_250_container[0], new_250_container[1])\n",
    "    _, new_250_1_GA_gbest_bins[i], new_250_1_GA_average_bins[i], new_250_1_GA_best_bins, new_250_1_GA_worst_bins, new_250_1_GA_runtime[i], new_250_1_GA_fitness[i] = GA.run()\n",
    "    print(str(i) + ' done')\n",
    "    \n",
    "name1 = 'Solutions/new_250_1_GA_runtime.npy'\n",
    "name2 = 'Solutions/new_250_1_GA_gbest_bins.npy'\n",
    "name3 = 'Solutions/new_250_1_GA_average_bins.npy'\n",
    "name4 = 'Solutions/new_250_1_GA_best_bins.npy'\n",
    "name5 = 'Solutions/new_250_1_GA_worst_bins.npy'\n",
    "name6 = 'Solutions/new_250_1_GA_fitness.npy'\n",
    "\n",
    "np.save(name1, new_250_1_GA_runtime)\n",
    "np.save(name2, new_250_1_GA_gbest_bins)\n",
    "np.save(name3, new_250_1_GA_average_bins)\n",
    "np.save(name4, new_250_1_GA_best_bins)\n",
    "np.save(name5, new_250_1_GA_worst_bins)\n",
    "np.save(name6, new_250_1_GA_fitness)"
   ],
   "outputs": [
    {
     "output_type": "stream",
     "name": "stdout",
     "text": [
      "0 done\n",
      "1 done\n",
      "2 done\n",
      "3 done\n",
      "4 done\n",
      "5 done\n",
      "6 done\n",
      "7 done\n",
      "8 done\n",
      "9 done\n"
     ]
    }
   ],
   "metadata": {}
  },
  {
   "cell_type": "markdown",
   "source": [
    "### new_250_2"
   ],
   "metadata": {}
  },
  {
   "cell_type": "code",
   "execution_count": 30,
   "source": [
    "new_250_2_GA_runtime = np.zeros(number_average)\n",
    "new_250_2_GA_gbest_bins = np.zeros((number_average))\n",
    "new_250_2_GA_average_bins = np.zeros((number_average, iterations))\n",
    "new_250_2_GA_best_bins = np.zeros((number_average, iterations))\n",
    "new_250_2_GA_worst_bins = np.zeros((number_average, iterations))\n",
    "new_250_2_GA_fitness = np.zeros((number_average, iterations))\n",
    "\n",
    "for i in range(number_average):\n",
    "    GA = GeneticAlgorithm(new_250_2, new_250_container[0], new_250_container[1])\n",
    "    _, new_250_2_GA_gbest_bins[i], new_250_2_GA_average_bins[i], new_250_2_GA_best_bins, new_250_2_GA_worst_bins, new_250_2_GA_runtime[i], new_250_2_GA_fitness[i] = GA.run()\n",
    "    print(str(i) + ' done')\n",
    "    \n",
    "name1 = 'Solutions/new_250_2_GA_runtime.npy'\n",
    "name2 = 'Solutions/new_250_2_GA_gbest_bins.npy'\n",
    "name3 = 'Solutions/new_250_2_GA_average_bins.npy'\n",
    "name4 = 'Solutions/new_250_2_GA_best_bins.npy'\n",
    "name5 = 'Solutions/new_250_2_GA_worst_bins.npy'\n",
    "name6 = 'Solutions/new_250_2_GA_fitness.npy'\n",
    "\n",
    "np.save(name1, new_250_2_GA_runtime)\n",
    "np.save(name2, new_250_2_GA_gbest_bins)\n",
    "np.save(name3, new_250_2_GA_average_bins)\n",
    "np.save(name4, new_250_2_GA_best_bins)\n",
    "np.save(name5, new_250_2_GA_worst_bins)\n",
    "np.save(name6, new_250_2_GA_fitness)"
   ],
   "outputs": [
    {
     "output_type": "stream",
     "name": "stdout",
     "text": [
      "0 done\n",
      "1 done\n",
      "2 done\n",
      "3 done\n",
      "4 done\n",
      "5 done\n",
      "6 done\n",
      "7 done\n",
      "8 done\n",
      "9 done\n"
     ]
    }
   ],
   "metadata": {}
  },
  {
   "cell_type": "markdown",
   "source": [
    "### new_250_3"
   ],
   "metadata": {}
  },
  {
   "cell_type": "code",
   "execution_count": 31,
   "source": [
    "new_250_3_GA_runtime = np.zeros(number_average)\n",
    "new_250_3_GA_gbest_bins = np.zeros((number_average))\n",
    "new_250_3_GA_average_bins = np.zeros((number_average, iterations))\n",
    "new_250_3_GA_best_bins = np.zeros((number_average, iterations))\n",
    "new_250_3_GA_worst_bins = np.zeros((number_average, iterations))\n",
    "new_250_3_GA_fitness = np.zeros((number_average, iterations))\n",
    "\n",
    "for i in range(number_average):\n",
    "    GA = GeneticAlgorithm(new_250_3, new_250_container[0], new_250_container[1])\n",
    "    _, new_250_3_GA_gbest_bins[i], new_250_3_GA_average_bins[i], new_250_3_GA_best_bins, new_250_3_GA_worst_bins, new_250_3_GA_runtime[i], new_250_3_GA_fitness[i] = GA.run()\n",
    "    print(str(i) + ' done')\n",
    "    \n",
    "name1 = 'Solutions/new_250_3_GA_runtime.npy'\n",
    "name2 = 'Solutions/new_250_3_GA_gbest_bins.npy'\n",
    "name3 = 'Solutions/new_250_3_GA_average_bins.npy'\n",
    "name4 = 'Solutions/new_250_3_GA_best_bins.npy'\n",
    "name5 = 'Solutions/new_250_3_GA_worst_bins.npy'\n",
    "name6 = 'Solutions/new_250_3_GA_fitness.npy'\n",
    "\n",
    "np.save(name1, new_250_3_GA_runtime)\n",
    "np.save(name2, new_250_3_GA_gbest_bins)\n",
    "np.save(name3, new_250_3_GA_average_bins)\n",
    "np.save(name4, new_250_3_GA_best_bins)\n",
    "np.save(name5, new_250_3_GA_worst_bins)\n",
    "np.save(name6, new_250_3_GA_fitness)"
   ],
   "outputs": [
    {
     "output_type": "stream",
     "name": "stdout",
     "text": [
      "0 done\n",
      "1 done\n",
      "2 done\n",
      "3 done\n",
      "4 done\n",
      "5 done\n",
      "6 done\n",
      "7 done\n",
      "8 done\n",
      "9 done\n"
     ]
    }
   ],
   "metadata": {}
  },
  {
   "cell_type": "markdown",
   "source": [
    "### new_250_4"
   ],
   "metadata": {}
  },
  {
   "cell_type": "code",
   "execution_count": 32,
   "source": [
    "new_250_4_GA_runtime = np.zeros(number_average)\n",
    "new_250_4_GA_gbest_bins = np.zeros((number_average))\n",
    "new_250_4_GA_average_bins = np.zeros((number_average, iterations))\n",
    "new_250_4_GA_best_bins = np.zeros((number_average, iterations))\n",
    "new_250_4_GA_worst_bins = np.zeros((number_average, iterations))\n",
    "new_250_4_GA_fitness = np.zeros((number_average, iterations))\n",
    "\n",
    "for i in range(number_average):\n",
    "    GA = GeneticAlgorithm(new_250_4, new_250_container[0], new_250_container[1])\n",
    "    _, new_250_4_GA_gbest_bins[i], new_250_4_GA_average_bins[i], new_250_4_GA_best_bins, new_250_4_GA_worst_bins, new_250_4_GA_runtime[i], new_250_4_GA_fitness[i] = GA.run()\n",
    "    print(str(i) + ' done')\n",
    "    \n",
    "name1 = 'Solutions/new_250_4_GA_runtime.npy'\n",
    "name2 = 'Solutions/new_250_4_GA_gbest_bins.npy'\n",
    "name3 = 'Solutions/new_250_4_GA_average_bins.npy'\n",
    "name4 = 'Solutions/new_250_4_GA_best_bins.npy'\n",
    "name5 = 'Solutions/new_250_4_GA_worst_bins.npy'\n",
    "name6 = 'Solutions/new_250_4_GA_fitness.npy'\n",
    "\n",
    "np.save(name1, new_250_4_GA_runtime)\n",
    "np.save(name2, new_250_4_GA_gbest_bins)\n",
    "np.save(name3, new_250_4_GA_average_bins)\n",
    "np.save(name4, new_250_4_GA_best_bins)\n",
    "np.save(name5, new_250_4_GA_worst_bins)\n",
    "np.save(name6, new_250_4_GA_fitness)"
   ],
   "outputs": [
    {
     "output_type": "stream",
     "name": "stdout",
     "text": [
      "0 done\n",
      "1 done\n",
      "2 done\n",
      "3 done\n",
      "4 done\n",
      "5 done\n",
      "6 done\n",
      "7 done\n",
      "8 done\n",
      "9 done\n"
     ]
    }
   ],
   "metadata": {}
  },
  {
   "cell_type": "markdown",
   "source": [
    "### new_250_5"
   ],
   "metadata": {}
  },
  {
   "cell_type": "code",
   "execution_count": 34,
   "source": [
    "new_250_5_GA_runtime = np.zeros(number_average)\n",
    "new_250_5_GA_gbest_bins = np.zeros((number_average))\n",
    "new_250_5_GA_average_bins = np.zeros((number_average, iterations))\n",
    "new_250_5_GA_best_bins = np.zeros((number_average, iterations))\n",
    "new_250_5_GA_worst_bins = np.zeros((number_average, iterations))\n",
    "new_250_5_GA_fitness = np.zeros((number_average, iterations))\n",
    "\n",
    "for i in range(number_average):\n",
    "    GA = GeneticAlgorithm(new_250_5, new_250_container[0], new_250_container[1])\n",
    "    _, new_250_5_GA_gbest_bins[i], new_250_5_GA_average_bins[i], new_250_5_GA_best_bins, new_250_5_GA_worst_bins, new_250_5_GA_runtime[i], new_250_5_GA_fitness[i] = GA.run()\n",
    "    print(str(i) + ' done')\n",
    "    \n",
    "name1 = 'Solutions/new_250_5_GA_runtime.npy'\n",
    "name2 = 'Solutions/new_250_5_GA_gbest_bins.npy'\n",
    "name3 = 'Solutions/new_250_5_GA_average_bins.npy'\n",
    "name4 = 'Solutions/new_250_5_GA_best_bins.npy'\n",
    "name5 = 'Solutions/new_250_5_GA_worst_bins.npy'\n",
    "name6 = 'Solutions/new_250_5_GA_fitness.npy'\n",
    "\n",
    "np.save(name1, new_250_5_GA_runtime)\n",
    "np.save(name2, new_250_5_GA_gbest_bins)\n",
    "np.save(name3, new_250_5_GA_average_bins)\n",
    "np.save(name4, new_250_5_GA_best_bins)\n",
    "np.save(name5, new_250_5_GA_worst_bins)\n",
    "np.save(name6, new_250_5_GA_fitness)"
   ],
   "outputs": [
    {
     "output_type": "stream",
     "name": "stdout",
     "text": [
      "0 done\n",
      "1 done\n",
      "2 done\n",
      "3 done\n",
      "4 done\n",
      "5 done\n",
      "6 done\n",
      "7 done\n",
      "8 done\n",
      "9 done\n"
     ]
    }
   ],
   "metadata": {}
  },
  {
   "cell_type": "markdown",
   "source": [
    "### new_250_6"
   ],
   "metadata": {}
  },
  {
   "cell_type": "code",
   "execution_count": 35,
   "source": [
    "new_250_6_GA_runtime = np.zeros(number_average)\n",
    "new_250_6_GA_gbest_bins = np.zeros((number_average))\n",
    "new_250_6_GA_average_bins = np.zeros((number_average, iterations))\n",
    "new_250_6_GA_best_bins = np.zeros((number_average, iterations))\n",
    "new_250_6_GA_worst_bins = np.zeros((number_average, iterations))\n",
    "new_250_6_GA_fitness = np.zeros((number_average, iterations))\n",
    "\n",
    "for i in range(number_average):\n",
    "    GA = GeneticAlgorithm(new_250_6, new_250_container[0], new_250_container[1])\n",
    "    _, new_250_6_GA_gbest_bins[i], new_250_6_GA_average_bins[i], new_250_6_GA_best_bins, new_250_6_GA_worst_bins, new_250_6_GA_runtime[i], new_250_6_GA_fitness[i] = GA.run()\n",
    "    print(str(i) + ' done')\n",
    "    \n",
    "name1 = 'Solutions/new_250_6_GA_runtime.npy'\n",
    "name2 = 'Solutions/new_250_6_GA_gbest_bins.npy'\n",
    "name3 = 'Solutions/new_250_6_GA_average_bins.npy'\n",
    "name4 = 'Solutions/new_250_6_GA_best_bins.npy'\n",
    "name5 = 'Solutions/new_250_6_GA_worst_bins.npy'\n",
    "name6 = 'Solutions/new_250_6_GA_fitness.npy'\n",
    "\n",
    "np.save(name1, new_250_6_GA_runtime)\n",
    "np.save(name2, new_250_6_GA_gbest_bins)\n",
    "np.save(name3, new_250_6_GA_average_bins)\n",
    "np.save(name4, new_250_6_GA_best_bins)\n",
    "np.save(name5, new_250_6_GA_worst_bins)\n",
    "np.save(name6, new_250_6_GA_fitness)"
   ],
   "outputs": [
    {
     "output_type": "stream",
     "name": "stdout",
     "text": [
      "0 done\n",
      "1 done\n",
      "2 done\n",
      "3 done\n",
      "4 done\n",
      "5 done\n",
      "6 done\n",
      "7 done\n",
      "8 done\n",
      "9 done\n"
     ]
    }
   ],
   "metadata": {}
  },
  {
   "cell_type": "markdown",
   "source": [
    "### new_250_7"
   ],
   "metadata": {}
  },
  {
   "cell_type": "code",
   "execution_count": 36,
   "source": [
    "new_250_7_GA_runtime = np.zeros(number_average)\n",
    "new_250_7_GA_gbest_bins = np.zeros((number_average))\n",
    "new_250_7_GA_average_bins = np.zeros((number_average, iterations))\n",
    "new_250_7_GA_best_bins = np.zeros((number_average, iterations))\n",
    "new_250_7_GA_worst_bins = np.zeros((number_average, iterations))\n",
    "new_250_7_GA_fitness = np.zeros((number_average, iterations))\n",
    "\n",
    "for i in range(number_average):\n",
    "    GA = GeneticAlgorithm(new_250_7, new_250_container[0], new_250_container[1])\n",
    "    _, new_250_7_GA_gbest_bins[i], new_250_7_GA_average_bins[i], new_250_7_GA_best_bins, new_250_7_GA_worst_bins, new_250_7_GA_runtime[i], new_250_7_GA_fitness[i] = GA.run()\n",
    "    print(str(i) + ' done')\n",
    "    \n",
    "name1 = 'Solutions/new_250_7_GA_runtime.npy'\n",
    "name2 = 'Solutions/new_250_7_GA_gbest_bins.npy'\n",
    "name3 = 'Solutions/new_250_7_GA_average_bins.npy'\n",
    "name4 = 'Solutions/new_250_7_GA_best_bins.npy'\n",
    "name5 = 'Solutions/new_250_7_GA_worst_bins.npy'\n",
    "name6 = 'Solutions/new_250_7_GA_fitness.npy'\n",
    "\n",
    "np.save(name1, new_250_7_GA_runtime)\n",
    "np.save(name2, new_250_7_GA_gbest_bins)\n",
    "np.save(name3, new_250_7_GA_average_bins)\n",
    "np.save(name4, new_250_7_GA_best_bins)\n",
    "np.save(name5, new_250_7_GA_worst_bins)\n",
    "np.save(name6, new_250_7_GA_fitness)"
   ],
   "outputs": [
    {
     "output_type": "stream",
     "name": "stdout",
     "text": [
      "0 done\n",
      "1 done\n",
      "2 done\n",
      "3 done\n",
      "4 done\n",
      "5 done\n",
      "6 done\n",
      "7 done\n",
      "8 done\n",
      "9 done\n"
     ]
    }
   ],
   "metadata": {}
  },
  {
   "cell_type": "markdown",
   "source": [
    "### new_250_8"
   ],
   "metadata": {}
  },
  {
   "cell_type": "code",
   "execution_count": 37,
   "source": [
    "new_250_8_GA_runtime = np.zeros(number_average)\n",
    "new_250_8_GA_gbest_bins = np.zeros((number_average))\n",
    "new_250_8_GA_average_bins = np.zeros((number_average, iterations))\n",
    "new_250_8_GA_best_bins = np.zeros((number_average, iterations))\n",
    "new_250_8_GA_worst_bins = np.zeros((number_average, iterations))\n",
    "new_250_8_GA_fitness = np.zeros((number_average, iterations))\n",
    "\n",
    "for i in range(number_average):\n",
    "    GA = GeneticAlgorithm(new_250_8, new_250_container[0], new_250_container[1])\n",
    "    _, new_250_8_GA_gbest_bins[i], new_250_8_GA_average_bins[i], new_250_8_GA_best_bins, new_250_8_GA_worst_bins, new_250_8_GA_runtime[i], new_250_8_GA_fitness[i] = GA.run()\n",
    "    print(str(i) + ' done')\n",
    "    \n",
    "name1 = 'Solutions/new_250_8_GA_runtime.npy'\n",
    "name2 = 'Solutions/new_250_8_GA_gbest_bins.npy'\n",
    "name3 = 'Solutions/new_250_8_GA_average_bins.npy'\n",
    "name4 = 'Solutions/new_250_8_GA_best_bins.npy'\n",
    "name5 = 'Solutions/new_250_8_GA_worst_bins.npy'\n",
    "name6 = 'Solutions/new_250_8_GA_fitness.npy'\n",
    "\n",
    "np.save(name1, new_250_8_GA_runtime)\n",
    "np.save(name2, new_250_8_GA_gbest_bins)\n",
    "np.save(name3, new_250_8_GA_average_bins)\n",
    "np.save(name4, new_250_8_GA_best_bins)\n",
    "np.save(name5, new_250_8_GA_worst_bins)\n",
    "np.save(name6, new_250_8_GA_fitness)"
   ],
   "outputs": [
    {
     "output_type": "stream",
     "name": "stdout",
     "text": [
      "0 done\n",
      "1 done\n",
      "2 done\n",
      "3 done\n",
      "4 done\n",
      "5 done\n",
      "6 done\n",
      "7 done\n",
      "8 done\n",
      "9 done\n"
     ]
    }
   ],
   "metadata": {}
  },
  {
   "cell_type": "markdown",
   "source": [
    "### new_250_9"
   ],
   "metadata": {}
  },
  {
   "cell_type": "code",
   "execution_count": 38,
   "source": [
    "new_250_9_GA_runtime = np.zeros(number_average)\n",
    "new_250_9_GA_gbest_bins = np.zeros((number_average))\n",
    "new_250_9_GA_average_bins = np.zeros((number_average, iterations))\n",
    "new_250_9_GA_best_bins = np.zeros((number_average, iterations))\n",
    "new_250_9_GA_worst_bins = np.zeros((number_average, iterations))\n",
    "new_250_9_GA_fitness = np.zeros((number_average, iterations))\n",
    "\n",
    "for i in range(number_average):\n",
    "    GA = GeneticAlgorithm(new_250_9, new_250_container[0], new_250_container[1])\n",
    "    _, new_250_9_GA_gbest_bins[i], new_250_9_GA_average_bins[i], new_250_9_GA_best_bins, new_250_9_GA_worst_bins, new_250_9_GA_runtime[i], new_250_9_GA_fitness[i] = GA.run()\n",
    "    print(str(i) + ' done')\n",
    "    \n",
    "name1 = 'Solutions/new_250_9_GA_runtime.npy'\n",
    "name2 = 'Solutions/new_250_9_GA_gbest_bins.npy'\n",
    "name3 = 'Solutions/new_250_9_GA_average_bins.npy'\n",
    "name4 = 'Solutions/new_250_9_GA_best_bins.npy'\n",
    "name5 = 'Solutions/new_250_9_GA_worst_bins.npy'\n",
    "name6 = 'Solutions/new_250_9_GA_fitness.npy'\n",
    "\n",
    "np.save(name1, new_250_9_GA_runtime)\n",
    "np.save(name2, new_250_9_GA_gbest_bins)\n",
    "np.save(name3, new_250_9_GA_average_bins)\n",
    "np.save(name4, new_250_9_GA_best_bins)\n",
    "np.save(name5, new_250_9_GA_worst_bins)\n",
    "np.save(name6, new_250_9_GA_fitness)"
   ],
   "outputs": [
    {
     "output_type": "stream",
     "name": "stdout",
     "text": [
      "0 done\n",
      "1 done\n",
      "2 done\n",
      "3 done\n",
      "4 done\n",
      "5 done\n",
      "6 done\n",
      "7 done\n",
      "8 done\n",
      "9 done\n"
     ]
    }
   ],
   "metadata": {}
  },
  {
   "cell_type": "markdown",
   "source": [
    "## new_500"
   ],
   "metadata": {}
  },
  {
   "cell_type": "markdown",
   "source": [
    "### new_500_0"
   ],
   "metadata": {}
  },
  {
   "cell_type": "code",
   "execution_count": 40,
   "source": [
    "new_500_0_GA_runtime = np.zeros(number_average)\n",
    "new_500_0_GA_gbest_bins = np.zeros((number_average))\n",
    "new_500_0_GA_average_bins = np.zeros((number_average, iterations))\n",
    "new_500_0_GA_best_bins = np.zeros((number_average, iterations))\n",
    "new_500_0_GA_worst_bins = np.zeros((number_average, iterations))\n",
    "new_500_0_GA_fitness = np.zeros((number_average, iterations))\n",
    "\n",
    "for i in range(number_average):\n",
    "    GA = GeneticAlgorithm(new_500_0, new_500_container[0], new_500_container[1])\n",
    "    _, new_500_0_GA_gbest_bins[i], new_500_0_GA_average_bins[i], new_500_0_GA_best_bins, new_500_0_GA_worst_bins, new_500_0_GA_runtime[i], new_500_0_GA_fitness[i] = GA.run()\n",
    "    print(str(i) + ' done')\n",
    "    \n",
    "name1 = 'Solutions/new_500_0_GA_runtime.npy'\n",
    "name2 = 'Solutions/new_500_0_GA_gbest_bins.npy'\n",
    "name3 = 'Solutions/new_500_0_GA_average_bins.npy'\n",
    "name4 = 'Solutions/new_500_0_GA_best_bins.npy'\n",
    "name5 = 'Solutions/new_500_0_GA_worst_bins.npy'\n",
    "name6 = 'Solutions/new_500_0_GA_fitness.npy'\n",
    "\n",
    "np.save(name1, new_500_0_GA_runtime)\n",
    "np.save(name2, new_500_0_GA_gbest_bins)\n",
    "np.save(name3, new_500_0_GA_average_bins)\n",
    "np.save(name4, new_500_0_GA_best_bins)\n",
    "np.save(name5, new_500_0_GA_worst_bins)\n",
    "np.save(name6, new_500_0_GA_fitness)"
   ],
   "outputs": [
    {
     "output_type": "stream",
     "name": "stdout",
     "text": [
      "0 done\n",
      "1 done\n",
      "2 done\n",
      "3 done\n",
      "4 done\n",
      "5 done\n",
      "6 done\n",
      "7 done\n",
      "8 done\n",
      "9 done\n"
     ]
    }
   ],
   "metadata": {}
  },
  {
   "cell_type": "markdown",
   "source": [
    "### new_500_1"
   ],
   "metadata": {}
  },
  {
   "cell_type": "code",
   "execution_count": 41,
   "source": [
    "new_500_1_GA_runtime = np.zeros(number_average)\n",
    "new_500_1_GA_gbest_bins = np.zeros((number_average))\n",
    "new_500_1_GA_average_bins = np.zeros((number_average, iterations))\n",
    "new_500_1_GA_best_bins = np.zeros((number_average, iterations))\n",
    "new_500_1_GA_worst_bins = np.zeros((number_average, iterations))\n",
    "new_500_1_GA_fitness = np.zeros((number_average, iterations))\n",
    "\n",
    "for i in range(number_average):\n",
    "    GA = GeneticAlgorithm(new_500_1, new_500_container[0], new_500_container[1])\n",
    "    _, new_500_1_GA_gbest_bins[i], new_500_1_GA_average_bins[i], new_500_1_GA_best_bins, new_500_1_GA_worst_bins, new_500_1_GA_runtime[i], new_500_1_GA_fitness[i] = GA.run()\n",
    "    print(str(i) + ' done')\n",
    "    \n",
    "name1 = 'Solutions/new_500_1_GA_runtime.npy'\n",
    "name2 = 'Solutions/new_500_1_GA_gbest_bins.npy'\n",
    "name3 = 'Solutions/new_500_1_GA_average_bins.npy'\n",
    "name4 = 'Solutions/new_500_1_GA_best_bins.npy'\n",
    "name5 = 'Solutions/new_500_1_GA_worst_bins.npy'\n",
    "name6 = 'Solutions/new_500_1_GA_fitness.npy'\n",
    "\n",
    "np.save(name1, new_500_1_GA_runtime)\n",
    "np.save(name2, new_500_1_GA_gbest_bins)\n",
    "np.save(name3, new_500_1_GA_average_bins)\n",
    "np.save(name4, new_500_1_GA_best_bins)\n",
    "np.save(name5, new_500_1_GA_worst_bins)\n",
    "np.save(name6, new_500_1_GA_fitness)"
   ],
   "outputs": [
    {
     "output_type": "stream",
     "name": "stdout",
     "text": [
      "0 done\n",
      "1 done\n",
      "2 done\n",
      "3 done\n",
      "4 done\n",
      "5 done\n",
      "6 done\n",
      "7 done\n",
      "8 done\n",
      "9 done\n"
     ]
    }
   ],
   "metadata": {}
  },
  {
   "cell_type": "markdown",
   "source": [
    "### new_500_2"
   ],
   "metadata": {}
  },
  {
   "cell_type": "code",
   "execution_count": 42,
   "source": [
    "new_500_2_GA_runtime = np.zeros(number_average)\n",
    "new_500_2_GA_gbest_bins = np.zeros((number_average))\n",
    "new_500_2_GA_average_bins = np.zeros((number_average, iterations))\n",
    "new_500_2_GA_best_bins = np.zeros((number_average, iterations))\n",
    "new_500_2_GA_worst_bins = np.zeros((number_average, iterations))\n",
    "new_500_2_GA_fitness = np.zeros((number_average, iterations))\n",
    "\n",
    "for i in range(number_average):\n",
    "    GA = GeneticAlgorithm(new_500_2, new_500_container[0], new_500_container[1])\n",
    "    _, new_500_2_GA_gbest_bins[i], new_500_2_GA_average_bins[i], new_500_2_GA_best_bins, new_500_2_GA_worst_bins, new_500_2_GA_runtime[i], new_500_2_GA_fitness[i] = GA.run()\n",
    "    print(str(i) + ' done')\n",
    "    \n",
    "name1 = 'Solutions/new_500_2_GA_runtime.npy'\n",
    "name2 = 'Solutions/new_500_2_GA_gbest_bins.npy'\n",
    "name3 = 'Solutions/new_500_2_GA_average_bins.npy'\n",
    "name4 = 'Solutions/new_500_2_GA_best_bins.npy'\n",
    "name5 = 'Solutions/new_500_2_GA_worst_bins.npy'\n",
    "name6 = 'Solutions/new_500_2_GA_fitness.npy'\n",
    "\n",
    "np.save(name1, new_500_2_GA_runtime)\n",
    "np.save(name2, new_500_2_GA_gbest_bins)\n",
    "np.save(name3, new_500_2_GA_average_bins)\n",
    "np.save(name4, new_500_2_GA_best_bins)\n",
    "np.save(name5, new_500_2_GA_worst_bins)\n",
    "np.save(name6, new_500_2_GA_fitness)"
   ],
   "outputs": [
    {
     "output_type": "stream",
     "name": "stdout",
     "text": [
      "0 done\n",
      "1 done\n",
      "2 done\n",
      "3 done\n",
      "4 done\n",
      "5 done\n",
      "6 done\n",
      "7 done\n",
      "8 done\n",
      "9 done\n"
     ]
    }
   ],
   "metadata": {}
  },
  {
   "cell_type": "markdown",
   "source": [
    "### new_500_3"
   ],
   "metadata": {}
  },
  {
   "cell_type": "code",
   "execution_count": 43,
   "source": [
    "new_500_3_GA_runtime = np.zeros(number_average)\n",
    "new_500_3_GA_gbest_bins = np.zeros((number_average))\n",
    "new_500_3_GA_average_bins = np.zeros((number_average, iterations))\n",
    "new_500_3_GA_best_bins = np.zeros((number_average, iterations))\n",
    "new_500_3_GA_worst_bins = np.zeros((number_average, iterations))\n",
    "new_500_3_GA_fitness = np.zeros((number_average, iterations))\n",
    "\n",
    "for i in range(number_average):\n",
    "    GA = GeneticAlgorithm(new_500_3, new_500_container[0], new_500_container[1])\n",
    "    _, new_500_3_GA_gbest_bins[i], new_500_3_GA_average_bins[i], new_500_3_GA_best_bins, new_500_3_GA_worst_bins, new_500_3_GA_runtime[i], new_500_3_GA_fitness[i] = GA.run()\n",
    "    print(str(i) + ' done')\n",
    "    \n",
    "name1 = 'Solutions/new_500_3_GA_runtime.npy'\n",
    "name2 = 'Solutions/new_500_3_GA_gbest_bins.npy'\n",
    "name3 = 'Solutions/new_500_3_GA_average_bins.npy'\n",
    "name4 = 'Solutions/new_500_3_GA_best_bins.npy'\n",
    "name5 = 'Solutions/new_500_3_GA_worst_bins.npy'\n",
    "name6 = 'Solutions/new_500_3_GA_fitness.npy'\n",
    "\n",
    "np.save(name1, new_500_3_GA_runtime)\n",
    "np.save(name2, new_500_3_GA_gbest_bins)\n",
    "np.save(name3, new_500_3_GA_average_bins)\n",
    "np.save(name4, new_500_3_GA_best_bins)\n",
    "np.save(name5, new_500_3_GA_worst_bins)\n",
    "np.save(name6, new_500_3_GA_fitness)"
   ],
   "outputs": [
    {
     "output_type": "stream",
     "name": "stdout",
     "text": [
      "0 done\n",
      "1 done\n",
      "2 done\n",
      "3 done\n",
      "4 done\n",
      "5 done\n",
      "6 done\n",
      "7 done\n",
      "8 done\n",
      "9 done\n"
     ]
    }
   ],
   "metadata": {}
  },
  {
   "cell_type": "markdown",
   "source": [
    "### new_500_4"
   ],
   "metadata": {}
  },
  {
   "cell_type": "code",
   "execution_count": 44,
   "source": [
    "new_500_4_GA_runtime = np.zeros(number_average)\n",
    "new_500_4_GA_gbest_bins = np.zeros((number_average))\n",
    "new_500_4_GA_average_bins = np.zeros((number_average, iterations))\n",
    "new_500_4_GA_best_bins = np.zeros((number_average, iterations))\n",
    "new_500_4_GA_worst_bins = np.zeros((number_average, iterations))\n",
    "new_500_4_GA_fitness = np.zeros((number_average, iterations))\n",
    "\n",
    "for i in range(number_average):\n",
    "    GA = GeneticAlgorithm(new_500_4, new_500_container[0], new_500_container[1])\n",
    "    _, new_500_4_GA_gbest_bins[i], new_500_4_GA_average_bins[i], new_500_4_GA_best_bins, new_500_4_GA_worst_bins, new_500_4_GA_runtime[i], new_500_4_GA_fitness[i] = GA.run()\n",
    "    print(str(i) + ' done')\n",
    "    \n",
    "name1 = 'Solutions/new_500_4_GA_runtime.npy'\n",
    "name2 = 'Solutions/new_500_4_GA_gbest_bins.npy'\n",
    "name3 = 'Solutions/new_500_4_GA_average_bins.npy'\n",
    "name4 = 'Solutions/new_500_4_GA_best_bins.npy'\n",
    "name5 = 'Solutions/new_500_4_GA_worst_bins.npy'\n",
    "name6 = 'Solutions/new_500_4_GA_fitness.npy'\n",
    "\n",
    "np.save(name1, new_500_4_GA_runtime)\n",
    "np.save(name2, new_500_4_GA_gbest_bins)\n",
    "np.save(name3, new_500_4_GA_average_bins)\n",
    "np.save(name4, new_500_4_GA_best_bins)\n",
    "np.save(name5, new_500_4_GA_worst_bins)\n",
    "np.save(name6, new_500_4_GA_fitness)"
   ],
   "outputs": [
    {
     "output_type": "stream",
     "name": "stdout",
     "text": [
      "0 done\n",
      "1 done\n",
      "2 done\n",
      "3 done\n",
      "4 done\n",
      "5 done\n",
      "6 done\n",
      "7 done\n",
      "8 done\n",
      "9 done\n"
     ]
    }
   ],
   "metadata": {}
  },
  {
   "cell_type": "markdown",
   "source": [
    "### new_500_5"
   ],
   "metadata": {}
  },
  {
   "cell_type": "code",
   "execution_count": 45,
   "source": [
    "new_500_5_GA_runtime = np.zeros(number_average)\n",
    "new_500_5_GA_gbest_bins = np.zeros((number_average))\n",
    "new_500_5_GA_average_bins = np.zeros((number_average, iterations))\n",
    "new_500_5_GA_best_bins = np.zeros((number_average, iterations))\n",
    "new_500_5_GA_worst_bins = np.zeros((number_average, iterations))\n",
    "new_500_5_GA_fitness = np.zeros((number_average, iterations))\n",
    "\n",
    "for i in range(number_average):\n",
    "    GA = GeneticAlgorithm(new_500_5, new_500_container[0], new_500_container[1])\n",
    "    _, new_500_5_GA_gbest_bins[i], new_500_5_GA_average_bins[i], new_500_5_GA_best_bins, new_500_5_GA_worst_bins, new_500_5_GA_runtime[i], new_500_5_GA_fitness[i] = GA.run()\n",
    "    print(str(i) + ' done')\n",
    "    \n",
    "name1 = 'Solutions/new_500_5_GA_runtime.npy'\n",
    "name2 = 'Solutions/new_500_5_GA_gbest_bins.npy'\n",
    "name3 = 'Solutions/new_500_5_GA_average_bins.npy'\n",
    "name4 = 'Solutions/new_500_5_GA_best_bins.npy'\n",
    "name5 = 'Solutions/new_500_5_GA_worst_bins.npy'\n",
    "name6 = 'Solutions/new_500_5_GA_fitness.npy'\n",
    "\n",
    "np.save(name1, new_500_5_GA_runtime)\n",
    "np.save(name2, new_500_5_GA_gbest_bins)\n",
    "np.save(name3, new_500_5_GA_average_bins)\n",
    "np.save(name4, new_500_5_GA_best_bins)\n",
    "np.save(name5, new_500_5_GA_worst_bins)\n",
    "np.save(name6, new_500_5_GA_fitness)"
   ],
   "outputs": [
    {
     "output_type": "stream",
     "name": "stdout",
     "text": [
      "0 done\n",
      "1 done\n",
      "2 done\n",
      "3 done\n",
      "4 done\n",
      "5 done\n",
      "6 done\n",
      "7 done\n",
      "8 done\n",
      "9 done\n"
     ]
    }
   ],
   "metadata": {}
  },
  {
   "cell_type": "markdown",
   "source": [
    "### new_500_6"
   ],
   "metadata": {}
  },
  {
   "cell_type": "code",
   "execution_count": 46,
   "source": [
    "new_500_6_GA_runtime = np.zeros(number_average)\n",
    "new_500_6_GA_gbest_bins = np.zeros((number_average))\n",
    "new_500_6_GA_average_bins = np.zeros((number_average, iterations))\n",
    "new_500_6_GA_best_bins = np.zeros((number_average, iterations))\n",
    "new_500_6_GA_worst_bins = np.zeros((number_average, iterations))\n",
    "new_500_6_GA_fitness = np.zeros((number_average, iterations))\n",
    "\n",
    "for i in range(number_average):\n",
    "    GA = GeneticAlgorithm(new_500_6, new_500_container[0], new_500_container[1])\n",
    "    _, new_500_6_GA_gbest_bins[i], new_500_6_GA_average_bins[i], new_500_6_GA_best_bins, new_500_6_GA_worst_bins, new_500_6_GA_runtime[i], new_500_6_GA_fitness[i] = GA.run()\n",
    "    print(str(i) + ' done')\n",
    "    \n",
    "name1 = 'Solutions/new_500_6_GA_runtime.npy'\n",
    "name2 = 'Solutions/new_500_6_GA_gbest_bins.npy'\n",
    "name3 = 'Solutions/new_500_6_GA_average_bins.npy'\n",
    "name4 = 'Solutions/new_500_6_GA_best_bins.npy'\n",
    "name5 = 'Solutions/new_500_6_GA_worst_bins.npy'\n",
    "name6 = 'Solutions/new_500_6_GA_fitness.npy'\n",
    "\n",
    "np.save(name1, new_500_6_GA_runtime)\n",
    "np.save(name2, new_500_6_GA_gbest_bins)\n",
    "np.save(name3, new_500_6_GA_average_bins)\n",
    "np.save(name4, new_500_6_GA_best_bins)\n",
    "np.save(name5, new_500_6_GA_worst_bins)\n",
    "np.save(name6, new_500_6_GA_fitness)"
   ],
   "outputs": [
    {
     "output_type": "stream",
     "name": "stdout",
     "text": [
      "0 done\n",
      "1 done\n",
      "2 done\n",
      "3 done\n",
      "4 done\n",
      "5 done\n",
      "6 done\n",
      "7 done\n",
      "8 done\n",
      "9 done\n"
     ]
    }
   ],
   "metadata": {}
  },
  {
   "cell_type": "markdown",
   "source": [
    "### new_500_7"
   ],
   "metadata": {}
  },
  {
   "cell_type": "code",
   "execution_count": 47,
   "source": [
    "new_500_7_GA_runtime = np.zeros(number_average)\n",
    "new_500_7_GA_gbest_bins = np.zeros((number_average))\n",
    "new_500_7_GA_average_bins = np.zeros((number_average, iterations))\n",
    "new_500_7_GA_best_bins = np.zeros((number_average, iterations))\n",
    "new_500_7_GA_worst_bins = np.zeros((number_average, iterations))\n",
    "new_500_7_GA_fitness = np.zeros((number_average, iterations))\n",
    "\n",
    "for i in range(number_average):\n",
    "    GA = GeneticAlgorithm(new_500_7, new_500_container[0], new_500_container[1])\n",
    "    _, new_500_7_GA_gbest_bins[i], new_500_7_GA_average_bins[i], new_500_7_GA_best_bins, new_500_7_GA_worst_bins, new_500_7_GA_runtime[i], new_500_7_GA_fitness[i] = GA.run()\n",
    "    print(str(i) + ' done')\n",
    "    \n",
    "name1 = 'Solutions/new_500_7_GA_runtime.npy'\n",
    "name2 = 'Solutions/new_500_7_GA_gbest_bins.npy'\n",
    "name3 = 'Solutions/new_500_7_GA_average_bins.npy'\n",
    "name4 = 'Solutions/new_500_7_GA_best_bins.npy'\n",
    "name5 = 'Solutions/new_500_7_GA_worst_bins.npy'\n",
    "name6 = 'Solutions/new_500_7_GA_fitness.npy'\n",
    "\n",
    "np.save(name1, new_500_7_GA_runtime)\n",
    "np.save(name2, new_500_7_GA_gbest_bins)\n",
    "np.save(name3, new_500_7_GA_average_bins)\n",
    "np.save(name4, new_500_7_GA_best_bins)\n",
    "np.save(name5, new_500_7_GA_worst_bins)\n",
    "np.save(name6, new_500_7_GA_fitness)"
   ],
   "outputs": [
    {
     "output_type": "stream",
     "name": "stdout",
     "text": [
      "0 done\n",
      "1 done\n",
      "2 done\n",
      "3 done\n",
      "4 done\n",
      "5 done\n",
      "6 done\n",
      "7 done\n",
      "8 done\n",
      "9 done\n"
     ]
    }
   ],
   "metadata": {}
  },
  {
   "cell_type": "markdown",
   "source": [
    "### new_500_8"
   ],
   "metadata": {}
  },
  {
   "cell_type": "code",
   "execution_count": 48,
   "source": [
    "new_500_8_GA_runtime = np.zeros(number_average)\n",
    "new_500_8_GA_gbest_bins = np.zeros((number_average))\n",
    "new_500_8_GA_average_bins = np.zeros((number_average, iterations))\n",
    "new_500_8_GA_best_bins = np.zeros((number_average, iterations))\n",
    "new_500_8_GA_worst_bins = np.zeros((number_average, iterations))\n",
    "new_500_8_GA_fitness = np.zeros((number_average, iterations))\n",
    "\n",
    "for i in range(number_average):\n",
    "    GA = GeneticAlgorithm(new_500_8, new_500_container[0], new_500_container[1])\n",
    "    _, new_500_8_GA_gbest_bins[i], new_500_8_GA_average_bins[i], new_500_8_GA_best_bins, new_500_8_GA_worst_bins, new_500_8_GA_runtime[i], new_500_8_GA_fitness[i] = GA.run()\n",
    "    print(str(i) + ' done')\n",
    "    \n",
    "name1 = 'Solutions/new_500_8_GA_runtime.npy'\n",
    "name2 = 'Solutions/new_500_8_GA_gbest_bins.npy'\n",
    "name3 = 'Solutions/new_500_8_GA_average_bins.npy'\n",
    "name4 = 'Solutions/new_500_8_GA_best_bins.npy'\n",
    "name5 = 'Solutions/new_500_8_GA_worst_bins.npy'\n",
    "name6 = 'Solutions/new_500_8_GA_fitness.npy'\n",
    "\n",
    "np.save(name1, new_500_8_GA_runtime)\n",
    "np.save(name2, new_500_8_GA_gbest_bins)\n",
    "np.save(name3, new_500_8_GA_average_bins)\n",
    "np.save(name4, new_500_8_GA_best_bins)\n",
    "np.save(name5, new_500_8_GA_worst_bins)\n",
    "np.save(name6, new_500_8_GA_fitness)"
   ],
   "outputs": [
    {
     "output_type": "stream",
     "name": "stdout",
     "text": [
      "0 done\n",
      "1 done\n",
      "2 done\n",
      "3 done\n",
      "4 done\n",
      "5 done\n",
      "6 done\n",
      "7 done\n",
      "8 done\n",
      "9 done\n"
     ]
    }
   ],
   "metadata": {}
  },
  {
   "cell_type": "markdown",
   "source": [
    "### new_500_9"
   ],
   "metadata": {}
  },
  {
   "cell_type": "code",
   "execution_count": 49,
   "source": [
    "new_500_9_GA_runtime = np.zeros(number_average)\n",
    "new_500_9_GA_gbest_bins = np.zeros((number_average))\n",
    "new_500_9_GA_average_bins = np.zeros((number_average, iterations))\n",
    "new_500_9_GA_best_bins = np.zeros((number_average, iterations))\n",
    "new_500_9_GA_worst_bins = np.zeros((number_average, iterations))\n",
    "new_500_9_GA_fitness = np.zeros((number_average, iterations))\n",
    "\n",
    "for i in range(number_average):\n",
    "    GA = GeneticAlgorithm(new_500_9, new_500_container[0], new_500_container[1])\n",
    "    _, new_500_9_GA_gbest_bins[i], new_500_9_GA_average_bins[i], new_500_9_GA_best_bins, new_500_9_GA_worst_bins, new_500_9_GA_runtime[i], new_500_9_GA_fitness[i] = GA.run()\n",
    "    print(str(i) + ' done')\n",
    "    \n",
    "name1 = 'Solutions/new_500_9_GA_runtime.npy'\n",
    "name2 = 'Solutions/new_500_9_GA_gbest_bins.npy'\n",
    "name3 = 'Solutions/new_500_9_GA_average_bins.npy'\n",
    "name4 = 'Solutions/new_500_9_GA_best_bins.npy'\n",
    "name5 = 'Solutions/new_500_9_GA_worst_bins.npy'\n",
    "name6 = 'Solutions/new_500_9_GA_fitness.npy'\n",
    "\n",
    "np.save(name1, new_500_9_GA_runtime)\n",
    "np.save(name2, new_500_9_GA_gbest_bins)\n",
    "np.save(name3, new_500_9_GA_average_bins)\n",
    "np.save(name4, new_500_9_GA_best_bins)\n",
    "np.save(name5, new_500_9_GA_worst_bins)\n",
    "np.save(name6, new_500_9_GA_fitness)"
   ],
   "outputs": [
    {
     "output_type": "stream",
     "name": "stdout",
     "text": [
      "0 done\n",
      "1 done\n",
      "2 done\n",
      "3 done\n",
      "4 done\n",
      "5 done\n",
      "6 done\n",
      "7 done\n",
      "8 done\n",
      "9 done\n"
     ]
    }
   ],
   "metadata": {}
  },
  {
   "cell_type": "markdown",
   "source": [
    "## new_1000"
   ],
   "metadata": {}
  },
  {
   "cell_type": "code",
   "execution_count": 15,
   "source": [
    "new_1000_0_GA_runtime = np.zeros(number_average)\n",
    "new_1000_0_GA_gbest_bins = np.zeros((number_average))\n",
    "new_1000_0_GA_average_bins = np.zeros((number_average, iterations))\n",
    "new_1000_0_GA_best_bins = np.zeros((number_average, iterations))\n",
    "new_1000_0_GA_worst_bins = np.zeros((number_average, iterations))\n",
    "new_1000_0_GA_fitness = np.zeros((number_average, iterations))\n",
    "\n",
    "for i in range(number_average):\n",
    "    GA = GeneticAlgorithm(new_1000_0, new_1000_container[0], new_1000_container[1])\n",
    "    _, new_1000_0_GA_gbest_bins[i], new_1000_0_GA_average_bins[i], new_1000_0_GA_best_bins, new_1000_0_GA_worst_bins, new_1000_0_GA_runtime[i], new_1000_0_GA_fitness[i] = GA.run()\n",
    "    print(str(i) + ' done')\n",
    "    \n",
    "name1 = 'Solutions/new_1000_0_GA_runtime.npy'\n",
    "name2 = 'Solutions/new_1000_0_GA_gbest_bins.npy'\n",
    "name3 = 'Solutions/new_1000_0_GA_average_bins.npy'\n",
    "name4 = 'Solutions/new_1000_0_GA_best_bins.npy'\n",
    "name5 = 'Solutions/new_1000_0_GA_worst_bins.npy'\n",
    "name6 = 'Solutions/new_1000_0_GA_fitness.npy'\n",
    "\n",
    "np.save(name1, new_1000_0_GA_runtime)\n",
    "np.save(name2, new_1000_0_GA_gbest_bins)\n",
    "np.save(name3, new_1000_0_GA_average_bins)\n",
    "np.save(name4, new_1000_0_GA_best_bins)\n",
    "np.save(name5, new_1000_0_GA_worst_bins)\n",
    "np.save(name6, new_1000_0_GA_fitness)"
   ],
   "outputs": [
    {
     "output_type": "stream",
     "name": "stdout",
     "text": [
      "0 done\n",
      "1 done\n",
      "2 done\n",
      "3 done\n",
      "4 done\n",
      "5 done\n",
      "6 done\n",
      "7 done\n",
      "8 done\n",
      "9 done\n"
     ]
    }
   ],
   "metadata": {}
  }
 ],
 "metadata": {
  "interpreter": {
   "hash": "aee8b7b246df8f9039afb4144a1f6fd8d2ca17a180786b69acc140d282b71a49"
  },
  "kernelspec": {
   "display_name": "Python 3",
   "language": "python",
   "name": "python3"
  },
  "language_info": {
   "codemirror_mode": {
    "name": "ipython",
    "version": 3
   },
   "file_extension": ".py",
   "mimetype": "text/x-python",
   "name": "python",
   "nbconvert_exporter": "python",
   "pygments_lexer": "ipython3",
   "version": "3.8.8"
  }
 },
 "nbformat": 4,
 "nbformat_minor": 2
}