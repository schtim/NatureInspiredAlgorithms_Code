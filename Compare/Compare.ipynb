{
 "cells": [
  {
   "cell_type": "markdown",
   "source": [
    "# Vergleich der Algorithmen"
   ],
   "metadata": {}
  },
  {
   "cell_type": "code",
   "execution_count": 134,
   "source": [
    "# imports\n",
    "# add folder to syspath to import GeneticAlgorithm \n",
    "import os\n",
    "import sys\n",
    "path = os.path.dirname(os.path.abspath(''))\n",
    "sys.path.insert(0, path+'/GeneticAlgorithm')\n",
    "from GeneticAlgorithm import GeneticAlgorithm\n",
    "sys.path.insert(0, path+'/ParticleSwarmOptimization')\n",
    "from ParticleSwarmOptimization import ParticleSwarmOptimization\n",
    "\n",
    " # add folder to syspath to import ACO \n",
    "sys.path.insert(0, os.path.dirname(path)+'/AntColonyOptimization')\n",
    "\n",
    "import numpy as np\n",
    "from matplotlib import pyplot as plt\n"
   ],
   "outputs": [],
   "metadata": {}
  },
  {
   "cell_type": "markdown",
   "source": [
    "# Funktion zum Vergleich Bestwerte und der Laufzeit"
   ],
   "metadata": {}
  },
  {
   "cell_type": "code",
   "execution_count": 135,
   "source": [
    "def write_best_results_and_runtime(filepath):\n",
    "    ''''Writes an overview of the best results and runtime to the file at filepath'''\n",
    "    algos = ['GA', 'PSO', 'ACO', 'FF', 'FFD']\n",
    "    sizes = [50,100,250,500,1000]\n",
    "    path = os.path.dirname(os.path.abspath(''))\n",
    "    path = path+ '/Compare'\n",
    "    with open(filepath, 'w')  as res_file:\n",
    "        res_file.write('Übersicht über die Algorithmen\\n')\n",
    "        for size in sizes:\n",
    "            for number in np.arange(10):\n",
    "                best_sol = np.load(os.path.join(path, f'Ressources/newproblem/optimal_solutions_{size}.npy'))\n",
    "                best_sol = best_sol[number]\n",
    "                res_file.write(f'new_{size}_{number} Problem:\\n')\n",
    "                res_file.write(f'Optimale Lösung des Problems: {best_sol}\\n')\n",
    "                for algo in algos: \n",
    "                    try:\n",
    "                        gbest = np.load(os.path.join(path,f'Solutions/new_{size}_{number}_{algo}_gbest_bins.npy'))\n",
    "                        runtime = np.load(os.path.join(path,f'Solutions/new_{size}_{number}_{algo}_runtime.npy'))\n",
    "                    except:\n",
    "                        print(f'Ergebnis des new_{size}_{number} Problem für {algo} konnte nicht geladen werden.')\n",
    "                        gbest = [0]\n",
    "                        runtime = 0 \n",
    "                    if algo == 'PSO' or algo == 'ACO':\n",
    "                        try: \n",
    "                            gbest = np.min(gbest,1)\n",
    "                        except:\n",
    "                            print('Problem beim umwandeln.')\n",
    "                    gbest_1 = int(np.min(gbest))\n",
    "                    gbest_1_freq = np.count_nonzero(gbest == gbest_1)/len(gbest)*100 \n",
    "                    gbest_2 = gbest_1+1\n",
    "                    gbest_2_freq = np.count_nonzero(gbest == gbest_2)/len(gbest)*100 \n",
    "                    gbest_3 = gbest_2+1\n",
    "                    gbest_3_freq = np.count_nonzero(gbest == gbest_3)/len(gbest)*100 \n",
    "                    runtime_av = np.average(runtime)\n",
    "                    res_string = f'Algorithmus:\\t{algo:10s} |  Beste Werte: {gbest_1:3.0f} in {gbest_1_freq:3.0f}% | {gbest_2:3.0f} in {gbest_2_freq:3.0f}% | {gbest_3:3.0f} in {gbest_3_freq:3.0f}% der Fälle. | Mit Laufzeit: {runtime_av:10.2f}'\n",
    "                    res_file.write(res_string+ '\\n')\n",
    "                res_file.write('---------------------------------------------------------------------------\\n')\n",
    "                res_file.write('\\n')"
   ],
   "outputs": [],
   "metadata": {}
  },
  {
   "cell_type": "code",
   "execution_count": 136,
   "source": [
    "def write_av_results(filepath):\n",
    "    algos = ['GA', 'PSO', 'ACO', 'FF', 'FFD']\n",
    "    sizes = [50,100,250,500]\n",
    "    path = os.path.dirname(os.path.abspath(''))\n",
    "    path = path+ '/Compare'\n",
    "    rel_results = np.zeros((5,4,10,2))\n",
    "    with open(filepath, 'w')  as res_file:\n",
    "        res_file.write('Übersicht über die Algorithmen\\n')\n",
    "        for size_index,size in enumerate(sizes):\n",
    "            for number in np.arange(10):\n",
    "                    best_sol = np.load(os.path.join(path, f'Ressources/newproblem/optimal_solutions_{size}.npy'))\n",
    "                    best_sol = best_sol[number]\n",
    "                    res_file.write(f'new_{size}_{number} Problem:\\n')\n",
    "                    res_file.write(f'Optimale Lösung des Problems: {best_sol}\\n')\n",
    "                    for algo_index,algo in enumerate(algos): \n",
    "                        try:\n",
    "                            gbest = np.load(os.path.join(path,f'Solutions/new_{size}_{number}_{algo}_gbest_bins.npy'))\n",
    "                            runtime = np.load(os.path.join(path,f'Solutions/new_{size}_{number}_{algo}_runtime.npy'))\n",
    "                        except:\n",
    "                            print(f'Ergebnis des new_{size}_{number} Problem für {algo} konnte nicht geladen werden.')\n",
    "                            gbest = [0]\n",
    "                            runtime = 0 \n",
    "                        if algo == 'PSO' or algo == 'ACO':\n",
    "                            try: \n",
    "                                gbest = np.min(gbest,1)\n",
    "                            except:\n",
    "                                print('Problem beim umwandeln.')\n",
    "                        gbest_1 = float(np.min(gbest))\n",
    "                        gbest_1_freq = np.count_nonzero(gbest == gbest_1)/len(gbest)\n",
    "                        gbest_rel_1 = (gbest_1-best_sol) / best_sol\n",
    "                        gbest_2 = gbest_1+1\n",
    "                        gbest_2_freq = np.count_nonzero(gbest == gbest_2)/len(gbest)\n",
    "                        gbest_rel_2 = (gbest_2-best_sol) / best_sol\n",
    "                        gbest_3 = gbest_2+1\n",
    "                        gbest_3_freq = np.count_nonzero(gbest == gbest_3)/len(gbest)\n",
    "                        gbest_rel_3 = (gbest_3-best_sol) / best_sol\n",
    "                        runtime_av = np.average(runtime)\n",
    "                        assert(((gbest_1_freq+gbest_2_freq+gbest_3_freq) > 0.99) and ((gbest_1_freq+gbest_2_freq+gbest_3_freq) < 1.01)), f'Fractions dont add up. Frac = {(gbest_1_freq+gbest_2_freq+gbest_3_freq)}'\n",
    "                        rel_results[algo_index][size_index][number][0] = gbest_1_freq*gbest_rel_2 + gbest_2_freq*gbest_rel_2 + gbest_3_freq*gbest_rel_3\n",
    "                        rel_results[algo_index][size_index][number][1] = runtime_av\n",
    "                        res_string = f'Algorithmus:\\t{algo:10s} |  Beste Werte: {gbest_rel_1:3.2f} in {gbest_1_freq:3.2f} | {gbest_rel_2:3.2f} in {gbest_2_freq:3.2f} | {gbest_rel_3:3.2f} in {gbest_3_freq:3.02} der Fälle. | Mit Laufzeit: {runtime_av:10.2f}'\n",
    "                        res_file.write(res_string+ '\\n')\n",
    "                    res_file.write('---------------------------------------------------------------------------\\n')\n",
    "                    res_file.write('\\n')\n",
    "        res_file.write('Zusammenfassung der Ergebnisse\\n')\n",
    "        rel_results = np.average(rel_results, 2)\n",
    "        for size_index, size in enumerate(sizes):\n",
    "            res_file.write(f'new_{size} Problem:\\n')\n",
    "            for algo_index, algo in enumerate(algos):\n",
    "                runtime = rel_results[algo_index][size_index][1]\n",
    "                sol = rel_results[algo_index][size_index][0] * 100\n",
    "                res_string = f'Algorithmus:\\t{algo:10s} verfehlt das optimale Ergebnis durchschnittlich um {sol:3.3f}% | Mit Laufzeit: {runtime:10.2f}\\n'\n",
    "                res_file.write(res_string)\n",
    "            res_file.write('\\n')\n"
   ],
   "outputs": [],
   "metadata": {}
  },
  {
   "cell_type": "code",
   "execution_count": 137,
   "source": [
    "write_best_results_and_runtime(os.path.dirname(os.path.abspath(''))+'/Compare/Solutions/compare.txt')"
   ],
   "outputs": [
    {
     "output_type": "stream",
     "name": "stdout",
     "text": [
      "Ergebnis des new_1000_1 Problem für GA konnte nicht geladen werden.\n",
      "Ergebnis des new_1000_1 Problem für PSO konnte nicht geladen werden.\n",
      "Problem beim umwandeln.\n",
      "Ergebnis des new_1000_1 Problem für ACO konnte nicht geladen werden.\n",
      "Problem beim umwandeln.\n",
      "Ergebnis des new_1000_1 Problem für FF konnte nicht geladen werden.\n",
      "Ergebnis des new_1000_2 Problem für GA konnte nicht geladen werden.\n",
      "Ergebnis des new_1000_2 Problem für PSO konnte nicht geladen werden.\n",
      "Problem beim umwandeln.\n",
      "Ergebnis des new_1000_2 Problem für ACO konnte nicht geladen werden.\n",
      "Problem beim umwandeln.\n",
      "Ergebnis des new_1000_2 Problem für FF konnte nicht geladen werden.\n",
      "Ergebnis des new_1000_3 Problem für GA konnte nicht geladen werden.\n",
      "Ergebnis des new_1000_3 Problem für PSO konnte nicht geladen werden.\n",
      "Problem beim umwandeln.\n",
      "Ergebnis des new_1000_3 Problem für ACO konnte nicht geladen werden.\n",
      "Problem beim umwandeln.\n",
      "Ergebnis des new_1000_3 Problem für FF konnte nicht geladen werden.\n",
      "Ergebnis des new_1000_4 Problem für GA konnte nicht geladen werden.\n",
      "Ergebnis des new_1000_4 Problem für PSO konnte nicht geladen werden.\n",
      "Problem beim umwandeln.\n",
      "Ergebnis des new_1000_4 Problem für ACO konnte nicht geladen werden.\n",
      "Problem beim umwandeln.\n",
      "Ergebnis des new_1000_4 Problem für FF konnte nicht geladen werden.\n",
      "Ergebnis des new_1000_5 Problem für GA konnte nicht geladen werden.\n",
      "Ergebnis des new_1000_5 Problem für PSO konnte nicht geladen werden.\n",
      "Problem beim umwandeln.\n",
      "Ergebnis des new_1000_5 Problem für ACO konnte nicht geladen werden.\n",
      "Problem beim umwandeln.\n",
      "Ergebnis des new_1000_5 Problem für FF konnte nicht geladen werden.\n",
      "Ergebnis des new_1000_6 Problem für GA konnte nicht geladen werden.\n",
      "Ergebnis des new_1000_6 Problem für PSO konnte nicht geladen werden.\n",
      "Problem beim umwandeln.\n",
      "Ergebnis des new_1000_6 Problem für ACO konnte nicht geladen werden.\n",
      "Problem beim umwandeln.\n",
      "Ergebnis des new_1000_6 Problem für FF konnte nicht geladen werden.\n",
      "Ergebnis des new_1000_7 Problem für GA konnte nicht geladen werden.\n",
      "Ergebnis des new_1000_7 Problem für PSO konnte nicht geladen werden.\n",
      "Problem beim umwandeln.\n",
      "Ergebnis des new_1000_7 Problem für ACO konnte nicht geladen werden.\n",
      "Problem beim umwandeln.\n",
      "Ergebnis des new_1000_7 Problem für FF konnte nicht geladen werden.\n",
      "Ergebnis des new_1000_8 Problem für GA konnte nicht geladen werden.\n",
      "Ergebnis des new_1000_8 Problem für PSO konnte nicht geladen werden.\n",
      "Problem beim umwandeln.\n",
      "Ergebnis des new_1000_8 Problem für ACO konnte nicht geladen werden.\n",
      "Problem beim umwandeln.\n",
      "Ergebnis des new_1000_8 Problem für FF konnte nicht geladen werden.\n",
      "Ergebnis des new_1000_9 Problem für GA konnte nicht geladen werden.\n",
      "Ergebnis des new_1000_9 Problem für PSO konnte nicht geladen werden.\n",
      "Problem beim umwandeln.\n",
      "Ergebnis des new_1000_9 Problem für ACO konnte nicht geladen werden.\n",
      "Problem beim umwandeln.\n",
      "Ergebnis des new_1000_9 Problem für FF konnte nicht geladen werden.\n"
     ]
    }
   ],
   "metadata": {}
  },
  {
   "cell_type": "code",
   "execution_count": 138,
   "source": [
    "write_av_results(os.path.dirname(os.path.abspath(''))+'/Compare/Solutions/rel_compare.txt')"
   ],
   "outputs": [],
   "metadata": {}
  },
  {
   "cell_type": "markdown",
   "source": [
    "# Compare Function"
   ],
   "metadata": {}
  },
  {
   "cell_type": "code",
   "execution_count": 89,
   "source": [
    "def plot_problem(size, number, type, xlim = None, ylim = None):\n",
    "    '''\n",
    "    Plots the new Problem\n",
    "    size: Size of the Problem\n",
    "    number: Problem Number\n",
    "    type: 'Average', 'Best' or 'Worst'\n",
    "    xlim: array of x values to be plotted\n",
    "    ylim: array of y values to be plotted\n",
    "    '''\n",
    "    path = os.path.dirname(os.path.abspath(''))\n",
    "    path = path+ '/Compare'\n",
    "    optimal_solution = np.load(os.path.join(path, f'Ressources/newproblem/optimal_solutions_{size}.npy'))\n",
    "    optimal_solution = optimal_solution[number]\n",
    "    ga_vals = np.array([])\n",
    "    pso_vals = np.array([])\n",
    "    aco_vals = np.array([])\n",
    "    if type == 'Average':\n",
    "        # load the relevant information \n",
    "        try:\n",
    "            ga_vals = np.average(np.load(os.path.join(path,f'Solutions/new_{size}_{number}_GA_average_bins.npy')),0)\n",
    "            ga_x = np.arange(len(ga_vals)) * (100/len(ga_vals))\n",
    "            pso_vals = np.average(np.load(os.path.join(path,f'Solutions/new_{size}_{number}_PSO_average_bins.npy')),0)\n",
    "            pso_x = np.arange(len(pso_vals))* (100/len(pso_vals))\n",
    "            aco_vals = np.average(np.load(os.path.join(path,f'Solutions/new_{size}_{number}_ACO_average_bins.npy')),0)\n",
    "            aco_x = np.arange(len(aco_vals))* (100/len(aco_vals))\n",
    "        except Exception as e:\n",
    "            print(e)\n",
    "            print('Problem konnte nicht geladen werden')\n",
    "    if type == 'Best':\n",
    "        # load the relevant information \n",
    "        try:\n",
    "            ga_vals = np.load(os.path.join(path,f'Solutions/new_{size}_{number}_GA_best_bins.npy'))\n",
    "            ga_x = np.arange(len(ga_vals)) * (100/len(ga_vals))\n",
    "            pso_vals = np.average(np.load(os.path.join(path,f'Solutions/new_{size}_{number}_PSO_best_bins.npy')),0)\n",
    "            pso_x = np.arange(len(pso_vals))* (100/len(pso_vals))\n",
    "            aco_vals = np.average(np.load(os.path.join(path,f'Solutions/new_{size}_{number}_ACO_best_bins.npy')),0)\n",
    "            aco_x = np.arange(len(aco_vals))* (100/len(aco_vals))\n",
    "        except Exception as e:\n",
    "            print(e)\n",
    "            print('Problem konnte nicht geladen werden')\n",
    "    if type == 'Worst':\n",
    "        try:\n",
    "            ga_vals = np.load(os.path.join(path,f'Solutions/new_{size}_{number}_GA_worst_bins.npy'))\n",
    "            ga_x = np.arange(len(ga_vals)) * (100/len(ga_vals))\n",
    "            pso_vals = np.average(np.load(os.path.join(path,f'Solutions/new_{size}_{number}_PSO_worst_bins.npy')),0)\n",
    "            pso_x = np.arange(len(pso_vals))* (100/len(pso_vals))\n",
    "            aco_vals = np.average(np.load(os.path.join(path,f'Solutions/new_{size}_{number}_ACO_worst_bins.npy')),0)\n",
    "            aco_x = np.arange(len(aco_vals))* (100/len(aco_vals))\n",
    "        except Exception as e:\n",
    "            print(e)\n",
    "            print('Problem konnte nicht geladen werden')\n",
    "    # get x_vals\n",
    "    x_lim = np.max(np.array([len(ga_vals), len(pso_vals), len(aco_vals)]))\n",
    "    x_vals = np.arange(x_lim)\n",
    "    # Plot the data\n",
    "    # Punkte visualisieren\n",
    "    fig, ax = plt.subplots(1,figsize=(16,7))\n",
    "    fig.tight_layout(h_pad=6)\n",
    "    if xlim != None:\n",
    "        ax.set_xlim(xlim)\n",
    "    if ylim != None:\n",
    "        ax.set_ylim(ylim)\n",
    "    ax.set_xlabel('Laufzeit in %')\n",
    "    ax.set_ylabel(\"Number of Bins\")\n",
    "    ax.set_title(f'{type} Number of bins for {size} Objects (Average 10 runs)')\n",
    "    ax.plot(ga_x, ga_vals, color=\"blue\", label = f'Genetic Algorithm')\n",
    "    ax.plot(pso_x, pso_vals, color=\"red\", label = f'Particle Swarm Optimization')\n",
    "    ax.plot(aco_x, aco_vals, color=\"green\", label = f'Ant Colony Optimization')\n",
    "    ax.plot(np.arange(100), [optimal_solution]*100, color = \"black\",linestyle = 'dashed', label = f'Optimal Solution ({optimal_solution} Container)')\n",
    "    ax.legend()\n",
    "    plt.show()"
   ],
   "outputs": [],
   "metadata": {}
  },
  {
   "cell_type": "code",
   "execution_count": 132,
   "source": [
    "plot_problem(50, 4, 'Average' )"
   ],
   "outputs": [
    {
     "output_type": "display_data",
     "data": {
      "text/plain": [
       "<Figure size 1152x504 with 1 Axes>"
      ],
      "image/png": "[encoded data removed]"
     },
     "metadata": {
      "needs_background": "light"
     }
    }
   ],
   "metadata": {}
  },
  {
   "cell_type": "code",
   "execution_count": 6,
   "source": [
    "# lade die Probleme (klassisch)\n",
    "# small problem\n",
    "small_objects  = np.load(os.path.join(path,'Compare/Ressources/betterproblem/small_objects.npy'))\n",
    "small_container = np.load(os.path.join(path,'Compare/Ressources/betterproblem/small_container.npy'))\n",
    "small_optimal_solution = np.load(os.path.join(path, 'Compare/Ressources/betterproblem/small_optimal.npy'))\n",
    "# medium Problem\n",
    "medium_objects= np.load(os.path.join(path,'Compare/Ressources/betterproblem/medium_objects.npy'))\n",
    "medium_container = np.load(os.path.join(path,'Compare/Ressources/betterproblem/medium_container.npy'))\n",
    "medium_optimal_solution = np.load(os.path.join(path, 'Compare/Ressources/betterproblem/medium_optimal.npy'))\n",
    "# large Problem\n",
    "large_objects  = np.load(os.path.join(path,'Compare/Ressources/betterproblem/large_objects.npy'))\n",
    "large_container = np.load(os.path.join(path,'Compare/Ressources/betterproblem/large_container.npy'))\n",
    "large_optimal_solution = np.load(os.path.join(path, 'Compare/Ressources/betterproblem/large_optimal.npy'))\n",
    "\n",
    "print('Optimale Lösungen')\n",
    "print(f'Kleines Problem {small_optimal_solution}')\n",
    "print(f'Medium Problem {medium_optimal_solution}')\n",
    "print(f'Großes Problem {large_optimal_solution}')"
   ],
   "outputs": [
    {
     "output_type": "stream",
     "name": "stdout",
     "text": [
      "Optimale Lösungen\n",
      "Kleines Problem 3\n",
      "Medium Problem 16\n",
      "Großes Problem 35\n"
     ]
    }
   ],
   "metadata": {}
  },
  {
   "cell_type": "code",
   "execution_count": 7,
   "source": [
    "# lade die Probleme (neu)\n",
    "# 50\n",
    "new_50_0 = np.load(os.path.join(path,'Compare/Ressources/newproblem/o50_0.npy'))\n",
    "new_50_1 = np.load(os.path.join(path,'Compare/Ressources/newproblem/o50_1.npy'))\n",
    "new_50_2 = np.load(os.path.join(path,'Compare/Ressources/newproblem/o50_2.npy'))\n",
    "new_50_3 = np.load(os.path.join(path,'Compare/Ressources/newproblem/o50_3.npy'))\n",
    "new_50_4 = np.load(os.path.join(path,'Compare/Ressources/newproblem/o50_4.npy'))\n",
    "new_50_5 = np.load(os.path.join(path,'Compare/Ressources/newproblem/o50_5.npy'))\n",
    "new_50_6 = np.load(os.path.join(path,'Compare/Ressources/newproblem/o50_6.npy'))\n",
    "new_50_7 = np.load(os.path.join(path,'Compare/Ressources/newproblem/o50_7.npy'))\n",
    "new_50_8 = np.load(os.path.join(path,'Compare/Ressources/newproblem/o50_8.npy'))\n",
    "new_50_9 = np.load(os.path.join(path,'Compare/Ressources/newproblem/o50_9.npy'))\n",
    "new_50_container = np.load(os.path.join(path,'Compare/Ressources/newproblem/medium_container.npy'))\n",
    "new_50_optimal = np.load(os.path.join(path,'Compare/Ressources/newproblem/optimal_solutions_50.npy'))\n",
    "# 100\n",
    "new_100_0 = np.load(os.path.join(path,'Compare/Ressources/newproblem/o100_0.npy'))\n",
    "new_100_1 = np.load(os.path.join(path,'Compare/Ressources/newproblem/o100_1.npy'))\n",
    "new_100_2 = np.load(os.path.join(path,'Compare/Ressources/newproblem/o100_2.npy'))\n",
    "new_100_3 = np.load(os.path.join(path,'Compare/Ressources/newproblem/o100_3.npy'))\n",
    "new_100_4 = np.load(os.path.join(path,'Compare/Ressources/newproblem/o100_4.npy'))\n",
    "new_100_5 = np.load(os.path.join(path,'Compare/Ressources/newproblem/o100_5.npy'))\n",
    "new_100_6 = np.load(os.path.join(path,'Compare/Ressources/newproblem/o100_6.npy'))\n",
    "new_100_7 = np.load(os.path.join(path,'Compare/Ressources/newproblem/o100_7.npy'))\n",
    "new_100_8 = np.load(os.path.join(path,'Compare/Ressources/newproblem/o100_8.npy'))\n",
    "new_100_9 = np.load(os.path.join(path,'Compare/Ressources/newproblem/o100_9.npy'))\n",
    "new_100_container = np.load(os.path.join(path,'Compare/Ressources/newproblem/medium_container.npy'))\n",
    "new_100_optimal = np.load(os.path.join(path,'Compare/Ressources/newproblem/optimal_solutions_100.npy'))\n",
    "# 250\n",
    "new_250_0 = np.load(os.path.join(path,'Compare/Ressources/newproblem/o250_0.npy'))\n",
    "new_250_1 = np.load(os.path.join(path,'Compare/Ressources/newproblem/o250_1.npy'))\n",
    "new_250_2 = np.load(os.path.join(path,'Compare/Ressources/newproblem/o250_2.npy'))\n",
    "new_250_3 = np.load(os.path.join(path,'Compare/Ressources/newproblem/o250_3.npy'))\n",
    "new_250_4 = np.load(os.path.join(path,'Compare/Ressources/newproblem/o250_4.npy'))\n",
    "new_250_5 = np.load(os.path.join(path,'Compare/Ressources/newproblem/o250_5.npy'))\n",
    "new_250_6 = np.load(os.path.join(path,'Compare/Ressources/newproblem/o250_6.npy'))\n",
    "new_250_7 = np.load(os.path.join(path,'Compare/Ressources/newproblem/o250_7.npy'))\n",
    "new_250_8 = np.load(os.path.join(path,'Compare/Ressources/newproblem/o250_8.npy'))\n",
    "new_250_9 = np.load(os.path.join(path,'Compare/Ressources/newproblem/o250_9.npy'))\n",
    "new_250_container = np.load(os.path.join(path,'Compare/Ressources/newproblem/medium_container.npy'))\n",
    "new_250_optimal = np.load(os.path.join(path,'Compare/Ressources/newproblem/optimal_solutions_250.npy'))\n",
    "# 500\n",
    "new_500_0 = np.load(os.path.join(path,'Compare/Ressources/newproblem/o500_0.npy'))\n",
    "new_500_1 = np.load(os.path.join(path,'Compare/Ressources/newproblem/o500_1.npy'))\n",
    "new_500_2 = np.load(os.path.join(path,'Compare/Ressources/newproblem/o500_2.npy'))\n",
    "new_500_3 = np.load(os.path.join(path,'Compare/Ressources/newproblem/o500_3.npy'))\n",
    "new_500_4 = np.load(os.path.join(path,'Compare/Ressources/newproblem/o500_4.npy'))\n",
    "new_500_5 = np.load(os.path.join(path,'Compare/Ressources/newproblem/o500_5.npy'))\n",
    "new_500_6 = np.load(os.path.join(path,'Compare/Ressources/newproblem/o500_6.npy'))\n",
    "new_500_7 = np.load(os.path.join(path,'Compare/Ressources/newproblem/o500_7.npy'))\n",
    "new_500_8 = np.load(os.path.join(path,'Compare/Ressources/newproblem/o500_8.npy'))\n",
    "new_500_9 = np.load(os.path.join(path,'Compare/Ressources/newproblem/o500_9.npy'))\n",
    "new_500_container = np.load(os.path.join(path,'Compare/Ressources/newproblem/medium_container.npy'))\n",
    "new_500_optimal = np.load(os.path.join(path,'Compare/Ressources/newproblem/optimal_solutions_500.npy'))\n",
    "# 1000\n",
    "new_1000_0 = np.load(os.path.join(path,'Compare/Ressources/newproblem/o1000_0.npy'))\n",
    "new_1000_1 = np.load(os.path.join(path,'Compare/Ressources/newproblem/o1000_1.npy'))\n",
    "new_1000_2 = np.load(os.path.join(path,'Compare/Ressources/newproblem/o1000_2.npy'))\n",
    "new_1000_3 = np.load(os.path.join(path,'Compare/Ressources/newproblem/o1000_3.npy'))\n",
    "new_1000_4 = np.load(os.path.join(path,'Compare/Ressources/newproblem/o1000_4.npy'))\n",
    "new_1000_5 = np.load(os.path.join(path,'Compare/Ressources/newproblem/o1000_5.npy'))\n",
    "new_1000_6 = np.load(os.path.join(path,'Compare/Ressources/newproblem/o1000_6.npy'))\n",
    "new_1000_7 = np.load(os.path.join(path,'Compare/Ressources/newproblem/o1000_7.npy'))\n",
    "new_1000_8 = np.load(os.path.join(path,'Compare/Ressources/newproblem/o1000_8.npy'))\n",
    "new_1000_9 = np.load(os.path.join(path,'Compare/Ressources/newproblem/o1000_9.npy'))\n",
    "new_1000_container = np.load(os.path.join(path,'Compare/Ressources/newproblem/medium_container.npy'))\n",
    "new_1000_optimal = np.load(os.path.join(path,'Compare/Ressources/newproblem/optimal_solutions_1000.npy'))\n",
    "print('Optimale Lösungen')\n",
    "print(f'50: {new_50_optimal}')\n",
    "print(f'100 {new_100_optimal}')\n",
    "print(f'250 {new_250_optimal}')\n",
    "print(f'500 {new_500_optimal}')\n",
    "print(f'1000 {new_1000_optimal}')"
   ],
   "outputs": [
    {
     "output_type": "stream",
     "name": "stdout",
     "text": [
      "Optimale Lösungen\n",
      "50: [14 14 14 15 14 13 13 13 14 14]\n",
      "100 [30 26 29 27 29 29 29 25 27 27]\n",
      "250 [72 70 67 71 71 71 67 74 75 71]\n",
      "500 [145 139 141 146 143 149 142 143 147 140]\n",
      "1000 [283 288 283 284 282 293 286 282 285 291]\n"
     ]
    }
   ],
   "metadata": {}
  },
  {
   "cell_type": "code",
   "execution_count": 8,
   "source": [
    "number_average = 10"
   ],
   "outputs": [],
   "metadata": {}
  },
  {
   "cell_type": "markdown",
   "source": [
    "# PSO"
   ],
   "metadata": {}
  },
  {
   "cell_type": "code",
   "execution_count": 9,
   "source": [
    "# _,solution_bins[i], runtime[i], gbest_bins[i], gbest_fitness[i], average_bins[i], best_bins[i], worst_bins[i], fitness[i], _, _, _ = PSO.run()\n",
    "\n",
    "number_particles = 40\n",
    "iterations = 100"
   ],
   "outputs": [],
   "metadata": {}
  },
  {
   "cell_type": "markdown",
   "source": [
    "## PSO new_50"
   ],
   "metadata": {}
  },
  {
   "cell_type": "markdown",
   "source": [
    "### new_50_0"
   ],
   "metadata": {}
  },
  {
   "cell_type": "code",
   "execution_count": 10,
   "source": [
    "new_50_0_PSO_solution_bins = np.zeros(number_average) #wichtig\n",
    "new_50_0_PSO_runtime = np.zeros(number_average) #wichtig\n",
    "new_50_0_PSO_gbest_bins = np.zeros((number_average, iterations))\n",
    "new_50_0_PSO_gbest_fitness = np.zeros((number_average, iterations))\n",
    "new_50_0_PSO_average_bins = np.zeros((number_average, iterations)) #wichtig\n",
    "new_50_0_PSO_best_bins = np.zeros((number_average, iterations)) #wichtig\n",
    "new_50_0_PSO_worst_bins = np.zeros((number_average, iterations)) #wichtig\n",
    "new_50_0_PSO_fitness = np.zeros((number_average, iterations)) #wichtig\n",
    "new_50_0_PSO_unfit_moves = np.zeros((number_average, iterations))\n",
    "new_50_0_PSO_chaos_moves = np.zeros((number_average, iterations))\n",
    "new_50_0_PSO_heuristic_moves = np.zeros((number_average, iterations))\n",
    "\n",
    "for i in range(number_average):\n",
    "    PSO = ParticleSwarmOptimization(number_particles, iterations, new_50_0, new_50_container[0], new_50_container[1], 0.5, 0.1, 0.1, 0.1, 0.5, 0.1, 'random', 'first_fit', 'first_fit')\n",
    "    _, new_50_0_PSO_solution_bins[i], new_50_0_PSO_runtime[i], new_50_0_PSO_gbest_bins[i], new_50_0_PSO_gbest_fitness[i], new_50_0_PSO_average_bins[i], new_50_0_PSO_best_bins[i], new_50_0_PSO_worst_bins[i], new_50_0_PSO_fitness[i], new_50_0_PSO_unfit_moves[i], new_50_0_PSO_chaos_moves[i], new_50_0_PSO_heuristic_moves[i] = PSO.run()\n",
    "    print(str(i) + ' done')\n",
    "    \n",
    "name1 = 'Solutions/new_50_0_PSO_solution_bins.npy'\n",
    "name2 = 'Solutions/new_50_0_PSO_runtime.npy'\n",
    "name3 = 'Solutions/new_50_0_PSO_gbest_bins.npy'\n",
    "name4 = 'Solutions/new_50_0_PSO_gbest_fitness.npy'\n",
    "name5 = 'Solutions/new_50_0_PSO_average_bins.npy'\n",
    "name6 = 'Solutions/new_50_0_PSO_best_bins.npy'\n",
    "name7 = 'Solutions/new_50_0_PSO_worst_bins.npy'\n",
    "name8 = 'Solutions/new_50_0_PSO_fitness.npy'\n",
    "name9 = 'Solutions/new_50_0_PSO_unfit_moves.npy'\n",
    "name10 = 'Solutions/new_50_0_PSO_chaos_moves.npy'\n",
    "name11 = 'Solutions/new_50_0_PSO_heuristic_moves.npy'\n",
    "\n",
    "np.save(name1, new_50_0_PSO_solution_bins)\n",
    "np.save(name2, new_50_0_PSO_runtime)\n",
    "np.save(name3, new_50_0_PSO_gbest_bins)\n",
    "np.save(name4, new_50_0_PSO_gbest_fitness)\n",
    "np.save(name5, new_50_0_PSO_average_bins)\n",
    "np.save(name6, new_50_0_PSO_best_bins)\n",
    "np.save(name7, new_50_0_PSO_worst_bins)\n",
    "np.save(name8, new_50_0_PSO_fitness)\n",
    "np.save(name9, new_50_0_PSO_unfit_moves)\n",
    "np.save(name10, new_50_0_PSO_chaos_moves)\n",
    "np.save(name11, new_50_0_PSO_heuristic_moves)"
   ],
   "outputs": [
    {
     "output_type": "error",
     "ename": "TypeError",
     "evalue": "__init__() takes 4 positional arguments but 15 were given",
     "traceback": [
      "\u001b[0;31m---------------------------------------------------------------------------\u001b[0m",
      "\u001b[0;31mTypeError\u001b[0m                                 Traceback (most recent call last)",
      "\u001b[0;32m/var/folders/6j/_dhbmfxs7j5_s134l1bccbzc0000gn/T/ipykernel_31502/862281104.py\u001b[0m in \u001b[0;36m<module>\u001b[0;34m\u001b[0m\n\u001b[1;32m     12\u001b[0m \u001b[0;34m\u001b[0m\u001b[0m\n\u001b[1;32m     13\u001b[0m \u001b[0;32mfor\u001b[0m \u001b[0mi\u001b[0m \u001b[0;32min\u001b[0m \u001b[0mrange\u001b[0m\u001b[0;34m(\u001b[0m\u001b[0mnumber_average\u001b[0m\u001b[0;34m)\u001b[0m\u001b[0;34m:\u001b[0m\u001b[0;34m\u001b[0m\u001b[0;34m\u001b[0m\u001b[0m\n\u001b[0;32m---> 14\u001b[0;31m     \u001b[0mPSO\u001b[0m \u001b[0;34m=\u001b[0m \u001b[0mParticleSwarmOptimization\u001b[0m\u001b[0;34m(\u001b[0m\u001b[0mnumber_particles\u001b[0m\u001b[0;34m,\u001b[0m \u001b[0miterations\u001b[0m\u001b[0;34m,\u001b[0m \u001b[0mnew_50_0\u001b[0m\u001b[0;34m,\u001b[0m \u001b[0mnew_50_container\u001b[0m\u001b[0;34m[\u001b[0m\u001b[0;36m0\u001b[0m\u001b[0;34m]\u001b[0m\u001b[0;34m,\u001b[0m \u001b[0mnew_50_container\u001b[0m\u001b[0;34m[\u001b[0m\u001b[0;36m1\u001b[0m\u001b[0;34m]\u001b[0m\u001b[0;34m,\u001b[0m \u001b[0;36m0.5\u001b[0m\u001b[0;34m,\u001b[0m \u001b[0;36m0.1\u001b[0m\u001b[0;34m,\u001b[0m \u001b[0;36m0.1\u001b[0m\u001b[0;34m,\u001b[0m \u001b[0;36m0.1\u001b[0m\u001b[0;34m,\u001b[0m \u001b[0;36m0.5\u001b[0m\u001b[0;34m,\u001b[0m \u001b[0;36m0.1\u001b[0m\u001b[0;34m,\u001b[0m \u001b[0;34m'random'\u001b[0m\u001b[0;34m,\u001b[0m \u001b[0;34m'first_fit'\u001b[0m\u001b[0;34m,\u001b[0m \u001b[0;34m'first_fit'\u001b[0m\u001b[0;34m)\u001b[0m\u001b[0;34m\u001b[0m\u001b[0;34m\u001b[0m\u001b[0m\n\u001b[0m\u001b[1;32m     15\u001b[0m     \u001b[0m_\u001b[0m\u001b[0;34m,\u001b[0m \u001b[0mnew_50_0_PSO_solution_bins\u001b[0m\u001b[0;34m[\u001b[0m\u001b[0mi\u001b[0m\u001b[0;34m]\u001b[0m\u001b[0;34m,\u001b[0m \u001b[0mnew_50_0_PSO_runtime\u001b[0m\u001b[0;34m[\u001b[0m\u001b[0mi\u001b[0m\u001b[0;34m]\u001b[0m\u001b[0;34m,\u001b[0m \u001b[0mnew_50_0_PSO_gbest_bins\u001b[0m\u001b[0;34m[\u001b[0m\u001b[0mi\u001b[0m\u001b[0;34m]\u001b[0m\u001b[0;34m,\u001b[0m \u001b[0mnew_50_0_PSO_gbest_fitness\u001b[0m\u001b[0;34m[\u001b[0m\u001b[0mi\u001b[0m\u001b[0;34m]\u001b[0m\u001b[0;34m,\u001b[0m \u001b[0mnew_50_0_PSO_average_bins\u001b[0m\u001b[0;34m[\u001b[0m\u001b[0mi\u001b[0m\u001b[0;34m]\u001b[0m\u001b[0;34m,\u001b[0m \u001b[0mnew_50_0_PSO_best_bins\u001b[0m\u001b[0;34m[\u001b[0m\u001b[0mi\u001b[0m\u001b[0;34m]\u001b[0m\u001b[0;34m,\u001b[0m \u001b[0mnew_50_0_PSO_worst_bins\u001b[0m\u001b[0;34m[\u001b[0m\u001b[0mi\u001b[0m\u001b[0;34m]\u001b[0m\u001b[0;34m,\u001b[0m \u001b[0mnew_50_0_PSO_fitness\u001b[0m\u001b[0;34m[\u001b[0m\u001b[0mi\u001b[0m\u001b[0;34m]\u001b[0m\u001b[0;34m,\u001b[0m \u001b[0mnew_50_0_PSO_unfit_moves\u001b[0m\u001b[0;34m[\u001b[0m\u001b[0mi\u001b[0m\u001b[0;34m]\u001b[0m\u001b[0;34m,\u001b[0m \u001b[0mnew_50_0_PSO_chaos_moves\u001b[0m\u001b[0;34m[\u001b[0m\u001b[0mi\u001b[0m\u001b[0;34m]\u001b[0m\u001b[0;34m,\u001b[0m \u001b[0mnew_50_0_PSO_heuristic_moves\u001b[0m\u001b[0;34m[\u001b[0m\u001b[0mi\u001b[0m\u001b[0;34m]\u001b[0m \u001b[0;34m=\u001b[0m \u001b[0mPSO\u001b[0m\u001b[0;34m.\u001b[0m\u001b[0mrun\u001b[0m\u001b[0;34m(\u001b[0m\u001b[0;34m)\u001b[0m\u001b[0;34m\u001b[0m\u001b[0;34m\u001b[0m\u001b[0m\n\u001b[1;32m     16\u001b[0m     \u001b[0mprint\u001b[0m\u001b[0;34m(\u001b[0m\u001b[0mstr\u001b[0m\u001b[0;34m(\u001b[0m\u001b[0mi\u001b[0m\u001b[0;34m)\u001b[0m \u001b[0;34m+\u001b[0m \u001b[0;34m' done'\u001b[0m\u001b[0;34m)\u001b[0m\u001b[0;34m\u001b[0m\u001b[0;34m\u001b[0m\u001b[0m\n",
      "\u001b[0;31mTypeError\u001b[0m: __init__() takes 4 positional arguments but 15 were given"
     ]
    }
   ],
   "metadata": {}
  },
  {
   "cell_type": "code",
   "execution_count": null,
   "source": [],
   "outputs": [],
   "metadata": {}
  }
 ],
 "metadata": {
  "interpreter": {
   "hash": "aee8b7b246df8f9039afb4144a1f6fd8d2ca17a180786b69acc140d282b71a49"
  },
  "kernelspec": {
   "name": "python3",
   "display_name": "Python 3.9.1 64-bit"
  },
  "language_info": {
   "codemirror_mode": {
    "name": "ipython",
    "version": 3
   },
   "file_extension": ".py",
   "mimetype": "text/x-python",
   "name": "python",
   "nbconvert_exporter": "python",
   "pygments_lexer": "ipython3",
   "version": "3.9.1"
  }
 },
 "nbformat": 4,
 "nbformat_minor": 2
}