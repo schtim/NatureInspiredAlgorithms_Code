{
 "cells": [
  {
   "cell_type": "code",
   "execution_count": 1,
   "metadata": {},
   "outputs": [],
   "source": [
    "# imports\n",
    "# add folder to syspath to import GeneticAlgorithm \n",
    "import os\n",
    "import sys\n",
    "path = os.path.dirname(os.path.abspath(''))\n",
    "sys.path.insert(0, path+'/AntColonyOptimization')\n",
    "from AntColonyOptimization import AntColonyOptimization\n",
    "\n",
    "import numpy as np\n",
    "import time\n",
    "from matplotlib import pyplot as plt"
   ]
  },
  {
   "cell_type": "code",
   "execution_count": 2,
   "metadata": {},
   "outputs": [
    {
     "name": "stdout",
     "output_type": "stream",
     "text": [
      "Optimale Lösungen\n",
      "Kleines Problem 3\n",
      "Medium Problem 16\n",
      "Großes Problem 35\n"
     ]
    }
   ],
   "source": [
    "# lade die Probleme\n",
    "# small problem\n",
    "small_objects  = np.load(os.path.join(path,'Compare/Ressources/betterproblem/small_objects.npy'))\n",
    "small_container = np.load(os.path.join(path,'Compare/Ressources/betterproblem/small_container.npy'))\n",
    "small_optimal_solution = np.load(os.path.join(path, 'Compare/Ressources/betterproblem/small_optimal.npy'))\n",
    "# medium Problem\n",
    "medium_objects= np.load(os.path.join(path,'Compare/Ressources/betterproblem/medium_objects.npy'))\n",
    "medium_container = np.load(os.path.join(path,'Compare/Ressources/betterproblem/medium_container.npy'))\n",
    "medium_optimal_solution = np.load(os.path.join(path, 'Compare/Ressources/betterproblem/medium_optimal.npy'))\n",
    "# large Problem\n",
    "large_objects  = np.load(os.path.join(path,'Compare/Ressources/betterproblem/large_objects.npy'))\n",
    "large_container = np.load(os.path.join(path,'Compare/Ressources/betterproblem/large_container.npy'))\n",
    "large_optimal_solution = np.load(os.path.join(path, 'Compare/Ressources/betterproblem/large_optimal.npy'))\n",
    "\n",
    "print('Optimale Lösungen')\n",
    "print(f'Kleines Problem {small_optimal_solution}')\n",
    "print(f'Medium Problem {medium_optimal_solution}')\n",
    "print(f'Großes Problem {large_optimal_solution}')"
   ]
  },
  {
   "cell_type": "code",
   "execution_count": 3,
   "metadata": {},
   "outputs": [
    {
     "name": "stdout",
     "output_type": "stream",
     "text": [
      "Optimale Lösungen\n",
      "50: [14 14 14 15 14 13 13 13 14 14]\n",
      "100 [30 26 29 27 29 29 29 25 27 27]\n",
      "250 [72 70 67 71 71 71 67 74 75 71]\n",
      "500 [145 139 141 146 143 149 142 143 147 140]\n",
      "1000 [283 288 283 284 282 293 286 282 285 291]\n"
     ]
    }
   ],
   "source": [
    "# lade die Probleme (neu)\n",
    "# 50\n",
    "new_50_0 = np.load(os.path.join(path,'Compare/Ressources/newproblem/o50_0.npy'))\n",
    "new_50_1 = np.load(os.path.join(path,'Compare/Ressources/newproblem/o50_1.npy'))\n",
    "new_50_2 = np.load(os.path.join(path,'Compare/Ressources/newproblem/o50_2.npy'))\n",
    "new_50_3 = np.load(os.path.join(path,'Compare/Ressources/newproblem/o50_3.npy'))\n",
    "new_50_4 = np.load(os.path.join(path,'Compare/Ressources/newproblem/o50_4.npy'))\n",
    "new_50_5 = np.load(os.path.join(path,'Compare/Ressources/newproblem/o50_5.npy'))\n",
    "new_50_6 = np.load(os.path.join(path,'Compare/Ressources/newproblem/o50_6.npy'))\n",
    "new_50_7 = np.load(os.path.join(path,'Compare/Ressources/newproblem/o50_7.npy'))\n",
    "new_50_8 = np.load(os.path.join(path,'Compare/Ressources/newproblem/o50_8.npy'))\n",
    "new_50_9 = np.load(os.path.join(path,'Compare/Ressources/newproblem/o50_9.npy'))\n",
    "new_50_container = np.load(os.path.join(path,'Compare/Ressources/newproblem/medium_container.npy'))\n",
    "new_50_optimal = np.load(os.path.join(path,'Compare/Ressources/newproblem/optimal_solutions_50.npy'))\n",
    "# 100\n",
    "new_100_0 = np.load(os.path.join(path,'Compare/Ressources/newproblem/o100_0.npy'))\n",
    "new_100_1 = np.load(os.path.join(path,'Compare/Ressources/newproblem/o100_1.npy'))\n",
    "new_100_2 = np.load(os.path.join(path,'Compare/Ressources/newproblem/o100_2.npy'))\n",
    "new_100_3 = np.load(os.path.join(path,'Compare/Ressources/newproblem/o100_3.npy'))\n",
    "new_100_4 = np.load(os.path.join(path,'Compare/Ressources/newproblem/o100_4.npy'))\n",
    "new_100_5 = np.load(os.path.join(path,'Compare/Ressources/newproblem/o100_5.npy'))\n",
    "new_100_6 = np.load(os.path.join(path,'Compare/Ressources/newproblem/o100_6.npy'))\n",
    "new_100_7 = np.load(os.path.join(path,'Compare/Ressources/newproblem/o100_7.npy'))\n",
    "new_100_8 = np.load(os.path.join(path,'Compare/Ressources/newproblem/o100_8.npy'))\n",
    "new_100_9 = np.load(os.path.join(path,'Compare/Ressources/newproblem/o100_9.npy'))\n",
    "new_100_container = np.load(os.path.join(path,'Compare/Ressources/newproblem/medium_container.npy'))\n",
    "new_100_optimal = np.load(os.path.join(path,'Compare/Ressources/newproblem/optimal_solutions_100.npy'))\n",
    "# 250\n",
    "new_250_0 = np.load(os.path.join(path,'Compare/Ressources/newproblem/o250_0.npy'))\n",
    "new_250_1 = np.load(os.path.join(path,'Compare/Ressources/newproblem/o250_1.npy'))\n",
    "new_250_2 = np.load(os.path.join(path,'Compare/Ressources/newproblem/o250_2.npy'))\n",
    "new_250_3 = np.load(os.path.join(path,'Compare/Ressources/newproblem/o250_3.npy'))\n",
    "new_250_4 = np.load(os.path.join(path,'Compare/Ressources/newproblem/o250_4.npy'))\n",
    "new_250_5 = np.load(os.path.join(path,'Compare/Ressources/newproblem/o250_5.npy'))\n",
    "new_250_6 = np.load(os.path.join(path,'Compare/Ressources/newproblem/o250_6.npy'))\n",
    "new_250_7 = np.load(os.path.join(path,'Compare/Ressources/newproblem/o250_7.npy'))\n",
    "new_250_8 = np.load(os.path.join(path,'Compare/Ressources/newproblem/o250_8.npy'))\n",
    "new_250_9 = np.load(os.path.join(path,'Compare/Ressources/newproblem/o250_9.npy'))\n",
    "new_250_container = np.load(os.path.join(path,'Compare/Ressources/newproblem/medium_container.npy'))\n",
    "new_250_optimal = np.load(os.path.join(path,'Compare/Ressources/newproblem/optimal_solutions_250.npy'))\n",
    "# 500\n",
    "new_500_0 = np.load(os.path.join(path,'Compare/Ressources/newproblem/o500_0.npy'))\n",
    "new_500_1 = np.load(os.path.join(path,'Compare/Ressources/newproblem/o500_1.npy'))\n",
    "new_500_2 = np.load(os.path.join(path,'Compare/Ressources/newproblem/o500_2.npy'))\n",
    "new_500_3 = np.load(os.path.join(path,'Compare/Ressources/newproblem/o500_3.npy'))\n",
    "new_500_4 = np.load(os.path.join(path,'Compare/Ressources/newproblem/o500_4.npy'))\n",
    "new_500_5 = np.load(os.path.join(path,'Compare/Ressources/newproblem/o500_5.npy'))\n",
    "new_500_6 = np.load(os.path.join(path,'Compare/Ressources/newproblem/o500_6.npy'))\n",
    "new_500_7 = np.load(os.path.join(path,'Compare/Ressources/newproblem/o500_7.npy'))\n",
    "new_500_8 = np.load(os.path.join(path,'Compare/Ressources/newproblem/o500_8.npy'))\n",
    "new_500_9 = np.load(os.path.join(path,'Compare/Ressources/newproblem/o500_9.npy'))\n",
    "new_500_container = np.load(os.path.join(path,'Compare/Ressources/newproblem/medium_container.npy'))\n",
    "new_500_optimal = np.load(os.path.join(path,'Compare/Ressources/newproblem/optimal_solutions_500.npy'))\n",
    "# 1000\n",
    "new_1000_0 = np.load(os.path.join(path,'Compare/Ressources/newproblem/o1000_0.npy'))\n",
    "new_1000_1 = np.load(os.path.join(path,'Compare/Ressources/newproblem/o1000_1.npy'))\n",
    "new_1000_2 = np.load(os.path.join(path,'Compare/Ressources/newproblem/o1000_2.npy'))\n",
    "new_1000_3 = np.load(os.path.join(path,'Compare/Ressources/newproblem/o1000_3.npy'))\n",
    "new_1000_4 = np.load(os.path.join(path,'Compare/Ressources/newproblem/o1000_4.npy'))\n",
    "new_1000_5 = np.load(os.path.join(path,'Compare/Ressources/newproblem/o1000_5.npy'))\n",
    "new_1000_6 = np.load(os.path.join(path,'Compare/Ressources/newproblem/o1000_6.npy'))\n",
    "new_1000_7 = np.load(os.path.join(path,'Compare/Ressources/newproblem/o1000_7.npy'))\n",
    "new_1000_8 = np.load(os.path.join(path,'Compare/Ressources/newproblem/o1000_8.npy'))\n",
    "new_1000_9 = np.load(os.path.join(path,'Compare/Ressources/newproblem/o1000_9.npy'))\n",
    "new_1000_container = np.load(os.path.join(path,'Compare/Ressources/newproblem/medium_container.npy'))\n",
    "new_1000_optimal = np.load(os.path.join(path,'Compare/Ressources/newproblem/optimal_solutions_1000.npy'))\n",
    "print('Optimale Lösungen')\n",
    "print(f'50: {new_50_optimal}')\n",
    "print(f'100 {new_100_optimal}')\n",
    "print(f'250 {new_250_optimal}')\n",
    "print(f'500 {new_500_optimal}')\n",
    "print(f'1000 {new_1000_optimal}')"
   ]
  },
  {
   "cell_type": "markdown",
   "metadata": {},
   "source": [
    "# ACO"
   ]
  },
  {
   "cell_type": "code",
   "execution_count": 4,
   "metadata": {},
   "outputs": [],
   "source": [
    "start = time.time()\n",
    "number_average = 10\n",
    "iterations = 75\n",
    "ant_number = 50\n",
    "b = 2\n",
    "f = 2\n",
    "µ = 10\n",
    "p = 0.95"
   ]
  },
  {
   "cell_type": "markdown",
   "metadata": {},
   "source": [
    "# 50_0"
   ]
  },
  {
   "cell_type": "code",
   "execution_count": 5,
   "metadata": {},
   "outputs": [
    {
     "name": "stderr",
     "output_type": "stream",
     "text": [
      "C:\\Users\\Lars\\Desktop\\NIA\\NatureInspiredAlgorithms_Code/AntColonyOptimization\\AntColonyOptimization.py:201: VisibleDeprecationWarning: Creating an ndarray from ragged nested sequences (which is a list-or-tuple of lists-or-tuples-or ndarrays with different lengths or shapes) is deprecated. If you meant to do this, you must specify 'dtype=object' when creating the ndarray.\n",
      "  solutions = np.array(solutions)\n"
     ]
    },
    {
     "name": "stdout",
     "output_type": "stream",
     "text": [
      "0 done\n",
      "1 done\n",
      "2 done\n",
      "3 done\n",
      "4 done\n",
      "5 done\n",
      "6 done\n",
      "7 done\n",
      "8 done\n",
      "9 done\n"
     ]
    }
   ],
   "source": [
    "new_50_0_ACO_solution_bins = np.zeros(number_average)\n",
    "new_50_0_ACO_runtime = np.zeros(number_average)\n",
    "new_50_0_ACO_gbest_bins = np.zeros((number_average, iterations))\n",
    "new_50_0_ACO_gbest_fitness = np.zeros((number_average, iterations))\n",
    "new_50_0_ACO_average_bins = np.zeros((number_average, iterations))\n",
    "new_50_0_ACO_best_bins = np.zeros((number_average, iterations))\n",
    "new_50_0_ACO_worst_bins = np.zeros((number_average, iterations))\n",
    "new_50_0_ACO_fitness = np.zeros((number_average, iterations))\n",
    "    \n",
    "for i in range(number_average):\n",
    "    ACO = AntColonyOptimization(ant_number, iterations, b, f, p, µ, new_50_0, medium_container)\n",
    "    [new_50_0_ACO_runtime[i], new_50_0_ACO_solution_bins[i],new_50_0_ACO_average_bins[i], new_50_0_ACO_fitness[i], new_50_0_ACO_best_bins[i], new_50_0_ACO_worst_bins[i], new_50_0_ACO_gbest_bins[i], new_50_0_ACO_gbest_fitness[i]]= ACO.run()\n",
    "    print(str(i) + ' done')\n",
    "    \n",
    "name1 = 'Solutions/new_50_0_ACO_solution_bins.npy'\n",
    "name2 = 'Solutions/new_50_0_ACO_runtime.npy'\n",
    "name3 = 'Solutions/new_50_0_ACO_gbest_bins.npy'\n",
    "name4 = 'Solutions/new_50_0_ACO_gbest_fitness.npy'\n",
    "name5 = 'Solutions/new_50_0_ACO_average_bins.npy'\n",
    "name6 = 'Solutions/new_50_0_ACO_best_bins.npy'\n",
    "name7 = 'Solutions/new_50_0_ACO_worst_bins.npy'\n",
    "name8 = 'Solutions/new_50_0_ACO_fitness.npy'\n",
    "\n",
    "np.save(name1, new_50_0_ACO_solution_bins)\n",
    "np.save(name2, new_50_0_ACO_runtime)\n",
    "np.save(name3, new_50_0_ACO_gbest_bins)\n",
    "np.save(name4, new_50_0_ACO_gbest_fitness)\n",
    "np.save(name5, new_50_0_ACO_average_bins)\n",
    "np.save(name6, new_50_0_ACO_best_bins)\n",
    "np.save(name7, new_50_0_ACO_worst_bins)\n",
    "np.save(name8, new_50_0_ACO_fitness)"
   ]
  },
  {
   "cell_type": "markdown",
   "metadata": {},
   "source": [
    "# 50_1"
   ]
  },
  {
   "cell_type": "code",
   "execution_count": 6,
   "metadata": {},
   "outputs": [
    {
     "name": "stdout",
     "output_type": "stream",
     "text": [
      "0 done\n",
      "1 done\n",
      "2 done\n",
      "3 done\n",
      "4 done\n",
      "5 done\n",
      "6 done\n",
      "7 done\n",
      "8 done\n",
      "9 done\n"
     ]
    }
   ],
   "source": [
    "new_50_0_ACO_solution_bins = np.zeros(number_average)\n",
    "new_50_0_ACO_runtime = np.zeros(number_average)\n",
    "new_50_0_ACO_gbest_bins = np.zeros((number_average, iterations))\n",
    "new_50_0_ACO_gbest_fitness = np.zeros((number_average, iterations))\n",
    "new_50_0_ACO_average_bins = np.zeros((number_average, iterations))\n",
    "new_50_0_ACO_best_bins = np.zeros((number_average, iterations))\n",
    "new_50_0_ACO_worst_bins = np.zeros((number_average, iterations))\n",
    "new_50_0_ACO_fitness = np.zeros((number_average, iterations))\n",
    "    \n",
    "for i in range(number_average):\n",
    "    ACO = AntColonyOptimization(ant_number, iterations, b, f, p, µ, new_50_1, medium_container)\n",
    "    [new_50_0_ACO_runtime[i], new_50_0_ACO_solution_bins[i],new_50_0_ACO_average_bins[i], new_50_0_ACO_fitness[i], new_50_0_ACO_best_bins[i], new_50_0_ACO_worst_bins[i], new_50_0_ACO_gbest_bins[i], new_50_0_ACO_gbest_fitness[i]]= ACO.run()\n",
    "    print(str(i) + ' done')\n",
    "    \n",
    "name1 = 'Solutions/new_50_1_ACO_solution_bins.npy'\n",
    "name2 = 'Solutions/new_50_1_ACO_runtime.npy'\n",
    "name3 = 'Solutions/new_50_1_ACO_gbest_bins.npy'\n",
    "name4 = 'Solutions/new_50_1_ACO_gbest_fitness.npy'\n",
    "name5 = 'Solutions/new_50_1_ACO_average_bins.npy'\n",
    "name6 = 'Solutions/new_50_1_ACO_best_bins.npy'\n",
    "name7 = 'Solutions/new_50_1_ACO_worst_bins.npy'\n",
    "name8 = 'Solutions/new_50_1_ACO_fitness.npy'\n",
    "\n",
    "np.save(name1, new_50_0_ACO_solution_bins)\n",
    "np.save(name2, new_50_0_ACO_runtime)\n",
    "np.save(name3, new_50_0_ACO_gbest_bins)\n",
    "np.save(name4, new_50_0_ACO_gbest_fitness)\n",
    "np.save(name5, new_50_0_ACO_average_bins)\n",
    "np.save(name6, new_50_0_ACO_best_bins)\n",
    "np.save(name7, new_50_0_ACO_worst_bins)\n",
    "np.save(name8, new_50_0_ACO_fitness)"
   ]
  },
  {
   "cell_type": "markdown",
   "metadata": {},
   "source": [
    "# 50_2"
   ]
  },
  {
   "cell_type": "code",
   "execution_count": 7,
   "metadata": {},
   "outputs": [
    {
     "name": "stdout",
     "output_type": "stream",
     "text": [
      "0 done\n",
      "1 done\n",
      "2 done\n",
      "3 done\n",
      "4 done\n",
      "5 done\n",
      "6 done\n",
      "7 done\n",
      "8 done\n",
      "9 done\n"
     ]
    }
   ],
   "source": [
    "new_50_0_ACO_solution_bins = np.zeros(number_average)\n",
    "new_50_0_ACO_runtime = np.zeros(number_average)\n",
    "new_50_0_ACO_gbest_bins = np.zeros((number_average, iterations))\n",
    "new_50_0_ACO_gbest_fitness = np.zeros((number_average, iterations))\n",
    "new_50_0_ACO_average_bins = np.zeros((number_average, iterations))\n",
    "new_50_0_ACO_best_bins = np.zeros((number_average, iterations))\n",
    "new_50_0_ACO_worst_bins = np.zeros((number_average, iterations))\n",
    "new_50_0_ACO_fitness = np.zeros((number_average, iterations))\n",
    "    \n",
    "for i in range(number_average):\n",
    "    ACO = AntColonyOptimization(ant_number, iterations, b, f, p, µ, new_50_2, medium_container)\n",
    "    [new_50_0_ACO_runtime[i], new_50_0_ACO_solution_bins[i],new_50_0_ACO_average_bins[i], new_50_0_ACO_fitness[i], new_50_0_ACO_best_bins[i], new_50_0_ACO_worst_bins[i], new_50_0_ACO_gbest_bins[i], new_50_0_ACO_gbest_fitness[i]]= ACO.run()\n",
    "    print(str(i) + ' done')\n",
    "    \n",
    "name1 = 'Solutions/new_50_2_ACO_solution_bins.npy'\n",
    "name2 = 'Solutions/new_50_2_ACO_runtime.npy'\n",
    "name3 = 'Solutions/new_50_2_ACO_gbest_bins.npy'\n",
    "name4 = 'Solutions/new_50_2_ACO_gbest_fitness.npy'\n",
    "name5 = 'Solutions/new_50_2_ACO_average_bins.npy'\n",
    "name6 = 'Solutions/new_50_2_ACO_best_bins.npy'\n",
    "name7 = 'Solutions/new_50_2_ACO_worst_bins.npy'\n",
    "name8 = 'Solutions/new_50_2_ACO_fitness.npy'\n",
    "\n",
    "np.save(name1, new_50_0_ACO_solution_bins)\n",
    "np.save(name2, new_50_0_ACO_runtime)\n",
    "np.save(name3, new_50_0_ACO_gbest_bins)\n",
    "np.save(name4, new_50_0_ACO_gbest_fitness)\n",
    "np.save(name5, new_50_0_ACO_average_bins)\n",
    "np.save(name6, new_50_0_ACO_best_bins)\n",
    "np.save(name7, new_50_0_ACO_worst_bins)\n",
    "np.save(name8, new_50_0_ACO_fitness)"
   ]
  },
  {
   "cell_type": "markdown",
   "metadata": {},
   "source": [
    "# 50_3"
   ]
  },
  {
   "cell_type": "code",
   "execution_count": 8,
   "metadata": {},
   "outputs": [
    {
     "name": "stdout",
     "output_type": "stream",
     "text": [
      "0 done\n",
      "1 done\n",
      "2 done\n",
      "3 done\n",
      "4 done\n",
      "5 done\n",
      "6 done\n",
      "7 done\n",
      "8 done\n",
      "9 done\n"
     ]
    }
   ],
   "source": [
    "new_50_0_ACO_solution_bins = np.zeros(number_average)\n",
    "new_50_0_ACO_runtime = np.zeros(number_average)\n",
    "new_50_0_ACO_gbest_bins = np.zeros((number_average, iterations))\n",
    "new_50_0_ACO_gbest_fitness = np.zeros((number_average, iterations))\n",
    "new_50_0_ACO_average_bins = np.zeros((number_average, iterations))\n",
    "new_50_0_ACO_best_bins = np.zeros((number_average, iterations))\n",
    "new_50_0_ACO_worst_bins = np.zeros((number_average, iterations))\n",
    "new_50_0_ACO_fitness = np.zeros((number_average, iterations))\n",
    "    \n",
    "for i in range(number_average):\n",
    "    ACO = AntColonyOptimization(ant_number, iterations, b, f, p, µ, new_50_3, medium_container)\n",
    "    [new_50_0_ACO_runtime[i], new_50_0_ACO_solution_bins[i],new_50_0_ACO_average_bins[i], new_50_0_ACO_fitness[i], new_50_0_ACO_best_bins[i], new_50_0_ACO_worst_bins[i], new_50_0_ACO_gbest_bins[i], new_50_0_ACO_gbest_fitness[i]]= ACO.run()\n",
    "    print(str(i) + ' done')\n",
    "    \n",
    "name1 = 'Solutions/new_50_3_ACO_solution_bins.npy'\n",
    "name2 = 'Solutions/new_50_3_ACO_runtime.npy'\n",
    "name3 = 'Solutions/new_50_3_ACO_gbest_bins.npy'\n",
    "name4 = 'Solutions/new_50_3_ACO_gbest_fitness.npy'\n",
    "name5 = 'Solutions/new_50_3_ACO_average_bins.npy'\n",
    "name6 = 'Solutions/new_50_3_ACO_best_bins.npy'\n",
    "name7 = 'Solutions/new_50_3_ACO_worst_bins.npy'\n",
    "name8 = 'Solutions/new_50_3_ACO_fitness.npy'\n",
    "\n",
    "np.save(name1, new_50_0_ACO_solution_bins)\n",
    "np.save(name2, new_50_0_ACO_runtime)\n",
    "np.save(name3, new_50_0_ACO_gbest_bins)\n",
    "np.save(name4, new_50_0_ACO_gbest_fitness)\n",
    "np.save(name5, new_50_0_ACO_average_bins)\n",
    "np.save(name6, new_50_0_ACO_best_bins)\n",
    "np.save(name7, new_50_0_ACO_worst_bins)\n",
    "np.save(name8, new_50_0_ACO_fitness)"
   ]
  },
  {
   "cell_type": "markdown",
   "metadata": {},
   "source": [
    "# 50_4"
   ]
  },
  {
   "cell_type": "code",
   "execution_count": 9,
   "metadata": {},
   "outputs": [
    {
     "name": "stdout",
     "output_type": "stream",
     "text": [
      "0 done\n",
      "1 done\n",
      "2 done\n",
      "3 done\n",
      "4 done\n",
      "5 done\n",
      "6 done\n",
      "7 done\n",
      "8 done\n",
      "9 done\n"
     ]
    }
   ],
   "source": [
    "new_50_0_ACO_solution_bins = np.zeros(number_average)\n",
    "new_50_0_ACO_runtime = np.zeros(number_average)\n",
    "new_50_0_ACO_gbest_bins = np.zeros((number_average, iterations))\n",
    "new_50_0_ACO_gbest_fitness = np.zeros((number_average, iterations))\n",
    "new_50_0_ACO_average_bins = np.zeros((number_average, iterations))\n",
    "new_50_0_ACO_best_bins = np.zeros((number_average, iterations))\n",
    "new_50_0_ACO_worst_bins = np.zeros((number_average, iterations))\n",
    "new_50_0_ACO_fitness = np.zeros((number_average, iterations))\n",
    "    \n",
    "for i in range(number_average):\n",
    "    ACO = AntColonyOptimization(ant_number, iterations, b, f, p, µ, new_50_4, medium_container)\n",
    "    [new_50_0_ACO_runtime[i], new_50_0_ACO_solution_bins[i],new_50_0_ACO_average_bins[i], new_50_0_ACO_fitness[i], new_50_0_ACO_best_bins[i], new_50_0_ACO_worst_bins[i], new_50_0_ACO_gbest_bins[i], new_50_0_ACO_gbest_fitness[i]]= ACO.run()\n",
    "    print(str(i) + ' done')\n",
    "    \n",
    "name1 = 'Solutions/new_50_4_ACO_solution_bins.npy'\n",
    "name2 = 'Solutions/new_50_4_ACO_runtime.npy'\n",
    "name3 = 'Solutions/new_50_4_ACO_gbest_bins.npy'\n",
    "name4 = 'Solutions/new_50_4_ACO_gbest_fitness.npy'\n",
    "name5 = 'Solutions/new_50_4_ACO_average_bins.npy'\n",
    "name6 = 'Solutions/new_50_4_ACO_best_bins.npy'\n",
    "name7 = 'Solutions/new_50_4_ACO_worst_bins.npy'\n",
    "name8 = 'Solutions/new_50_4_ACO_fitness.npy'\n",
    "\n",
    "np.save(name1, new_50_0_ACO_solution_bins)\n",
    "np.save(name2, new_50_0_ACO_runtime)\n",
    "np.save(name3, new_50_0_ACO_gbest_bins)\n",
    "np.save(name4, new_50_0_ACO_gbest_fitness)\n",
    "np.save(name5, new_50_0_ACO_average_bins)\n",
    "np.save(name6, new_50_0_ACO_best_bins)\n",
    "np.save(name7, new_50_0_ACO_worst_bins)\n",
    "np.save(name8, new_50_0_ACO_fitness)"
   ]
  },
  {
   "cell_type": "markdown",
   "metadata": {},
   "source": [
    "# 50_5"
   ]
  },
  {
   "cell_type": "code",
   "execution_count": 10,
   "metadata": {},
   "outputs": [
    {
     "name": "stdout",
     "output_type": "stream",
     "text": [
      "0 done\n",
      "1 done\n",
      "2 done\n",
      "3 done\n",
      "4 done\n",
      "5 done\n",
      "6 done\n",
      "7 done\n",
      "8 done\n",
      "9 done\n"
     ]
    }
   ],
   "source": [
    "new_50_0_ACO_solution_bins = np.zeros(number_average)\n",
    "new_50_0_ACO_runtime = np.zeros(number_average)\n",
    "new_50_0_ACO_gbest_bins = np.zeros((number_average, iterations))\n",
    "new_50_0_ACO_gbest_fitness = np.zeros((number_average, iterations))\n",
    "new_50_0_ACO_average_bins = np.zeros((number_average, iterations))\n",
    "new_50_0_ACO_best_bins = np.zeros((number_average, iterations))\n",
    "new_50_0_ACO_worst_bins = np.zeros((number_average, iterations))\n",
    "new_50_0_ACO_fitness = np.zeros((number_average, iterations))\n",
    "    \n",
    "for i in range(number_average):\n",
    "    ACO = AntColonyOptimization(ant_number, iterations, b, f, p, µ, new_50_5, medium_container)\n",
    "    [new_50_0_ACO_runtime[i], new_50_0_ACO_solution_bins[i],new_50_0_ACO_average_bins[i], new_50_0_ACO_fitness[i], new_50_0_ACO_best_bins[i], new_50_0_ACO_worst_bins[i], new_50_0_ACO_gbest_bins[i], new_50_0_ACO_gbest_fitness[i]]= ACO.run()\n",
    "    print(str(i) + ' done')\n",
    "    \n",
    "name1 = 'Solutions/new_50_5_ACO_solution_bins.npy'\n",
    "name2 = 'Solutions/new_50_5_ACO_runtime.npy'\n",
    "name3 = 'Solutions/new_50_5_ACO_gbest_bins.npy'\n",
    "name4 = 'Solutions/new_50_5_ACO_gbest_fitness.npy'\n",
    "name5 = 'Solutions/new_50_5_ACO_average_bins.npy'\n",
    "name6 = 'Solutions/new_50_5_ACO_best_bins.npy'\n",
    "name7 = 'Solutions/new_50_5_ACO_worst_bins.npy'\n",
    "name8 = 'Solutions/new_50_5_ACO_fitness.npy'\n",
    "\n",
    "np.save(name1, new_50_0_ACO_solution_bins)\n",
    "np.save(name2, new_50_0_ACO_runtime)\n",
    "np.save(name3, new_50_0_ACO_gbest_bins)\n",
    "np.save(name4, new_50_0_ACO_gbest_fitness)\n",
    "np.save(name5, new_50_0_ACO_average_bins)\n",
    "np.save(name6, new_50_0_ACO_best_bins)\n",
    "np.save(name7, new_50_0_ACO_worst_bins)\n",
    "np.save(name8, new_50_0_ACO_fitness)"
   ]
  },
  {
   "cell_type": "markdown",
   "metadata": {},
   "source": [
    "# 50_6"
   ]
  },
  {
   "cell_type": "code",
   "execution_count": 11,
   "metadata": {},
   "outputs": [
    {
     "name": "stdout",
     "output_type": "stream",
     "text": [
      "0 done\n",
      "1 done\n",
      "2 done\n",
      "3 done\n",
      "4 done\n",
      "5 done\n",
      "6 done\n",
      "7 done\n",
      "8 done\n",
      "9 done\n"
     ]
    }
   ],
   "source": [
    "new_50_0_ACO_solution_bins = np.zeros(number_average)\n",
    "new_50_0_ACO_runtime = np.zeros(number_average)\n",
    "new_50_0_ACO_gbest_bins = np.zeros((number_average, iterations))\n",
    "new_50_0_ACO_gbest_fitness = np.zeros((number_average, iterations))\n",
    "new_50_0_ACO_average_bins = np.zeros((number_average, iterations))\n",
    "new_50_0_ACO_best_bins = np.zeros((number_average, iterations))\n",
    "new_50_0_ACO_worst_bins = np.zeros((number_average, iterations))\n",
    "new_50_0_ACO_fitness = np.zeros((number_average, iterations))\n",
    "    \n",
    "for i in range(number_average):\n",
    "    ACO = AntColonyOptimization(ant_number, iterations, b, f, p, µ, new_50_6, medium_container)\n",
    "    [new_50_0_ACO_runtime[i], new_50_0_ACO_solution_bins[i],new_50_0_ACO_average_bins[i], new_50_0_ACO_fitness[i], new_50_0_ACO_best_bins[i], new_50_0_ACO_worst_bins[i], new_50_0_ACO_gbest_bins[i], new_50_0_ACO_gbest_fitness[i]]= ACO.run()\n",
    "    print(str(i) + ' done')\n",
    "    \n",
    "name1 = 'Solutions/new_50_6_ACO_solution_bins.npy'\n",
    "name2 = 'Solutions/new_50_6_ACO_runtime.npy'\n",
    "name3 = 'Solutions/new_50_6_ACO_gbest_bins.npy'\n",
    "name4 = 'Solutions/new_50_6_ACO_gbest_fitness.npy'\n",
    "name5 = 'Solutions/new_50_6_ACO_average_bins.npy'\n",
    "name6 = 'Solutions/new_50_6_ACO_best_bins.npy'\n",
    "name7 = 'Solutions/new_50_6_ACO_worst_bins.npy'\n",
    "name8 = 'Solutions/new_50_6_ACO_fitness.npy'\n",
    "\n",
    "np.save(name1, new_50_0_ACO_solution_bins)\n",
    "np.save(name2, new_50_0_ACO_runtime)\n",
    "np.save(name3, new_50_0_ACO_gbest_bins)\n",
    "np.save(name4, new_50_0_ACO_gbest_fitness)\n",
    "np.save(name5, new_50_0_ACO_average_bins)\n",
    "np.save(name6, new_50_0_ACO_best_bins)\n",
    "np.save(name7, new_50_0_ACO_worst_bins)\n",
    "np.save(name8, new_50_0_ACO_fitness)"
   ]
  },
  {
   "cell_type": "markdown",
   "metadata": {},
   "source": [
    "# 50_7"
   ]
  },
  {
   "cell_type": "code",
   "execution_count": 12,
   "metadata": {},
   "outputs": [
    {
     "name": "stdout",
     "output_type": "stream",
     "text": [
      "0 done\n",
      "1 done\n",
      "2 done\n",
      "3 done\n",
      "4 done\n",
      "5 done\n",
      "6 done\n",
      "7 done\n",
      "8 done\n",
      "9 done\n"
     ]
    }
   ],
   "source": [
    "new_50_0_ACO_solution_bins = np.zeros(number_average)\n",
    "new_50_0_ACO_runtime = np.zeros(number_average)\n",
    "new_50_0_ACO_gbest_bins = np.zeros((number_average, iterations))\n",
    "new_50_0_ACO_gbest_fitness = np.zeros((number_average, iterations))\n",
    "new_50_0_ACO_average_bins = np.zeros((number_average, iterations))\n",
    "new_50_0_ACO_best_bins = np.zeros((number_average, iterations))\n",
    "new_50_0_ACO_worst_bins = np.zeros((number_average, iterations))\n",
    "new_50_0_ACO_fitness = np.zeros((number_average, iterations))\n",
    "    \n",
    "for i in range(number_average):\n",
    "    ACO = AntColonyOptimization(ant_number, iterations, b, f, p, µ, new_50_7, medium_container)\n",
    "    [new_50_0_ACO_runtime[i], new_50_0_ACO_solution_bins[i],new_50_0_ACO_average_bins[i], new_50_0_ACO_fitness[i], new_50_0_ACO_best_bins[i], new_50_0_ACO_worst_bins[i], new_50_0_ACO_gbest_bins[i], new_50_0_ACO_gbest_fitness[i]]= ACO.run()\n",
    "    print(str(i) + ' done')\n",
    "    \n",
    "name1 = 'Solutions/new_50_7_ACO_solution_bins.npy'\n",
    "name2 = 'Solutions/new_50_7_ACO_runtime.npy'\n",
    "name3 = 'Solutions/new_50_7_ACO_gbest_bins.npy'\n",
    "name4 = 'Solutions/new_50_7_ACO_gbest_fitness.npy'\n",
    "name5 = 'Solutions/new_50_7_ACO_average_bins.npy'\n",
    "name6 = 'Solutions/new_50_7_ACO_best_bins.npy'\n",
    "name7 = 'Solutions/new_50_7_ACO_worst_bins.npy'\n",
    "name8 = 'Solutions/new_50_7_ACO_fitness.npy'\n",
    "\n",
    "np.save(name1, new_50_0_ACO_solution_bins)\n",
    "np.save(name2, new_50_0_ACO_runtime)\n",
    "np.save(name3, new_50_0_ACO_gbest_bins)\n",
    "np.save(name4, new_50_0_ACO_gbest_fitness)\n",
    "np.save(name5, new_50_0_ACO_average_bins)\n",
    "np.save(name6, new_50_0_ACO_best_bins)\n",
    "np.save(name7, new_50_0_ACO_worst_bins)\n",
    "np.save(name8, new_50_0_ACO_fitness)"
   ]
  },
  {
   "cell_type": "markdown",
   "metadata": {},
   "source": [
    "# 50_8"
   ]
  },
  {
   "cell_type": "code",
   "execution_count": 13,
   "metadata": {},
   "outputs": [
    {
     "name": "stdout",
     "output_type": "stream",
     "text": [
      "0 done\n",
      "1 done\n",
      "2 done\n",
      "3 done\n",
      "4 done\n",
      "5 done\n",
      "6 done\n",
      "7 done\n",
      "8 done\n",
      "9 done\n"
     ]
    }
   ],
   "source": [
    "new_50_0_ACO_solution_bins = np.zeros(number_average)\n",
    "new_50_0_ACO_runtime = np.zeros(number_average)\n",
    "new_50_0_ACO_gbest_bins = np.zeros((number_average, iterations))\n",
    "new_50_0_ACO_gbest_fitness = np.zeros((number_average, iterations))\n",
    "new_50_0_ACO_average_bins = np.zeros((number_average, iterations))\n",
    "new_50_0_ACO_best_bins = np.zeros((number_average, iterations))\n",
    "new_50_0_ACO_worst_bins = np.zeros((number_average, iterations))\n",
    "new_50_0_ACO_fitness = np.zeros((number_average, iterations))\n",
    "    \n",
    "for i in range(number_average):\n",
    "    ACO = AntColonyOptimization(ant_number, iterations, b, f, p, µ, new_50_8, medium_container)\n",
    "    [new_50_0_ACO_runtime[i], new_50_0_ACO_solution_bins[i],new_50_0_ACO_average_bins[i], new_50_0_ACO_fitness[i], new_50_0_ACO_best_bins[i], new_50_0_ACO_worst_bins[i], new_50_0_ACO_gbest_bins[i], new_50_0_ACO_gbest_fitness[i]]= ACO.run()\n",
    "    print(str(i) + ' done')\n",
    "    \n",
    "name1 = 'Solutions/new_50_8_ACO_solution_bins.npy'\n",
    "name2 = 'Solutions/new_50_8_ACO_runtime.npy'\n",
    "name3 = 'Solutions/new_50_8_ACO_gbest_bins.npy'\n",
    "name4 = 'Solutions/new_50_8_ACO_gbest_fitness.npy'\n",
    "name5 = 'Solutions/new_50_8_ACO_average_bins.npy'\n",
    "name6 = 'Solutions/new_50_8_ACO_best_bins.npy'\n",
    "name7 = 'Solutions/new_50_8_ACO_worst_bins.npy'\n",
    "name8 = 'Solutions/new_50_8_ACO_fitness.npy'\n",
    "\n",
    "np.save(name1, new_50_0_ACO_solution_bins)\n",
    "np.save(name2, new_50_0_ACO_runtime)\n",
    "np.save(name3, new_50_0_ACO_gbest_bins)\n",
    "np.save(name4, new_50_0_ACO_gbest_fitness)\n",
    "np.save(name5, new_50_0_ACO_average_bins)\n",
    "np.save(name6, new_50_0_ACO_best_bins)\n",
    "np.save(name7, new_50_0_ACO_worst_bins)\n",
    "np.save(name8, new_50_0_ACO_fitness)"
   ]
  },
  {
   "cell_type": "markdown",
   "metadata": {},
   "source": [
    "# 50_9"
   ]
  },
  {
   "cell_type": "code",
   "execution_count": 14,
   "metadata": {},
   "outputs": [
    {
     "name": "stdout",
     "output_type": "stream",
     "text": [
      "0 done\n",
      "1 done\n",
      "2 done\n",
      "3 done\n",
      "4 done\n",
      "5 done\n",
      "6 done\n",
      "7 done\n",
      "8 done\n",
      "9 done\n"
     ]
    }
   ],
   "source": [
    "new_50_0_ACO_solution_bins = np.zeros(number_average)\n",
    "new_50_0_ACO_runtime = np.zeros(number_average)\n",
    "new_50_0_ACO_gbest_bins = np.zeros((number_average, iterations))\n",
    "new_50_0_ACO_gbest_fitness = np.zeros((number_average, iterations))\n",
    "new_50_0_ACO_average_bins = np.zeros((number_average, iterations))\n",
    "new_50_0_ACO_best_bins = np.zeros((number_average, iterations))\n",
    "new_50_0_ACO_worst_bins = np.zeros((number_average, iterations))\n",
    "new_50_0_ACO_fitness = np.zeros((number_average, iterations))\n",
    "    \n",
    "for i in range(number_average):\n",
    "    ACO = AntColonyOptimization(ant_number, iterations, b, f, p, µ, new_50_9, medium_container)\n",
    "    [new_50_0_ACO_runtime[i], new_50_0_ACO_solution_bins[i],new_50_0_ACO_average_bins[i], new_50_0_ACO_fitness[i], new_50_0_ACO_best_bins[i], new_50_0_ACO_worst_bins[i], new_50_0_ACO_gbest_bins[i], new_50_0_ACO_gbest_fitness[i]]= ACO.run()\n",
    "    print(str(i) + ' done')\n",
    "    \n",
    "name1 = 'Solutions/new_50_9_ACO_solution_bins.npy'\n",
    "name2 = 'Solutions/new_50_9_ACO_runtime.npy'\n",
    "name3 = 'Solutions/new_50_9_ACO_gbest_bins.npy'\n",
    "name4 = 'Solutions/new_50_9_ACO_gbest_fitness.npy'\n",
    "name5 = 'Solutions/new_50_9_ACO_average_bins.npy'\n",
    "name6 = 'Solutions/new_50_9_ACO_best_bins.npy'\n",
    "name7 = 'Solutions/new_50_9_ACO_worst_bins.npy'\n",
    "name8 = 'Solutions/new_50_9_ACO_fitness.npy'\n",
    "\n",
    "np.save(name1, new_50_0_ACO_solution_bins)\n",
    "np.save(name2, new_50_0_ACO_runtime)\n",
    "np.save(name3, new_50_0_ACO_gbest_bins)\n",
    "np.save(name4, new_50_0_ACO_gbest_fitness)\n",
    "np.save(name5, new_50_0_ACO_average_bins)\n",
    "np.save(name6, new_50_0_ACO_best_bins)\n",
    "np.save(name7, new_50_0_ACO_worst_bins)\n",
    "np.save(name8, new_50_0_ACO_fitness)"
   ]
  },
  {
   "cell_type": "code",
   "execution_count": 15,
   "metadata": {},
   "outputs": [],
   "source": [
    "number_average = 10\n",
    "iterations = 35\n",
    "ant_number = 75\n",
    "b = 3\n",
    "f = 2\n",
    "µ = 2\n",
    "p = 0.95"
   ]
  },
  {
   "cell_type": "markdown",
   "metadata": {},
   "source": [
    "# 100_0"
   ]
  },
  {
   "cell_type": "code",
   "execution_count": 16,
   "metadata": {},
   "outputs": [
    {
     "name": "stdout",
     "output_type": "stream",
     "text": [
      "0 done\n",
      "1 done\n",
      "2 done\n",
      "3 done\n",
      "4 done\n",
      "5 done\n",
      "6 done\n",
      "7 done\n",
      "8 done\n",
      "9 done\n"
     ]
    }
   ],
   "source": [
    "new_50_0_ACO_solution_bins = np.zeros(number_average)\n",
    "new_50_0_ACO_runtime = np.zeros(number_average)\n",
    "new_50_0_ACO_gbest_bins = np.zeros((number_average, iterations))\n",
    "new_50_0_ACO_gbest_fitness = np.zeros((number_average, iterations))\n",
    "new_50_0_ACO_average_bins = np.zeros((number_average, iterations))\n",
    "new_50_0_ACO_best_bins = np.zeros((number_average, iterations))\n",
    "new_50_0_ACO_worst_bins = np.zeros((number_average, iterations))\n",
    "new_50_0_ACO_fitness = np.zeros((number_average, iterations))\n",
    "    \n",
    "for i in range(number_average):\n",
    "    ACO = AntColonyOptimization(ant_number, iterations, b, f, p, µ, new_100_0, medium_container)\n",
    "    [new_50_0_ACO_runtime[i], new_50_0_ACO_solution_bins[i],new_50_0_ACO_average_bins[i], new_50_0_ACO_fitness[i], new_50_0_ACO_best_bins[i], new_50_0_ACO_worst_bins[i], new_50_0_ACO_gbest_bins[i], new_50_0_ACO_gbest_fitness[i]]= ACO.run()\n",
    "    print(str(i) + ' done')\n",
    "    \n",
    "name1 = 'Solutions/new_100_0_ACO_solution_bins.npy'\n",
    "name2 = 'Solutions/new_100_0_ACO_runtime.npy'\n",
    "name3 = 'Solutions/new_100_0_ACO_gbest_bins.npy'\n",
    "name4 = 'Solutions/new_100_0_ACO_gbest_fitness.npy'\n",
    "name5 = 'Solutions/new_100_0_ACO_average_bins.npy'\n",
    "name6 = 'Solutions/new_100_0_ACO_best_bins.npy'\n",
    "name7 = 'Solutions/new_100_0_ACO_worst_bins.npy'\n",
    "name8 = 'Solutions/new_100_0_ACO_fitness.npy'\n",
    "\n",
    "np.save(name1, new_50_0_ACO_solution_bins)\n",
    "np.save(name2, new_50_0_ACO_runtime)\n",
    "np.save(name3, new_50_0_ACO_gbest_bins)\n",
    "np.save(name4, new_50_0_ACO_gbest_fitness)\n",
    "np.save(name5, new_50_0_ACO_average_bins)\n",
    "np.save(name6, new_50_0_ACO_best_bins)\n",
    "np.save(name7, new_50_0_ACO_worst_bins)\n",
    "np.save(name8, new_50_0_ACO_fitness)"
   ]
  },
  {
   "cell_type": "markdown",
   "metadata": {},
   "source": [
    "# 100_1"
   ]
  },
  {
   "cell_type": "code",
   "execution_count": 17,
   "metadata": {},
   "outputs": [
    {
     "name": "stdout",
     "output_type": "stream",
     "text": [
      "0 done\n",
      "1 done\n",
      "2 done\n",
      "3 done\n",
      "4 done\n",
      "5 done\n",
      "6 done\n",
      "7 done\n",
      "8 done\n",
      "9 done\n"
     ]
    }
   ],
   "source": [
    "new_50_0_ACO_solution_bins = np.zeros(number_average)\n",
    "new_50_0_ACO_runtime = np.zeros(number_average)\n",
    "new_50_0_ACO_gbest_bins = np.zeros((number_average, iterations))\n",
    "new_50_0_ACO_gbest_fitness = np.zeros((number_average, iterations))\n",
    "new_50_0_ACO_average_bins = np.zeros((number_average, iterations))\n",
    "new_50_0_ACO_best_bins = np.zeros((number_average, iterations))\n",
    "new_50_0_ACO_worst_bins = np.zeros((number_average, iterations))\n",
    "new_50_0_ACO_fitness = np.zeros((number_average, iterations))\n",
    "    \n",
    "for i in range(number_average):\n",
    "    ACO = AntColonyOptimization(ant_number, iterations, b, f, p, µ, new_100_1, medium_container)\n",
    "    [new_50_0_ACO_runtime[i], new_50_0_ACO_solution_bins[i],new_50_0_ACO_average_bins[i], new_50_0_ACO_fitness[i], new_50_0_ACO_best_bins[i], new_50_0_ACO_worst_bins[i], new_50_0_ACO_gbest_bins[i], new_50_0_ACO_gbest_fitness[i]]= ACO.run()\n",
    "    print(str(i) + ' done')\n",
    "    \n",
    "name1 = 'Solutions/new_100_1_ACO_solution_bins.npy'\n",
    "name2 = 'Solutions/new_100_1_ACO_runtime.npy'\n",
    "name3 = 'Solutions/new_100_1_ACO_gbest_bins.npy'\n",
    "name4 = 'Solutions/new_100_1_ACO_gbest_fitness.npy'\n",
    "name5 = 'Solutions/new_100_1_ACO_average_bins.npy'\n",
    "name6 = 'Solutions/new_100_1_ACO_best_bins.npy'\n",
    "name7 = 'Solutions/new_100_1_ACO_worst_bins.npy'\n",
    "name8 = 'Solutions/new_100_1_ACO_fitness.npy'\n",
    "\n",
    "np.save(name1, new_50_0_ACO_solution_bins)\n",
    "np.save(name2, new_50_0_ACO_runtime)\n",
    "np.save(name3, new_50_0_ACO_gbest_bins)\n",
    "np.save(name4, new_50_0_ACO_gbest_fitness)\n",
    "np.save(name5, new_50_0_ACO_average_bins)\n",
    "np.save(name6, new_50_0_ACO_best_bins)\n",
    "np.save(name7, new_50_0_ACO_worst_bins)\n",
    "np.save(name8, new_50_0_ACO_fitness)"
   ]
  },
  {
   "cell_type": "markdown",
   "metadata": {},
   "source": [
    "# 100_2"
   ]
  },
  {
   "cell_type": "code",
   "execution_count": 18,
   "metadata": {},
   "outputs": [
    {
     "name": "stdout",
     "output_type": "stream",
     "text": [
      "0 done\n",
      "1 done\n",
      "2 done\n",
      "3 done\n",
      "4 done\n",
      "5 done\n",
      "6 done\n",
      "7 done\n",
      "8 done\n",
      "9 done\n"
     ]
    }
   ],
   "source": [
    "new_50_0_ACO_solution_bins = np.zeros(number_average)\n",
    "new_50_0_ACO_runtime = np.zeros(number_average)\n",
    "new_50_0_ACO_gbest_bins = np.zeros((number_average, iterations))\n",
    "new_50_0_ACO_gbest_fitness = np.zeros((number_average, iterations))\n",
    "new_50_0_ACO_average_bins = np.zeros((number_average, iterations))\n",
    "new_50_0_ACO_best_bins = np.zeros((number_average, iterations))\n",
    "new_50_0_ACO_worst_bins = np.zeros((number_average, iterations))\n",
    "new_50_0_ACO_fitness = np.zeros((number_average, iterations))\n",
    "    \n",
    "for i in range(number_average):\n",
    "    ACO = AntColonyOptimization(ant_number, iterations, b, f, p, µ, new_100_2, medium_container)\n",
    "    [new_50_0_ACO_runtime[i], new_50_0_ACO_solution_bins[i],new_50_0_ACO_average_bins[i], new_50_0_ACO_fitness[i], new_50_0_ACO_best_bins[i], new_50_0_ACO_worst_bins[i], new_50_0_ACO_gbest_bins[i], new_50_0_ACO_gbest_fitness[i]]= ACO.run()\n",
    "    print(str(i) + ' done')\n",
    "    \n",
    "name1 = 'Solutions/new_100_2_ACO_solution_bins.npy'\n",
    "name2 = 'Solutions/new_100_2_ACO_runtime.npy'\n",
    "name3 = 'Solutions/new_100_2_ACO_gbest_bins.npy'\n",
    "name4 = 'Solutions/new_100_2_ACO_gbest_fitness.npy'\n",
    "name5 = 'Solutions/new_100_2_ACO_average_bins.npy'\n",
    "name6 = 'Solutions/new_100_2_ACO_best_bins.npy'\n",
    "name7 = 'Solutions/new_100_2_ACO_worst_bins.npy'\n",
    "name8 = 'Solutions/new_100_2_ACO_fitness.npy'\n",
    "\n",
    "np.save(name1, new_50_0_ACO_solution_bins)\n",
    "np.save(name2, new_50_0_ACO_runtime)\n",
    "np.save(name3, new_50_0_ACO_gbest_bins)\n",
    "np.save(name4, new_50_0_ACO_gbest_fitness)\n",
    "np.save(name5, new_50_0_ACO_average_bins)\n",
    "np.save(name6, new_50_0_ACO_best_bins)\n",
    "np.save(name7, new_50_0_ACO_worst_bins)\n",
    "np.save(name8, new_50_0_ACO_fitness)"
   ]
  },
  {
   "cell_type": "markdown",
   "metadata": {},
   "source": [
    "# 100_3"
   ]
  },
  {
   "cell_type": "code",
   "execution_count": 19,
   "metadata": {},
   "outputs": [
    {
     "name": "stdout",
     "output_type": "stream",
     "text": [
      "0 done\n",
      "1 done\n",
      "2 done\n",
      "3 done\n",
      "4 done\n",
      "5 done\n",
      "6 done\n",
      "7 done\n",
      "8 done\n",
      "9 done\n"
     ]
    }
   ],
   "source": [
    "new_50_0_ACO_solution_bins = np.zeros(number_average)\n",
    "new_50_0_ACO_runtime = np.zeros(number_average)\n",
    "new_50_0_ACO_gbest_bins = np.zeros((number_average, iterations))\n",
    "new_50_0_ACO_gbest_fitness = np.zeros((number_average, iterations))\n",
    "new_50_0_ACO_average_bins = np.zeros((number_average, iterations))\n",
    "new_50_0_ACO_best_bins = np.zeros((number_average, iterations))\n",
    "new_50_0_ACO_worst_bins = np.zeros((number_average, iterations))\n",
    "new_50_0_ACO_fitness = np.zeros((number_average, iterations))\n",
    "    \n",
    "for i in range(number_average):\n",
    "    ACO = AntColonyOptimization(ant_number, iterations, b, f, p, µ, new_100_3, medium_container)\n",
    "    [new_50_0_ACO_runtime[i], new_50_0_ACO_solution_bins[i],new_50_0_ACO_average_bins[i], new_50_0_ACO_fitness[i], new_50_0_ACO_best_bins[i], new_50_0_ACO_worst_bins[i], new_50_0_ACO_gbest_bins[i], new_50_0_ACO_gbest_fitness[i]]= ACO.run()\n",
    "    print(str(i) + ' done')\n",
    "    \n",
    "name1 = 'Solutions/new_100_3_ACO_solution_bins.npy'\n",
    "name2 = 'Solutions/new_100_3_ACO_runtime.npy'\n",
    "name3 = 'Solutions/new_100_3_ACO_gbest_bins.npy'\n",
    "name4 = 'Solutions/new_100_3_ACO_gbest_fitness.npy'\n",
    "name5 = 'Solutions/new_100_3_ACO_average_bins.npy'\n",
    "name6 = 'Solutions/new_100_3_ACO_best_bins.npy'\n",
    "name7 = 'Solutions/new_100_3_ACO_worst_bins.npy'\n",
    "name8 = 'Solutions/new_100_3_ACO_fitness.npy'\n",
    "\n",
    "np.save(name1, new_50_0_ACO_solution_bins)\n",
    "np.save(name2, new_50_0_ACO_runtime)\n",
    "np.save(name3, new_50_0_ACO_gbest_bins)\n",
    "np.save(name4, new_50_0_ACO_gbest_fitness)\n",
    "np.save(name5, new_50_0_ACO_average_bins)\n",
    "np.save(name6, new_50_0_ACO_best_bins)\n",
    "np.save(name7, new_50_0_ACO_worst_bins)\n",
    "np.save(name8, new_50_0_ACO_fitness)"
   ]
  },
  {
   "cell_type": "markdown",
   "metadata": {},
   "source": [
    "# 100_4"
   ]
  },
  {
   "cell_type": "code",
   "execution_count": 20,
   "metadata": {},
   "outputs": [
    {
     "name": "stdout",
     "output_type": "stream",
     "text": [
      "0 done\n",
      "1 done\n",
      "2 done\n",
      "3 done\n",
      "4 done\n",
      "5 done\n",
      "6 done\n",
      "7 done\n",
      "8 done\n",
      "9 done\n"
     ]
    }
   ],
   "source": [
    "new_50_0_ACO_solution_bins = np.zeros(number_average)\n",
    "new_50_0_ACO_runtime = np.zeros(number_average)\n",
    "new_50_0_ACO_gbest_bins = np.zeros((number_average, iterations))\n",
    "new_50_0_ACO_gbest_fitness = np.zeros((number_average, iterations))\n",
    "new_50_0_ACO_average_bins = np.zeros((number_average, iterations))\n",
    "new_50_0_ACO_best_bins = np.zeros((number_average, iterations))\n",
    "new_50_0_ACO_worst_bins = np.zeros((number_average, iterations))\n",
    "new_50_0_ACO_fitness = np.zeros((number_average, iterations))\n",
    "    \n",
    "for i in range(number_average):\n",
    "    ACO = AntColonyOptimization(ant_number, iterations, b, f, p, µ, new_100_4, medium_container)\n",
    "    [new_50_0_ACO_runtime[i], new_50_0_ACO_solution_bins[i],new_50_0_ACO_average_bins[i], new_50_0_ACO_fitness[i], new_50_0_ACO_best_bins[i], new_50_0_ACO_worst_bins[i], new_50_0_ACO_gbest_bins[i], new_50_0_ACO_gbest_fitness[i]]= ACO.run()\n",
    "    print(str(i) + ' done')\n",
    "    \n",
    "name1 = 'Solutions/new_100_4_ACO_solution_bins.npy'\n",
    "name2 = 'Solutions/new_100_4_ACO_runtime.npy'\n",
    "name3 = 'Solutions/new_100_4_ACO_gbest_bins.npy'\n",
    "name4 = 'Solutions/new_100_4_ACO_gbest_fitness.npy'\n",
    "name5 = 'Solutions/new_100_4_ACO_average_bins.npy'\n",
    "name6 = 'Solutions/new_100_4_ACO_best_bins.npy'\n",
    "name7 = 'Solutions/new_100_4_ACO_worst_bins.npy'\n",
    "name8 = 'Solutions/new_100_4_ACO_fitness.npy'\n",
    "\n",
    "np.save(name1, new_50_0_ACO_solution_bins)\n",
    "np.save(name2, new_50_0_ACO_runtime)\n",
    "np.save(name3, new_50_0_ACO_gbest_bins)\n",
    "np.save(name4, new_50_0_ACO_gbest_fitness)\n",
    "np.save(name5, new_50_0_ACO_average_bins)\n",
    "np.save(name6, new_50_0_ACO_best_bins)\n",
    "np.save(name7, new_50_0_ACO_worst_bins)\n",
    "np.save(name8, new_50_0_ACO_fitness)"
   ]
  },
  {
   "cell_type": "markdown",
   "metadata": {},
   "source": [
    "# 100_5"
   ]
  },
  {
   "cell_type": "code",
   "execution_count": 21,
   "metadata": {},
   "outputs": [
    {
     "name": "stdout",
     "output_type": "stream",
     "text": [
      "0 done\n",
      "1 done\n",
      "2 done\n",
      "3 done\n",
      "4 done\n",
      "5 done\n",
      "6 done\n",
      "7 done\n",
      "8 done\n",
      "9 done\n"
     ]
    }
   ],
   "source": [
    "new_50_0_ACO_solution_bins = np.zeros(number_average)\n",
    "new_50_0_ACO_runtime = np.zeros(number_average)\n",
    "new_50_0_ACO_gbest_bins = np.zeros((number_average, iterations))\n",
    "new_50_0_ACO_gbest_fitness = np.zeros((number_average, iterations))\n",
    "new_50_0_ACO_average_bins = np.zeros((number_average, iterations))\n",
    "new_50_0_ACO_best_bins = np.zeros((number_average, iterations))\n",
    "new_50_0_ACO_worst_bins = np.zeros((number_average, iterations))\n",
    "new_50_0_ACO_fitness = np.zeros((number_average, iterations))\n",
    "    \n",
    "for i in range(number_average):\n",
    "    ACO = AntColonyOptimization(ant_number, iterations, b, f, p, µ, new_100_5, medium_container)\n",
    "    [new_50_0_ACO_runtime[i], new_50_0_ACO_solution_bins[i],new_50_0_ACO_average_bins[i], new_50_0_ACO_fitness[i], new_50_0_ACO_best_bins[i], new_50_0_ACO_worst_bins[i], new_50_0_ACO_gbest_bins[i], new_50_0_ACO_gbest_fitness[i]]= ACO.run()\n",
    "    print(str(i) + ' done')\n",
    "    \n",
    "name1 = 'Solutions/new_100_5_ACO_solution_bins.npy'\n",
    "name2 = 'Solutions/new_100_5_ACO_runtime.npy'\n",
    "name3 = 'Solutions/new_100_5_ACO_gbest_bins.npy'\n",
    "name4 = 'Solutions/new_100_5_ACO_gbest_fitness.npy'\n",
    "name5 = 'Solutions/new_100_5_ACO_average_bins.npy'\n",
    "name6 = 'Solutions/new_100_5_ACO_best_bins.npy'\n",
    "name7 = 'Solutions/new_100_5_ACO_worst_bins.npy'\n",
    "name8 = 'Solutions/new_100_5_ACO_fitness.npy'\n",
    "\n",
    "np.save(name1, new_50_0_ACO_solution_bins)\n",
    "np.save(name2, new_50_0_ACO_runtime)\n",
    "np.save(name3, new_50_0_ACO_gbest_bins)\n",
    "np.save(name4, new_50_0_ACO_gbest_fitness)\n",
    "np.save(name5, new_50_0_ACO_average_bins)\n",
    "np.save(name6, new_50_0_ACO_best_bins)\n",
    "np.save(name7, new_50_0_ACO_worst_bins)\n",
    "np.save(name8, new_50_0_ACO_fitness)"
   ]
  },
  {
   "cell_type": "markdown",
   "metadata": {},
   "source": [
    "# 100_6"
   ]
  },
  {
   "cell_type": "code",
   "execution_count": 22,
   "metadata": {},
   "outputs": [
    {
     "name": "stdout",
     "output_type": "stream",
     "text": [
      "0 done\n",
      "1 done\n",
      "2 done\n",
      "3 done\n",
      "4 done\n",
      "5 done\n",
      "6 done\n",
      "7 done\n",
      "8 done\n",
      "9 done\n"
     ]
    }
   ],
   "source": [
    "new_50_0_ACO_solution_bins = np.zeros(number_average)\n",
    "new_50_0_ACO_runtime = np.zeros(number_average)\n",
    "new_50_0_ACO_gbest_bins = np.zeros((number_average, iterations))\n",
    "new_50_0_ACO_gbest_fitness = np.zeros((number_average, iterations))\n",
    "new_50_0_ACO_average_bins = np.zeros((number_average, iterations))\n",
    "new_50_0_ACO_best_bins = np.zeros((number_average, iterations))\n",
    "new_50_0_ACO_worst_bins = np.zeros((number_average, iterations))\n",
    "new_50_0_ACO_fitness = np.zeros((number_average, iterations))\n",
    "    \n",
    "for i in range(number_average):\n",
    "    ACO = AntColonyOptimization(ant_number, iterations, b, f, p, µ, new_100_6, medium_container)\n",
    "    [new_50_0_ACO_runtime[i], new_50_0_ACO_solution_bins[i],new_50_0_ACO_average_bins[i], new_50_0_ACO_fitness[i], new_50_0_ACO_best_bins[i], new_50_0_ACO_worst_bins[i], new_50_0_ACO_gbest_bins[i], new_50_0_ACO_gbest_fitness[i]]= ACO.run()\n",
    "    print(str(i) + ' done')\n",
    "    \n",
    "name1 = 'Solutions/new_100_6_ACO_solution_bins.npy'\n",
    "name2 = 'Solutions/new_100_6_ACO_runtime.npy'\n",
    "name3 = 'Solutions/new_100_6_ACO_gbest_bins.npy'\n",
    "name4 = 'Solutions/new_100_6_ACO_gbest_fitness.npy'\n",
    "name5 = 'Solutions/new_100_6_ACO_average_bins.npy'\n",
    "name6 = 'Solutions/new_100_6_ACO_best_bins.npy'\n",
    "name7 = 'Solutions/new_100_6_ACO_worst_bins.npy'\n",
    "name8 = 'Solutions/new_100_6_ACO_fitness.npy'\n",
    "\n",
    "np.save(name1, new_50_0_ACO_solution_bins)\n",
    "np.save(name2, new_50_0_ACO_runtime)\n",
    "np.save(name3, new_50_0_ACO_gbest_bins)\n",
    "np.save(name4, new_50_0_ACO_gbest_fitness)\n",
    "np.save(name5, new_50_0_ACO_average_bins)\n",
    "np.save(name6, new_50_0_ACO_best_bins)\n",
    "np.save(name7, new_50_0_ACO_worst_bins)\n",
    "np.save(name8, new_50_0_ACO_fitness)"
   ]
  },
  {
   "cell_type": "markdown",
   "metadata": {},
   "source": [
    "# 100_7"
   ]
  },
  {
   "cell_type": "code",
   "execution_count": 23,
   "metadata": {},
   "outputs": [
    {
     "name": "stdout",
     "output_type": "stream",
     "text": [
      "0 done\n",
      "1 done\n",
      "2 done\n",
      "3 done\n",
      "4 done\n",
      "5 done\n",
      "6 done\n",
      "7 done\n",
      "8 done\n",
      "9 done\n"
     ]
    }
   ],
   "source": [
    "new_50_0_ACO_solution_bins = np.zeros(number_average)\n",
    "new_50_0_ACO_runtime = np.zeros(number_average)\n",
    "new_50_0_ACO_gbest_bins = np.zeros((number_average, iterations))\n",
    "new_50_0_ACO_gbest_fitness = np.zeros((number_average, iterations))\n",
    "new_50_0_ACO_average_bins = np.zeros((number_average, iterations))\n",
    "new_50_0_ACO_best_bins = np.zeros((number_average, iterations))\n",
    "new_50_0_ACO_worst_bins = np.zeros((number_average, iterations))\n",
    "new_50_0_ACO_fitness = np.zeros((number_average, iterations))\n",
    "    \n",
    "for i in range(number_average):\n",
    "    ACO = AntColonyOptimization(ant_number, iterations, b, f, p, µ, new_100_7, medium_container)\n",
    "    [new_50_0_ACO_runtime[i], new_50_0_ACO_solution_bins[i],new_50_0_ACO_average_bins[i], new_50_0_ACO_fitness[i], new_50_0_ACO_best_bins[i], new_50_0_ACO_worst_bins[i], new_50_0_ACO_gbest_bins[i], new_50_0_ACO_gbest_fitness[i]]= ACO.run()\n",
    "    print(str(i) + ' done')\n",
    "    \n",
    "name1 = 'Solutions/new_100_7_ACO_solution_bins.npy'\n",
    "name2 = 'Solutions/new_100_7_ACO_runtime.npy'\n",
    "name3 = 'Solutions/new_100_7_ACO_gbest_bins.npy'\n",
    "name4 = 'Solutions/new_100_7_ACO_gbest_fitness.npy'\n",
    "name5 = 'Solutions/new_100_7_ACO_average_bins.npy'\n",
    "name6 = 'Solutions/new_100_7_ACO_best_bins.npy'\n",
    "name7 = 'Solutions/new_100_7_ACO_worst_bins.npy'\n",
    "name8 = 'Solutions/new_100_7_ACO_fitness.npy'\n",
    "\n",
    "np.save(name1, new_50_0_ACO_solution_bins)\n",
    "np.save(name2, new_50_0_ACO_runtime)\n",
    "np.save(name3, new_50_0_ACO_gbest_bins)\n",
    "np.save(name4, new_50_0_ACO_gbest_fitness)\n",
    "np.save(name5, new_50_0_ACO_average_bins)\n",
    "np.save(name6, new_50_0_ACO_best_bins)\n",
    "np.save(name7, new_50_0_ACO_worst_bins)\n",
    "np.save(name8, new_50_0_ACO_fitness)"
   ]
  },
  {
   "cell_type": "markdown",
   "metadata": {},
   "source": [
    "# 100_8"
   ]
  },
  {
   "cell_type": "code",
   "execution_count": 24,
   "metadata": {},
   "outputs": [
    {
     "name": "stdout",
     "output_type": "stream",
     "text": [
      "0 done\n",
      "1 done\n",
      "2 done\n",
      "3 done\n",
      "4 done\n",
      "5 done\n",
      "6 done\n",
      "7 done\n",
      "8 done\n",
      "9 done\n"
     ]
    }
   ],
   "source": [
    "new_50_0_ACO_solution_bins = np.zeros(number_average)\n",
    "new_50_0_ACO_runtime = np.zeros(number_average)\n",
    "new_50_0_ACO_gbest_bins = np.zeros((number_average, iterations))\n",
    "new_50_0_ACO_gbest_fitness = np.zeros((number_average, iterations))\n",
    "new_50_0_ACO_average_bins = np.zeros((number_average, iterations))\n",
    "new_50_0_ACO_best_bins = np.zeros((number_average, iterations))\n",
    "new_50_0_ACO_worst_bins = np.zeros((number_average, iterations))\n",
    "new_50_0_ACO_fitness = np.zeros((number_average, iterations))\n",
    "    \n",
    "for i in range(number_average):\n",
    "    ACO = AntColonyOptimization(ant_number, iterations, b, f, p, µ, new_100_8, medium_container)\n",
    "    [new_50_0_ACO_runtime[i], new_50_0_ACO_solution_bins[i],new_50_0_ACO_average_bins[i], new_50_0_ACO_fitness[i], new_50_0_ACO_best_bins[i], new_50_0_ACO_worst_bins[i], new_50_0_ACO_gbest_bins[i], new_50_0_ACO_gbest_fitness[i]]= ACO.run()\n",
    "    print(str(i) + ' done')\n",
    "    \n",
    "name1 = 'Solutions/new_100_8_ACO_solution_bins.npy'\n",
    "name2 = 'Solutions/new_100_8_ACO_runtime.npy'\n",
    "name3 = 'Solutions/new_100_8_ACO_gbest_bins.npy'\n",
    "name4 = 'Solutions/new_100_8_ACO_gbest_fitness.npy'\n",
    "name5 = 'Solutions/new_100_8_ACO_average_bins.npy'\n",
    "name6 = 'Solutions/new_100_8_ACO_best_bins.npy'\n",
    "name7 = 'Solutions/new_100_8_ACO_worst_bins.npy'\n",
    "name8 = 'Solutions/new_100_8_ACO_fitness.npy'\n",
    "\n",
    "np.save(name1, new_50_0_ACO_solution_bins)\n",
    "np.save(name2, new_50_0_ACO_runtime)\n",
    "np.save(name3, new_50_0_ACO_gbest_bins)\n",
    "np.save(name4, new_50_0_ACO_gbest_fitness)\n",
    "np.save(name5, new_50_0_ACO_average_bins)\n",
    "np.save(name6, new_50_0_ACO_best_bins)\n",
    "np.save(name7, new_50_0_ACO_worst_bins)\n",
    "np.save(name8, new_50_0_ACO_fitness)"
   ]
  },
  {
   "cell_type": "markdown",
   "metadata": {},
   "source": [
    "# 100_9"
   ]
  },
  {
   "cell_type": "code",
   "execution_count": 25,
   "metadata": {},
   "outputs": [
    {
     "name": "stdout",
     "output_type": "stream",
     "text": [
      "0 done\n",
      "1 done\n",
      "2 done\n",
      "3 done\n",
      "4 done\n",
      "5 done\n",
      "6 done\n",
      "7 done\n",
      "8 done\n",
      "9 done\n"
     ]
    }
   ],
   "source": [
    "new_50_0_ACO_solution_bins = np.zeros(number_average)\n",
    "new_50_0_ACO_runtime = np.zeros(number_average)\n",
    "new_50_0_ACO_gbest_bins = np.zeros((number_average, iterations))\n",
    "new_50_0_ACO_gbest_fitness = np.zeros((number_average, iterations))\n",
    "new_50_0_ACO_average_bins = np.zeros((number_average, iterations))\n",
    "new_50_0_ACO_best_bins = np.zeros((number_average, iterations))\n",
    "new_50_0_ACO_worst_bins = np.zeros((number_average, iterations))\n",
    "new_50_0_ACO_fitness = np.zeros((number_average, iterations))\n",
    "    \n",
    "for i in range(number_average):\n",
    "    ACO = AntColonyOptimization(ant_number, iterations, b, f, p, µ, new_100_9, medium_container)\n",
    "    [new_50_0_ACO_runtime[i], new_50_0_ACO_solution_bins[i],new_50_0_ACO_average_bins[i], new_50_0_ACO_fitness[i], new_50_0_ACO_best_bins[i], new_50_0_ACO_worst_bins[i], new_50_0_ACO_gbest_bins[i], new_50_0_ACO_gbest_fitness[i]]= ACO.run()\n",
    "    print(str(i) + ' done')\n",
    "    \n",
    "name1 = 'Solutions/new_100_9_ACO_solution_bins.npy'\n",
    "name2 = 'Solutions/new_100_9_ACO_runtime.npy'\n",
    "name3 = 'Solutions/new_100_9_ACO_gbest_bins.npy'\n",
    "name4 = 'Solutions/new_100_9_ACO_gbest_fitness.npy'\n",
    "name5 = 'Solutions/new_100_9_ACO_average_bins.npy'\n",
    "name6 = 'Solutions/new_100_9_ACO_best_bins.npy'\n",
    "name7 = 'Solutions/new_100_9_ACO_worst_bins.npy'\n",
    "name8 = 'Solutions/new_100_9_ACO_fitness.npy'\n",
    "\n",
    "np.save(name1, new_50_0_ACO_solution_bins)\n",
    "np.save(name2, new_50_0_ACO_runtime)\n",
    "np.save(name3, new_50_0_ACO_gbest_bins)\n",
    "np.save(name4, new_50_0_ACO_gbest_fitness)\n",
    "np.save(name5, new_50_0_ACO_average_bins)\n",
    "np.save(name6, new_50_0_ACO_best_bins)\n",
    "np.save(name7, new_50_0_ACO_worst_bins)\n",
    "np.save(name8, new_50_0_ACO_fitness)"
   ]
  },
  {
   "cell_type": "code",
   "execution_count": 26,
   "metadata": {},
   "outputs": [],
   "source": [
    "number_average = 10\n",
    "iterations = 40\n",
    "ant_number = 65\n",
    "b = 5\n",
    "f = 2\n",
    "µ = 2\n",
    "p = 0.95"
   ]
  },
  {
   "cell_type": "markdown",
   "metadata": {},
   "source": [
    "# 250_0"
   ]
  },
  {
   "cell_type": "code",
   "execution_count": 27,
   "metadata": {},
   "outputs": [
    {
     "name": "stdout",
     "output_type": "stream",
     "text": [
      "0 done\n",
      "1 done\n",
      "2 done\n",
      "3 done\n",
      "4 done\n",
      "5 done\n",
      "6 done\n",
      "7 done\n",
      "8 done\n",
      "9 done\n"
     ]
    }
   ],
   "source": [
    "new_50_0_ACO_solution_bins = np.zeros(number_average)\n",
    "new_50_0_ACO_runtime = np.zeros(number_average)\n",
    "new_50_0_ACO_gbest_bins = np.zeros((number_average, iterations))\n",
    "new_50_0_ACO_gbest_fitness = np.zeros((number_average, iterations))\n",
    "new_50_0_ACO_average_bins = np.zeros((number_average, iterations))\n",
    "new_50_0_ACO_best_bins = np.zeros((number_average, iterations))\n",
    "new_50_0_ACO_worst_bins = np.zeros((number_average, iterations))\n",
    "new_50_0_ACO_fitness = np.zeros((number_average, iterations))\n",
    "    \n",
    "for i in range(number_average):\n",
    "    ACO = AntColonyOptimization(ant_number, iterations, b, f, p, µ, new_250_0, medium_container)\n",
    "    [new_50_0_ACO_runtime[i], new_50_0_ACO_solution_bins[i],new_50_0_ACO_average_bins[i], new_50_0_ACO_fitness[i], new_50_0_ACO_best_bins[i], new_50_0_ACO_worst_bins[i], new_50_0_ACO_gbest_bins[i], new_50_0_ACO_gbest_fitness[i]]= ACO.run()\n",
    "    print(str(i) + ' done')\n",
    "    \n",
    "name1 = 'Solutions/new_250_0_ACO_solution_bins.npy'\n",
    "name2 = 'Solutions/new_250_0_ACO_runtime.npy'\n",
    "name3 = 'Solutions/new_250_0_ACO_gbest_bins.npy'\n",
    "name4 = 'Solutions/new_250_0_ACO_gbest_fitness.npy'\n",
    "name5 = 'Solutions/new_250_0_ACO_average_bins.npy'\n",
    "name6 = 'Solutions/new_250_0_ACO_best_bins.npy'\n",
    "name7 = 'Solutions/new_250_0_ACO_worst_bins.npy'\n",
    "name8 = 'Solutions/new_250_0_ACO_fitness.npy'\n",
    "\n",
    "np.save(name1, new_50_0_ACO_solution_bins)\n",
    "np.save(name2, new_50_0_ACO_runtime)\n",
    "np.save(name3, new_50_0_ACO_gbest_bins)\n",
    "np.save(name4, new_50_0_ACO_gbest_fitness)\n",
    "np.save(name5, new_50_0_ACO_average_bins)\n",
    "np.save(name6, new_50_0_ACO_best_bins)\n",
    "np.save(name7, new_50_0_ACO_worst_bins)\n",
    "np.save(name8, new_50_0_ACO_fitness)"
   ]
  },
  {
   "cell_type": "markdown",
   "metadata": {},
   "source": [
    "# 250_1"
   ]
  },
  {
   "cell_type": "code",
   "execution_count": 28,
   "metadata": {},
   "outputs": [
    {
     "name": "stdout",
     "output_type": "stream",
     "text": [
      "0 done\n",
      "1 done\n",
      "2 done\n",
      "3 done\n",
      "4 done\n",
      "5 done\n",
      "6 done\n",
      "7 done\n",
      "8 done\n",
      "9 done\n"
     ]
    }
   ],
   "source": [
    "new_50_0_ACO_solution_bins = np.zeros(number_average)\n",
    "new_50_0_ACO_runtime = np.zeros(number_average)\n",
    "new_50_0_ACO_gbest_bins = np.zeros((number_average, iterations))\n",
    "new_50_0_ACO_gbest_fitness = np.zeros((number_average, iterations))\n",
    "new_50_0_ACO_average_bins = np.zeros((number_average, iterations))\n",
    "new_50_0_ACO_best_bins = np.zeros((number_average, iterations))\n",
    "new_50_0_ACO_worst_bins = np.zeros((number_average, iterations))\n",
    "new_50_0_ACO_fitness = np.zeros((number_average, iterations))\n",
    "    \n",
    "for i in range(number_average):\n",
    "    ACO = AntColonyOptimization(ant_number, iterations, b, f, p, µ, new_250_1, medium_container)\n",
    "    [new_50_0_ACO_runtime[i], new_50_0_ACO_solution_bins[i],new_50_0_ACO_average_bins[i], new_50_0_ACO_fitness[i], new_50_0_ACO_best_bins[i], new_50_0_ACO_worst_bins[i], new_50_0_ACO_gbest_bins[i], new_50_0_ACO_gbest_fitness[i]]= ACO.run()\n",
    "    print(str(i) + ' done')\n",
    "    \n",
    "name1 = 'Solutions/new_250_1_ACO_solution_bins.npy'\n",
    "name2 = 'Solutions/new_250_1_ACO_runtime.npy'\n",
    "name3 = 'Solutions/new_250_1_ACO_gbest_bins.npy'\n",
    "name4 = 'Solutions/new_250_1_ACO_gbest_fitness.npy'\n",
    "name5 = 'Solutions/new_250_1_ACO_average_bins.npy'\n",
    "name6 = 'Solutions/new_250_1_ACO_best_bins.npy'\n",
    "name7 = 'Solutions/new_250_1_ACO_worst_bins.npy'\n",
    "name8 = 'Solutions/new_250_1_ACO_fitness.npy'\n",
    "\n",
    "np.save(name1, new_50_0_ACO_solution_bins)\n",
    "np.save(name2, new_50_0_ACO_runtime)\n",
    "np.save(name3, new_50_0_ACO_gbest_bins)\n",
    "np.save(name4, new_50_0_ACO_gbest_fitness)\n",
    "np.save(name5, new_50_0_ACO_average_bins)\n",
    "np.save(name6, new_50_0_ACO_best_bins)\n",
    "np.save(name7, new_50_0_ACO_worst_bins)\n",
    "np.save(name8, new_50_0_ACO_fitness)"
   ]
  },
  {
   "cell_type": "markdown",
   "metadata": {},
   "source": [
    "# 250_2"
   ]
  },
  {
   "cell_type": "code",
   "execution_count": 29,
   "metadata": {},
   "outputs": [
    {
     "name": "stdout",
     "output_type": "stream",
     "text": [
      "0 done\n",
      "1 done\n",
      "2 done\n",
      "3 done\n",
      "4 done\n",
      "5 done\n",
      "6 done\n",
      "7 done\n",
      "8 done\n",
      "9 done\n"
     ]
    }
   ],
   "source": [
    "new_50_0_ACO_solution_bins = np.zeros(number_average)\n",
    "new_50_0_ACO_runtime = np.zeros(number_average)\n",
    "new_50_0_ACO_gbest_bins = np.zeros((number_average, iterations))\n",
    "new_50_0_ACO_gbest_fitness = np.zeros((number_average, iterations))\n",
    "new_50_0_ACO_average_bins = np.zeros((number_average, iterations))\n",
    "new_50_0_ACO_best_bins = np.zeros((number_average, iterations))\n",
    "new_50_0_ACO_worst_bins = np.zeros((number_average, iterations))\n",
    "new_50_0_ACO_fitness = np.zeros((number_average, iterations))\n",
    "    \n",
    "for i in range(number_average):\n",
    "    ACO = AntColonyOptimization(ant_number, iterations, b, f, p, µ, new_250_2, medium_container)\n",
    "    [new_50_0_ACO_runtime[i], new_50_0_ACO_solution_bins[i],new_50_0_ACO_average_bins[i], new_50_0_ACO_fitness[i], new_50_0_ACO_best_bins[i], new_50_0_ACO_worst_bins[i], new_50_0_ACO_gbest_bins[i], new_50_0_ACO_gbest_fitness[i]]= ACO.run()\n",
    "    print(str(i) + ' done')\n",
    "    \n",
    "name1 = 'Solutions/new_250_2_ACO_solution_bins.npy'\n",
    "name2 = 'Solutions/new_250_2_ACO_runtime.npy'\n",
    "name3 = 'Solutions/new_250_2_ACO_gbest_bins.npy'\n",
    "name4 = 'Solutions/new_250_2_ACO_gbest_fitness.npy'\n",
    "name5 = 'Solutions/new_250_2_ACO_average_bins.npy'\n",
    "name6 = 'Solutions/new_250_2_ACO_best_bins.npy'\n",
    "name7 = 'Solutions/new_250_2_ACO_worst_bins.npy'\n",
    "name8 = 'Solutions/new_250_2_ACO_fitness.npy'\n",
    "\n",
    "np.save(name1, new_50_0_ACO_solution_bins)\n",
    "np.save(name2, new_50_0_ACO_runtime)\n",
    "np.save(name3, new_50_0_ACO_gbest_bins)\n",
    "np.save(name4, new_50_0_ACO_gbest_fitness)\n",
    "np.save(name5, new_50_0_ACO_average_bins)\n",
    "np.save(name6, new_50_0_ACO_best_bins)\n",
    "np.save(name7, new_50_0_ACO_worst_bins)\n",
    "np.save(name8, new_50_0_ACO_fitness)"
   ]
  },
  {
   "cell_type": "markdown",
   "metadata": {},
   "source": [
    "# 250_3"
   ]
  },
  {
   "cell_type": "code",
   "execution_count": 30,
   "metadata": {},
   "outputs": [
    {
     "name": "stdout",
     "output_type": "stream",
     "text": [
      "0 done\n",
      "1 done\n",
      "2 done\n",
      "3 done\n",
      "4 done\n",
      "5 done\n",
      "6 done\n",
      "7 done\n",
      "8 done\n",
      "9 done\n"
     ]
    }
   ],
   "source": [
    "new_50_0_ACO_solution_bins = np.zeros(number_average)\n",
    "new_50_0_ACO_runtime = np.zeros(number_average)\n",
    "new_50_0_ACO_gbest_bins = np.zeros((number_average, iterations))\n",
    "new_50_0_ACO_gbest_fitness = np.zeros((number_average, iterations))\n",
    "new_50_0_ACO_average_bins = np.zeros((number_average, iterations))\n",
    "new_50_0_ACO_best_bins = np.zeros((number_average, iterations))\n",
    "new_50_0_ACO_worst_bins = np.zeros((number_average, iterations))\n",
    "new_50_0_ACO_fitness = np.zeros((number_average, iterations))\n",
    "    \n",
    "for i in range(number_average):\n",
    "    ACO = AntColonyOptimization(ant_number, iterations, b, f, p, µ, new_250_3, medium_container)\n",
    "    [new_50_0_ACO_runtime[i], new_50_0_ACO_solution_bins[i],new_50_0_ACO_average_bins[i], new_50_0_ACO_fitness[i], new_50_0_ACO_best_bins[i], new_50_0_ACO_worst_bins[i], new_50_0_ACO_gbest_bins[i], new_50_0_ACO_gbest_fitness[i]]= ACO.run()\n",
    "    print(str(i) + ' done')\n",
    "    \n",
    "name1 = 'Solutions/new_250_3_ACO_solution_bins.npy'\n",
    "name2 = 'Solutions/new_250_3_ACO_runtime.npy'\n",
    "name3 = 'Solutions/new_250_3_ACO_gbest_bins.npy'\n",
    "name4 = 'Solutions/new_250_3_ACO_gbest_fitness.npy'\n",
    "name5 = 'Solutions/new_250_3_ACO_average_bins.npy'\n",
    "name6 = 'Solutions/new_250_3_ACO_best_bins.npy'\n",
    "name7 = 'Solutions/new_250_3_ACO_worst_bins.npy'\n",
    "name8 = 'Solutions/new_250_3_ACO_fitness.npy'\n",
    "\n",
    "np.save(name1, new_50_0_ACO_solution_bins)\n",
    "np.save(name2, new_50_0_ACO_runtime)\n",
    "np.save(name3, new_50_0_ACO_gbest_bins)\n",
    "np.save(name4, new_50_0_ACO_gbest_fitness)\n",
    "np.save(name5, new_50_0_ACO_average_bins)\n",
    "np.save(name6, new_50_0_ACO_best_bins)\n",
    "np.save(name7, new_50_0_ACO_worst_bins)\n",
    "np.save(name8, new_50_0_ACO_fitness)"
   ]
  },
  {
   "cell_type": "markdown",
   "metadata": {},
   "source": [
    "# 250_4"
   ]
  },
  {
   "cell_type": "code",
   "execution_count": 31,
   "metadata": {},
   "outputs": [
    {
     "name": "stdout",
     "output_type": "stream",
     "text": [
      "0 done\n",
      "1 done\n",
      "2 done\n",
      "3 done\n",
      "4 done\n",
      "5 done\n",
      "6 done\n",
      "7 done\n",
      "8 done\n",
      "9 done\n"
     ]
    }
   ],
   "source": [
    "new_50_0_ACO_solution_bins = np.zeros(number_average)\n",
    "new_50_0_ACO_runtime = np.zeros(number_average)\n",
    "new_50_0_ACO_gbest_bins = np.zeros((number_average, iterations))\n",
    "new_50_0_ACO_gbest_fitness = np.zeros((number_average, iterations))\n",
    "new_50_0_ACO_average_bins = np.zeros((number_average, iterations))\n",
    "new_50_0_ACO_best_bins = np.zeros((number_average, iterations))\n",
    "new_50_0_ACO_worst_bins = np.zeros((number_average, iterations))\n",
    "new_50_0_ACO_fitness = np.zeros((number_average, iterations))\n",
    "    \n",
    "for i in range(number_average):\n",
    "    ACO = AntColonyOptimization(ant_number, iterations, b, f, p, µ, new_250_4, medium_container)\n",
    "    [new_50_0_ACO_runtime[i], new_50_0_ACO_solution_bins[i],new_50_0_ACO_average_bins[i], new_50_0_ACO_fitness[i], new_50_0_ACO_best_bins[i], new_50_0_ACO_worst_bins[i], new_50_0_ACO_gbest_bins[i], new_50_0_ACO_gbest_fitness[i]]= ACO.run()\n",
    "    print(str(i) + ' done')\n",
    "    \n",
    "name1 = 'Solutions/new_250_4_ACO_solution_bins.npy'\n",
    "name2 = 'Solutions/new_250_4_ACO_runtime.npy'\n",
    "name3 = 'Solutions/new_250_4_ACO_gbest_bins.npy'\n",
    "name4 = 'Solutions/new_250_4_ACO_gbest_fitness.npy'\n",
    "name5 = 'Solutions/new_250_4_ACO_average_bins.npy'\n",
    "name6 = 'Solutions/new_250_4_ACO_best_bins.npy'\n",
    "name7 = 'Solutions/new_250_4_ACO_worst_bins.npy'\n",
    "name8 = 'Solutions/new_250_4_ACO_fitness.npy'\n",
    "\n",
    "np.save(name1, new_50_0_ACO_solution_bins)\n",
    "np.save(name2, new_50_0_ACO_runtime)\n",
    "np.save(name3, new_50_0_ACO_gbest_bins)\n",
    "np.save(name4, new_50_0_ACO_gbest_fitness)\n",
    "np.save(name5, new_50_0_ACO_average_bins)\n",
    "np.save(name6, new_50_0_ACO_best_bins)\n",
    "np.save(name7, new_50_0_ACO_worst_bins)\n",
    "np.save(name8, new_50_0_ACO_fitness)"
   ]
  },
  {
   "cell_type": "markdown",
   "metadata": {},
   "source": [
    "# 250_5"
   ]
  },
  {
   "cell_type": "code",
   "execution_count": 32,
   "metadata": {},
   "outputs": [
    {
     "name": "stdout",
     "output_type": "stream",
     "text": [
      "0 done\n",
      "1 done\n",
      "2 done\n",
      "3 done\n",
      "4 done\n",
      "5 done\n",
      "6 done\n",
      "7 done\n",
      "8 done\n",
      "9 done\n"
     ]
    }
   ],
   "source": [
    "new_50_0_ACO_solution_bins = np.zeros(number_average)\n",
    "new_50_0_ACO_runtime = np.zeros(number_average)\n",
    "new_50_0_ACO_gbest_bins = np.zeros((number_average, iterations))\n",
    "new_50_0_ACO_gbest_fitness = np.zeros((number_average, iterations))\n",
    "new_50_0_ACO_average_bins = np.zeros((number_average, iterations))\n",
    "new_50_0_ACO_best_bins = np.zeros((number_average, iterations))\n",
    "new_50_0_ACO_worst_bins = np.zeros((number_average, iterations))\n",
    "new_50_0_ACO_fitness = np.zeros((number_average, iterations))\n",
    "    \n",
    "for i in range(number_average):\n",
    "    ACO = AntColonyOptimization(ant_number, iterations, b, f, p, µ, new_250_5, medium_container)\n",
    "    [new_50_0_ACO_runtime[i], new_50_0_ACO_solution_bins[i],new_50_0_ACO_average_bins[i], new_50_0_ACO_fitness[i], new_50_0_ACO_best_bins[i], new_50_0_ACO_worst_bins[i], new_50_0_ACO_gbest_bins[i], new_50_0_ACO_gbest_fitness[i]]= ACO.run()\n",
    "    print(str(i) + ' done')\n",
    "    \n",
    "name1 = 'Solutions/new_250_5_ACO_solution_bins.npy'\n",
    "name2 = 'Solutions/new_250_5_ACO_runtime.npy'\n",
    "name3 = 'Solutions/new_250_5_ACO_gbest_bins.npy'\n",
    "name4 = 'Solutions/new_250_5_ACO_gbest_fitness.npy'\n",
    "name5 = 'Solutions/new_250_5_ACO_average_bins.npy'\n",
    "name6 = 'Solutions/new_250_5_ACO_best_bins.npy'\n",
    "name7 = 'Solutions/new_250_5_ACO_worst_bins.npy'\n",
    "name8 = 'Solutions/new_250_5_ACO_fitness.npy'\n",
    "\n",
    "np.save(name1, new_50_0_ACO_solution_bins)\n",
    "np.save(name2, new_50_0_ACO_runtime)\n",
    "np.save(name3, new_50_0_ACO_gbest_bins)\n",
    "np.save(name4, new_50_0_ACO_gbest_fitness)\n",
    "np.save(name5, new_50_0_ACO_average_bins)\n",
    "np.save(name6, new_50_0_ACO_best_bins)\n",
    "np.save(name7, new_50_0_ACO_worst_bins)\n",
    "np.save(name8, new_50_0_ACO_fitness)"
   ]
  },
  {
   "cell_type": "markdown",
   "metadata": {},
   "source": [
    "# 250_6"
   ]
  },
  {
   "cell_type": "code",
   "execution_count": 33,
   "metadata": {},
   "outputs": [
    {
     "name": "stdout",
     "output_type": "stream",
     "text": [
      "0 done\n",
      "1 done\n",
      "2 done\n",
      "3 done\n",
      "4 done\n",
      "5 done\n",
      "6 done\n",
      "7 done\n",
      "8 done\n",
      "9 done\n"
     ]
    }
   ],
   "source": [
    "new_50_0_ACO_solution_bins = np.zeros(number_average)\n",
    "new_50_0_ACO_runtime = np.zeros(number_average)\n",
    "new_50_0_ACO_gbest_bins = np.zeros((number_average, iterations))\n",
    "new_50_0_ACO_gbest_fitness = np.zeros((number_average, iterations))\n",
    "new_50_0_ACO_average_bins = np.zeros((number_average, iterations))\n",
    "new_50_0_ACO_best_bins = np.zeros((number_average, iterations))\n",
    "new_50_0_ACO_worst_bins = np.zeros((number_average, iterations))\n",
    "new_50_0_ACO_fitness = np.zeros((number_average, iterations))\n",
    "    \n",
    "for i in range(number_average):\n",
    "    ACO = AntColonyOptimization(ant_number, iterations, b, f, p, µ, new_250_6, medium_container)\n",
    "    [new_50_0_ACO_runtime[i], new_50_0_ACO_solution_bins[i],new_50_0_ACO_average_bins[i], new_50_0_ACO_fitness[i], new_50_0_ACO_best_bins[i], new_50_0_ACO_worst_bins[i], new_50_0_ACO_gbest_bins[i], new_50_0_ACO_gbest_fitness[i]]= ACO.run()\n",
    "    print(str(i) + ' done')\n",
    "    \n",
    "name1 = 'Solutions/new_250_6_ACO_solution_bins.npy'\n",
    "name2 = 'Solutions/new_250_6_ACO_runtime.npy'\n",
    "name3 = 'Solutions/new_250_6_ACO_gbest_bins.npy'\n",
    "name4 = 'Solutions/new_250_6_ACO_gbest_fitness.npy'\n",
    "name5 = 'Solutions/new_250_6_ACO_average_bins.npy'\n",
    "name6 = 'Solutions/new_250_6_ACO_best_bins.npy'\n",
    "name7 = 'Solutions/new_250_6_ACO_worst_bins.npy'\n",
    "name8 = 'Solutions/new_250_6_ACO_fitness.npy'\n",
    "\n",
    "np.save(name1, new_50_0_ACO_solution_bins)\n",
    "np.save(name2, new_50_0_ACO_runtime)\n",
    "np.save(name3, new_50_0_ACO_gbest_bins)\n",
    "np.save(name4, new_50_0_ACO_gbest_fitness)\n",
    "np.save(name5, new_50_0_ACO_average_bins)\n",
    "np.save(name6, new_50_0_ACO_best_bins)\n",
    "np.save(name7, new_50_0_ACO_worst_bins)\n",
    "np.save(name8, new_50_0_ACO_fitness)"
   ]
  },
  {
   "cell_type": "markdown",
   "metadata": {},
   "source": [
    "# 250_7"
   ]
  },
  {
   "cell_type": "code",
   "execution_count": 34,
   "metadata": {},
   "outputs": [
    {
     "name": "stdout",
     "output_type": "stream",
     "text": [
      "0 done\n",
      "1 done\n",
      "2 done\n",
      "3 done\n",
      "4 done\n",
      "5 done\n",
      "6 done\n",
      "7 done\n",
      "8 done\n",
      "9 done\n"
     ]
    }
   ],
   "source": [
    "new_50_0_ACO_solution_bins = np.zeros(number_average)\n",
    "new_50_0_ACO_runtime = np.zeros(number_average)\n",
    "new_50_0_ACO_gbest_bins = np.zeros((number_average, iterations))\n",
    "new_50_0_ACO_gbest_fitness = np.zeros((number_average, iterations))\n",
    "new_50_0_ACO_average_bins = np.zeros((number_average, iterations))\n",
    "new_50_0_ACO_best_bins = np.zeros((number_average, iterations))\n",
    "new_50_0_ACO_worst_bins = np.zeros((number_average, iterations))\n",
    "new_50_0_ACO_fitness = np.zeros((number_average, iterations))\n",
    "    \n",
    "for i in range(number_average):\n",
    "    ACO = AntColonyOptimization(ant_number, iterations, b, f, p, µ, new_250_7, medium_container)\n",
    "    [new_50_0_ACO_runtime[i], new_50_0_ACO_solution_bins[i],new_50_0_ACO_average_bins[i], new_50_0_ACO_fitness[i], new_50_0_ACO_best_bins[i], new_50_0_ACO_worst_bins[i], new_50_0_ACO_gbest_bins[i], new_50_0_ACO_gbest_fitness[i]]= ACO.run()\n",
    "    print(str(i) + ' done')\n",
    "    \n",
    "name1 = 'Solutions/new_250_7_ACO_solution_bins.npy'\n",
    "name2 = 'Solutions/new_250_7_ACO_runtime.npy'\n",
    "name3 = 'Solutions/new_250_7_ACO_gbest_bins.npy'\n",
    "name4 = 'Solutions/new_250_7_ACO_gbest_fitness.npy'\n",
    "name5 = 'Solutions/new_250_7_ACO_average_bins.npy'\n",
    "name6 = 'Solutions/new_250_7_ACO_best_bins.npy'\n",
    "name7 = 'Solutions/new_250_7_ACO_worst_bins.npy'\n",
    "name8 = 'Solutions/new_250_7_ACO_fitness.npy'\n",
    "\n",
    "np.save(name1, new_50_0_ACO_solution_bins)\n",
    "np.save(name2, new_50_0_ACO_runtime)\n",
    "np.save(name3, new_50_0_ACO_gbest_bins)\n",
    "np.save(name4, new_50_0_ACO_gbest_fitness)\n",
    "np.save(name5, new_50_0_ACO_average_bins)\n",
    "np.save(name6, new_50_0_ACO_best_bins)\n",
    "np.save(name7, new_50_0_ACO_worst_bins)\n",
    "np.save(name8, new_50_0_ACO_fitness)"
   ]
  },
  {
   "cell_type": "markdown",
   "metadata": {},
   "source": [
    "# 250_8"
   ]
  },
  {
   "cell_type": "code",
   "execution_count": 35,
   "metadata": {},
   "outputs": [
    {
     "name": "stdout",
     "output_type": "stream",
     "text": [
      "0 done\n",
      "1 done\n",
      "2 done\n",
      "3 done\n",
      "4 done\n",
      "5 done\n",
      "6 done\n",
      "7 done\n",
      "8 done\n",
      "9 done\n"
     ]
    }
   ],
   "source": [
    "new_50_0_ACO_solution_bins = np.zeros(number_average)\n",
    "new_50_0_ACO_runtime = np.zeros(number_average)\n",
    "new_50_0_ACO_gbest_bins = np.zeros((number_average, iterations))\n",
    "new_50_0_ACO_gbest_fitness = np.zeros((number_average, iterations))\n",
    "new_50_0_ACO_average_bins = np.zeros((number_average, iterations))\n",
    "new_50_0_ACO_best_bins = np.zeros((number_average, iterations))\n",
    "new_50_0_ACO_worst_bins = np.zeros((number_average, iterations))\n",
    "new_50_0_ACO_fitness = np.zeros((number_average, iterations))\n",
    "    \n",
    "for i in range(number_average):\n",
    "    ACO = AntColonyOptimization(ant_number, iterations, b, f, p, µ, new_250_8, medium_container)\n",
    "    [new_50_0_ACO_runtime[i], new_50_0_ACO_solution_bins[i],new_50_0_ACO_average_bins[i], new_50_0_ACO_fitness[i], new_50_0_ACO_best_bins[i], new_50_0_ACO_worst_bins[i], new_50_0_ACO_gbest_bins[i], new_50_0_ACO_gbest_fitness[i]]= ACO.run()\n",
    "    print(str(i) + ' done')\n",
    "    \n",
    "name1 = 'Solutions/new_250_8_ACO_solution_bins.npy'\n",
    "name2 = 'Solutions/new_250_8_ACO_runtime.npy'\n",
    "name3 = 'Solutions/new_250_8_ACO_gbest_bins.npy'\n",
    "name4 = 'Solutions/new_250_8_ACO_gbest_fitness.npy'\n",
    "name5 = 'Solutions/new_250_8_ACO_average_bins.npy'\n",
    "name6 = 'Solutions/new_250_8_ACO_best_bins.npy'\n",
    "name7 = 'Solutions/new_250_8_ACO_worst_bins.npy'\n",
    "name8 = 'Solutions/new_250_8_ACO_fitness.npy'\n",
    "\n",
    "np.save(name1, new_50_0_ACO_solution_bins)\n",
    "np.save(name2, new_50_0_ACO_runtime)\n",
    "np.save(name3, new_50_0_ACO_gbest_bins)\n",
    "np.save(name4, new_50_0_ACO_gbest_fitness)\n",
    "np.save(name5, new_50_0_ACO_average_bins)\n",
    "np.save(name6, new_50_0_ACO_best_bins)\n",
    "np.save(name7, new_50_0_ACO_worst_bins)\n",
    "np.save(name8, new_50_0_ACO_fitness)"
   ]
  },
  {
   "cell_type": "markdown",
   "metadata": {},
   "source": [
    "# 250_9"
   ]
  },
  {
   "cell_type": "code",
   "execution_count": 36,
   "metadata": {},
   "outputs": [
    {
     "name": "stdout",
     "output_type": "stream",
     "text": [
      "0 done\n",
      "1 done\n",
      "2 done\n",
      "3 done\n",
      "4 done\n",
      "5 done\n",
      "6 done\n",
      "7 done\n",
      "8 done\n",
      "9 done\n"
     ]
    }
   ],
   "source": [
    "new_50_0_ACO_solution_bins = np.zeros(number_average)\n",
    "new_50_0_ACO_runtime = np.zeros(number_average)\n",
    "new_50_0_ACO_gbest_bins = np.zeros((number_average, iterations))\n",
    "new_50_0_ACO_gbest_fitness = np.zeros((number_average, iterations))\n",
    "new_50_0_ACO_average_bins = np.zeros((number_average, iterations))\n",
    "new_50_0_ACO_best_bins = np.zeros((number_average, iterations))\n",
    "new_50_0_ACO_worst_bins = np.zeros((number_average, iterations))\n",
    "new_50_0_ACO_fitness = np.zeros((number_average, iterations))\n",
    "    \n",
    "for i in range(number_average):\n",
    "    ACO = AntColonyOptimization(ant_number, iterations, b, f, p, µ, new_250_9, medium_container)\n",
    "    [new_50_0_ACO_runtime[i], new_50_0_ACO_solution_bins[i],new_50_0_ACO_average_bins[i], new_50_0_ACO_fitness[i], new_50_0_ACO_best_bins[i], new_50_0_ACO_worst_bins[i], new_50_0_ACO_gbest_bins[i], new_50_0_ACO_gbest_fitness[i]]= ACO.run()\n",
    "    print(str(i) + ' done')\n",
    "    \n",
    "name1 = 'Solutions/new_250_9_ACO_solution_bins.npy'\n",
    "name2 = 'Solutions/new_250_9_ACO_runtime.npy'\n",
    "name3 = 'Solutions/new_250_9_ACO_gbest_bins.npy'\n",
    "name4 = 'Solutions/new_250_9_ACO_gbest_fitness.npy'\n",
    "name5 = 'Solutions/new_250_9_ACO_average_bins.npy'\n",
    "name6 = 'Solutions/new_250_9_ACO_best_bins.npy'\n",
    "name7 = 'Solutions/new_250_9_ACO_worst_bins.npy'\n",
    "name8 = 'Solutions/new_250_9_ACO_fitness.npy'\n",
    "\n",
    "np.save(name1, new_50_0_ACO_solution_bins)\n",
    "np.save(name2, new_50_0_ACO_runtime)\n",
    "np.save(name3, new_50_0_ACO_gbest_bins)\n",
    "np.save(name4, new_50_0_ACO_gbest_fitness)\n",
    "np.save(name5, new_50_0_ACO_average_bins)\n",
    "np.save(name6, new_50_0_ACO_best_bins)\n",
    "np.save(name7, new_50_0_ACO_worst_bins)\n",
    "np.save(name8, new_50_0_ACO_fitness)"
   ]
  },
  {
   "cell_type": "code",
   "execution_count": 37,
   "metadata": {},
   "outputs": [],
   "source": [
    "number_average = 10\n",
    "iterations = 30\n",
    "ant_number = 70\n",
    "b = 5\n",
    "f = 2\n",
    "µ = 1\n",
    "p = 0.95"
   ]
  },
  {
   "cell_type": "markdown",
   "metadata": {},
   "source": [
    "# 500_0"
   ]
  },
  {
   "cell_type": "code",
   "execution_count": 38,
   "metadata": {},
   "outputs": [
    {
     "name": "stdout",
     "output_type": "stream",
     "text": [
      "0 done\n",
      "1 done\n",
      "2 done\n",
      "3 done\n",
      "4 done\n",
      "5 done\n",
      "6 done\n",
      "7 done\n",
      "8 done\n",
      "9 done\n"
     ]
    }
   ],
   "source": [
    "new_50_0_ACO_solution_bins = np.zeros(number_average)\n",
    "new_50_0_ACO_runtime = np.zeros(number_average)\n",
    "new_50_0_ACO_gbest_bins = np.zeros((number_average, iterations))\n",
    "new_50_0_ACO_gbest_fitness = np.zeros((number_average, iterations))\n",
    "new_50_0_ACO_average_bins = np.zeros((number_average, iterations))\n",
    "new_50_0_ACO_best_bins = np.zeros((number_average, iterations))\n",
    "new_50_0_ACO_worst_bins = np.zeros((number_average, iterations))\n",
    "new_50_0_ACO_fitness = np.zeros((number_average, iterations))\n",
    "    \n",
    "for i in range(number_average):\n",
    "    ACO = AntColonyOptimization(ant_number, iterations, b, f, p, µ, new_500_0, medium_container)\n",
    "    [new_50_0_ACO_runtime[i], new_50_0_ACO_solution_bins[i],new_50_0_ACO_average_bins[i], new_50_0_ACO_fitness[i], new_50_0_ACO_best_bins[i], new_50_0_ACO_worst_bins[i], new_50_0_ACO_gbest_bins[i], new_50_0_ACO_gbest_fitness[i]]= ACO.run()\n",
    "    print(str(i) + ' done')\n",
    "    \n",
    "name1 = 'Solutions/new_500_0_ACO_solution_bins.npy'\n",
    "name2 = 'Solutions/new_500_0_ACO_runtime.npy'\n",
    "name3 = 'Solutions/new_500_0_ACO_gbest_bins.npy'\n",
    "name4 = 'Solutions/new_500_0_ACO_gbest_fitness.npy'\n",
    "name5 = 'Solutions/new_500_0_ACO_average_bins.npy'\n",
    "name6 = 'Solutions/new_500_0_ACO_best_bins.npy'\n",
    "name7 = 'Solutions/new_500_0_ACO_worst_bins.npy'\n",
    "name8 = 'Solutions/new_500_0_ACO_fitness.npy'\n",
    "\n",
    "np.save(name1, new_50_0_ACO_solution_bins)\n",
    "np.save(name2, new_50_0_ACO_runtime)\n",
    "np.save(name3, new_50_0_ACO_gbest_bins)\n",
    "np.save(name4, new_50_0_ACO_gbest_fitness)\n",
    "np.save(name5, new_50_0_ACO_average_bins)\n",
    "np.save(name6, new_50_0_ACO_best_bins)\n",
    "np.save(name7, new_50_0_ACO_worst_bins)\n",
    "np.save(name8, new_50_0_ACO_fitness)"
   ]
  },
  {
   "cell_type": "markdown",
   "metadata": {},
   "source": [
    "# 500_1"
   ]
  },
  {
   "cell_type": "code",
   "execution_count": 39,
   "metadata": {},
   "outputs": [
    {
     "name": "stdout",
     "output_type": "stream",
     "text": [
      "0 done\n",
      "1 done\n",
      "2 done\n",
      "3 done\n",
      "4 done\n",
      "5 done\n",
      "6 done\n",
      "7 done\n",
      "8 done\n",
      "9 done\n"
     ]
    }
   ],
   "source": [
    "new_50_0_ACO_solution_bins = np.zeros(number_average)\n",
    "new_50_0_ACO_runtime = np.zeros(number_average)\n",
    "new_50_0_ACO_gbest_bins = np.zeros((number_average, iterations))\n",
    "new_50_0_ACO_gbest_fitness = np.zeros((number_average, iterations))\n",
    "new_50_0_ACO_average_bins = np.zeros((number_average, iterations))\n",
    "new_50_0_ACO_best_bins = np.zeros((number_average, iterations))\n",
    "new_50_0_ACO_worst_bins = np.zeros((number_average, iterations))\n",
    "new_50_0_ACO_fitness = np.zeros((number_average, iterations))\n",
    "    \n",
    "for i in range(number_average):\n",
    "    ACO = AntColonyOptimization(ant_number, iterations, b, f, p, µ, new_500_1, medium_container)\n",
    "    [new_50_0_ACO_runtime[i], new_50_0_ACO_solution_bins[i],new_50_0_ACO_average_bins[i], new_50_0_ACO_fitness[i], new_50_0_ACO_best_bins[i], new_50_0_ACO_worst_bins[i], new_50_0_ACO_gbest_bins[i], new_50_0_ACO_gbest_fitness[i]]= ACO.run()\n",
    "    print(str(i) + ' done')\n",
    "    \n",
    "name1 = 'Solutions/new_500_1_ACO_solution_bins.npy'\n",
    "name2 = 'Solutions/new_500_1_ACO_runtime.npy'\n",
    "name3 = 'Solutions/new_500_1_ACO_gbest_bins.npy'\n",
    "name4 = 'Solutions/new_500_1_ACO_gbest_fitness.npy'\n",
    "name5 = 'Solutions/new_500_1_ACO_average_bins.npy'\n",
    "name6 = 'Solutions/new_500_1_ACO_best_bins.npy'\n",
    "name7 = 'Solutions/new_500_1_ACO_worst_bins.npy'\n",
    "name8 = 'Solutions/new_500_1_ACO_fitness.npy'\n",
    "\n",
    "np.save(name1, new_50_0_ACO_solution_bins)\n",
    "np.save(name2, new_50_0_ACO_runtime)\n",
    "np.save(name3, new_50_0_ACO_gbest_bins)\n",
    "np.save(name4, new_50_0_ACO_gbest_fitness)\n",
    "np.save(name5, new_50_0_ACO_average_bins)\n",
    "np.save(name6, new_50_0_ACO_best_bins)\n",
    "np.save(name7, new_50_0_ACO_worst_bins)\n",
    "np.save(name8, new_50_0_ACO_fitness)"
   ]
  },
  {
   "cell_type": "markdown",
   "metadata": {},
   "source": [
    "# 500_2"
   ]
  },
  {
   "cell_type": "code",
   "execution_count": 40,
   "metadata": {},
   "outputs": [
    {
     "name": "stdout",
     "output_type": "stream",
     "text": [
      "0 done\n",
      "1 done\n",
      "2 done\n",
      "3 done\n",
      "4 done\n",
      "5 done\n",
      "6 done\n",
      "7 done\n",
      "8 done\n",
      "9 done\n"
     ]
    }
   ],
   "source": [
    "new_50_0_ACO_solution_bins = np.zeros(number_average)\n",
    "new_50_0_ACO_runtime = np.zeros(number_average)\n",
    "new_50_0_ACO_gbest_bins = np.zeros((number_average, iterations))\n",
    "new_50_0_ACO_gbest_fitness = np.zeros((number_average, iterations))\n",
    "new_50_0_ACO_average_bins = np.zeros((number_average, iterations))\n",
    "new_50_0_ACO_best_bins = np.zeros((number_average, iterations))\n",
    "new_50_0_ACO_worst_bins = np.zeros((number_average, iterations))\n",
    "new_50_0_ACO_fitness = np.zeros((number_average, iterations))\n",
    "    \n",
    "for i in range(number_average):\n",
    "    ACO = AntColonyOptimization(ant_number, iterations, b, f, p, µ, new_500_2, medium_container)\n",
    "    [new_50_0_ACO_runtime[i], new_50_0_ACO_solution_bins[i],new_50_0_ACO_average_bins[i], new_50_0_ACO_fitness[i], new_50_0_ACO_best_bins[i], new_50_0_ACO_worst_bins[i], new_50_0_ACO_gbest_bins[i], new_50_0_ACO_gbest_fitness[i]]= ACO.run()\n",
    "    print(str(i) + ' done')\n",
    "    \n",
    "name1 = 'Solutions/new_500_2_ACO_solution_bins.npy'\n",
    "name2 = 'Solutions/new_500_2_ACO_runtime.npy'\n",
    "name3 = 'Solutions/new_500_2_ACO_gbest_bins.npy'\n",
    "name4 = 'Solutions/new_500_2_ACO_gbest_fitness.npy'\n",
    "name5 = 'Solutions/new_500_2_ACO_average_bins.npy'\n",
    "name6 = 'Solutions/new_500_2_ACO_best_bins.npy'\n",
    "name7 = 'Solutions/new_500_2_ACO_worst_bins.npy'\n",
    "name8 = 'Solutions/new_500_2_ACO_fitness.npy'\n",
    "\n",
    "np.save(name1, new_50_0_ACO_solution_bins)\n",
    "np.save(name2, new_50_0_ACO_runtime)\n",
    "np.save(name3, new_50_0_ACO_gbest_bins)\n",
    "np.save(name4, new_50_0_ACO_gbest_fitness)\n",
    "np.save(name5, new_50_0_ACO_average_bins)\n",
    "np.save(name6, new_50_0_ACO_best_bins)\n",
    "np.save(name7, new_50_0_ACO_worst_bins)\n",
    "np.save(name8, new_50_0_ACO_fitness)"
   ]
  },
  {
   "cell_type": "markdown",
   "metadata": {},
   "source": [
    "# 500_3"
   ]
  },
  {
   "cell_type": "code",
   "execution_count": 41,
   "metadata": {},
   "outputs": [
    {
     "name": "stdout",
     "output_type": "stream",
     "text": [
      "0 done\n",
      "1 done\n",
      "2 done\n",
      "3 done\n",
      "4 done\n",
      "5 done\n",
      "6 done\n",
      "7 done\n",
      "8 done\n",
      "9 done\n"
     ]
    }
   ],
   "source": [
    "new_50_0_ACO_solution_bins = np.zeros(number_average)\n",
    "new_50_0_ACO_runtime = np.zeros(number_average)\n",
    "new_50_0_ACO_gbest_bins = np.zeros((number_average, iterations))\n",
    "new_50_0_ACO_gbest_fitness = np.zeros((number_average, iterations))\n",
    "new_50_0_ACO_average_bins = np.zeros((number_average, iterations))\n",
    "new_50_0_ACO_best_bins = np.zeros((number_average, iterations))\n",
    "new_50_0_ACO_worst_bins = np.zeros((number_average, iterations))\n",
    "new_50_0_ACO_fitness = np.zeros((number_average, iterations))\n",
    "    \n",
    "for i in range(number_average):\n",
    "    ACO = AntColonyOptimization(ant_number, iterations, b, f, p, µ, new_500_3, medium_container)\n",
    "    [new_50_0_ACO_runtime[i], new_50_0_ACO_solution_bins[i],new_50_0_ACO_average_bins[i], new_50_0_ACO_fitness[i], new_50_0_ACO_best_bins[i], new_50_0_ACO_worst_bins[i], new_50_0_ACO_gbest_bins[i], new_50_0_ACO_gbest_fitness[i]]= ACO.run()\n",
    "    print(str(i) + ' done')\n",
    "    \n",
    "name1 = 'Solutions/new_500_3_ACO_solution_bins.npy'\n",
    "name2 = 'Solutions/new_500_3_ACO_runtime.npy'\n",
    "name3 = 'Solutions/new_500_3_ACO_gbest_bins.npy'\n",
    "name4 = 'Solutions/new_500_3_ACO_gbest_fitness.npy'\n",
    "name5 = 'Solutions/new_500_3_ACO_average_bins.npy'\n",
    "name6 = 'Solutions/new_500_3_ACO_best_bins.npy'\n",
    "name7 = 'Solutions/new_500_3_ACO_worst_bins.npy'\n",
    "name8 = 'Solutions/new_500_3_ACO_fitness.npy'\n",
    "\n",
    "np.save(name1, new_50_0_ACO_solution_bins)\n",
    "np.save(name2, new_50_0_ACO_runtime)\n",
    "np.save(name3, new_50_0_ACO_gbest_bins)\n",
    "np.save(name4, new_50_0_ACO_gbest_fitness)\n",
    "np.save(name5, new_50_0_ACO_average_bins)\n",
    "np.save(name6, new_50_0_ACO_best_bins)\n",
    "np.save(name7, new_50_0_ACO_worst_bins)\n",
    "np.save(name8, new_50_0_ACO_fitness)"
   ]
  },
  {
   "cell_type": "markdown",
   "metadata": {},
   "source": [
    "# 500_4"
   ]
  },
  {
   "cell_type": "code",
   "execution_count": 42,
   "metadata": {},
   "outputs": [
    {
     "name": "stdout",
     "output_type": "stream",
     "text": [
      "0 done\n",
      "1 done\n",
      "2 done\n",
      "3 done\n",
      "4 done\n",
      "5 done\n",
      "6 done\n",
      "7 done\n",
      "8 done\n",
      "9 done\n"
     ]
    }
   ],
   "source": [
    "new_50_0_ACO_solution_bins = np.zeros(number_average)\n",
    "new_50_0_ACO_runtime = np.zeros(number_average)\n",
    "new_50_0_ACO_gbest_bins = np.zeros((number_average, iterations))\n",
    "new_50_0_ACO_gbest_fitness = np.zeros((number_average, iterations))\n",
    "new_50_0_ACO_average_bins = np.zeros((number_average, iterations))\n",
    "new_50_0_ACO_best_bins = np.zeros((number_average, iterations))\n",
    "new_50_0_ACO_worst_bins = np.zeros((number_average, iterations))\n",
    "new_50_0_ACO_fitness = np.zeros((number_average, iterations))\n",
    "    \n",
    "for i in range(number_average):\n",
    "    ACO = AntColonyOptimization(ant_number, iterations, b, f, p, µ, new_500_4, medium_container)\n",
    "    [new_50_0_ACO_runtime[i], new_50_0_ACO_solution_bins[i],new_50_0_ACO_average_bins[i], new_50_0_ACO_fitness[i], new_50_0_ACO_best_bins[i], new_50_0_ACO_worst_bins[i], new_50_0_ACO_gbest_bins[i], new_50_0_ACO_gbest_fitness[i]]= ACO.run()\n",
    "    print(str(i) + ' done')\n",
    "    \n",
    "name1 = 'Solutions/new_500_4_ACO_solution_bins.npy'\n",
    "name2 = 'Solutions/new_500_4_ACO_runtime.npy'\n",
    "name3 = 'Solutions/new_500_4_ACO_gbest_bins.npy'\n",
    "name4 = 'Solutions/new_500_4_ACO_gbest_fitness.npy'\n",
    "name5 = 'Solutions/new_500_4_ACO_average_bins.npy'\n",
    "name6 = 'Solutions/new_500_4_ACO_best_bins.npy'\n",
    "name7 = 'Solutions/new_500_4_ACO_worst_bins.npy'\n",
    "name8 = 'Solutions/new_500_4_ACO_fitness.npy'\n",
    "\n",
    "np.save(name1, new_50_0_ACO_solution_bins)\n",
    "np.save(name2, new_50_0_ACO_runtime)\n",
    "np.save(name3, new_50_0_ACO_gbest_bins)\n",
    "np.save(name4, new_50_0_ACO_gbest_fitness)\n",
    "np.save(name5, new_50_0_ACO_average_bins)\n",
    "np.save(name6, new_50_0_ACO_best_bins)\n",
    "np.save(name7, new_50_0_ACO_worst_bins)\n",
    "np.save(name8, new_50_0_ACO_fitness)"
   ]
  },
  {
   "cell_type": "markdown",
   "metadata": {},
   "source": [
    "# 500_5"
   ]
  },
  {
   "cell_type": "code",
   "execution_count": 43,
   "metadata": {},
   "outputs": [
    {
     "name": "stdout",
     "output_type": "stream",
     "text": [
      "0 done\n",
      "1 done\n",
      "2 done\n",
      "3 done\n",
      "4 done\n",
      "5 done\n",
      "6 done\n",
      "7 done\n",
      "8 done\n",
      "9 done\n"
     ]
    }
   ],
   "source": [
    "new_50_0_ACO_solution_bins = np.zeros(number_average)\n",
    "new_50_0_ACO_runtime = np.zeros(number_average)\n",
    "new_50_0_ACO_gbest_bins = np.zeros((number_average, iterations))\n",
    "new_50_0_ACO_gbest_fitness = np.zeros((number_average, iterations))\n",
    "new_50_0_ACO_average_bins = np.zeros((number_average, iterations))\n",
    "new_50_0_ACO_best_bins = np.zeros((number_average, iterations))\n",
    "new_50_0_ACO_worst_bins = np.zeros((number_average, iterations))\n",
    "new_50_0_ACO_fitness = np.zeros((number_average, iterations))\n",
    "    \n",
    "for i in range(number_average):\n",
    "    ACO = AntColonyOptimization(ant_number, iterations, b, f, p, µ, new_500_5, medium_container)\n",
    "    [new_50_0_ACO_runtime[i], new_50_0_ACO_solution_bins[i],new_50_0_ACO_average_bins[i], new_50_0_ACO_fitness[i], new_50_0_ACO_best_bins[i], new_50_0_ACO_worst_bins[i], new_50_0_ACO_gbest_bins[i], new_50_0_ACO_gbest_fitness[i]]= ACO.run()\n",
    "    print(str(i) + ' done')\n",
    "    \n",
    "name1 = 'Solutions/new_500_5_ACO_solution_bins.npy'\n",
    "name2 = 'Solutions/new_500_5_ACO_runtime.npy'\n",
    "name3 = 'Solutions/new_500_5_ACO_gbest_bins.npy'\n",
    "name4 = 'Solutions/new_500_5_ACO_gbest_fitness.npy'\n",
    "name5 = 'Solutions/new_500_5_ACO_average_bins.npy'\n",
    "name6 = 'Solutions/new_500_5_ACO_best_bins.npy'\n",
    "name7 = 'Solutions/new_500_5_ACO_worst_bins.npy'\n",
    "name8 = 'Solutions/new_500_5_ACO_fitness.npy'\n",
    "\n",
    "np.save(name1, new_50_0_ACO_solution_bins)\n",
    "np.save(name2, new_50_0_ACO_runtime)\n",
    "np.save(name3, new_50_0_ACO_gbest_bins)\n",
    "np.save(name4, new_50_0_ACO_gbest_fitness)\n",
    "np.save(name5, new_50_0_ACO_average_bins)\n",
    "np.save(name6, new_50_0_ACO_best_bins)\n",
    "np.save(name7, new_50_0_ACO_worst_bins)\n",
    "np.save(name8, new_50_0_ACO_fitness)"
   ]
  },
  {
   "cell_type": "markdown",
   "metadata": {},
   "source": [
    "# 500_6"
   ]
  },
  {
   "cell_type": "code",
   "execution_count": 44,
   "metadata": {},
   "outputs": [
    {
     "name": "stdout",
     "output_type": "stream",
     "text": [
      "0 done\n",
      "1 done\n",
      "2 done\n",
      "3 done\n",
      "4 done\n",
      "5 done\n",
      "6 done\n",
      "7 done\n",
      "8 done\n",
      "9 done\n"
     ]
    }
   ],
   "source": [
    "new_50_0_ACO_solution_bins = np.zeros(number_average)\n",
    "new_50_0_ACO_runtime = np.zeros(number_average)\n",
    "new_50_0_ACO_gbest_bins = np.zeros((number_average, iterations))\n",
    "new_50_0_ACO_gbest_fitness = np.zeros((number_average, iterations))\n",
    "new_50_0_ACO_average_bins = np.zeros((number_average, iterations))\n",
    "new_50_0_ACO_best_bins = np.zeros((number_average, iterations))\n",
    "new_50_0_ACO_worst_bins = np.zeros((number_average, iterations))\n",
    "new_50_0_ACO_fitness = np.zeros((number_average, iterations))\n",
    "    \n",
    "for i in range(number_average):\n",
    "    ACO = AntColonyOptimization(ant_number, iterations, b, f, p, µ, new_500_6, medium_container)\n",
    "    [new_50_0_ACO_runtime[i], new_50_0_ACO_solution_bins[i],new_50_0_ACO_average_bins[i], new_50_0_ACO_fitness[i], new_50_0_ACO_best_bins[i], new_50_0_ACO_worst_bins[i], new_50_0_ACO_gbest_bins[i], new_50_0_ACO_gbest_fitness[i]]= ACO.run()\n",
    "    print(str(i) + ' done')\n",
    "    \n",
    "name1 = 'Solutions/new_500_6_ACO_solution_bins.npy'\n",
    "name2 = 'Solutions/new_500_6_ACO_runtime.npy'\n",
    "name3 = 'Solutions/new_500_6_ACO_gbest_bins.npy'\n",
    "name4 = 'Solutions/new_500_6_ACO_gbest_fitness.npy'\n",
    "name5 = 'Solutions/new_500_6_ACO_average_bins.npy'\n",
    "name6 = 'Solutions/new_500_6_ACO_best_bins.npy'\n",
    "name7 = 'Solutions/new_500_6_ACO_worst_bins.npy'\n",
    "name8 = 'Solutions/new_500_6_ACO_fitness.npy'\n",
    "\n",
    "np.save(name1, new_50_0_ACO_solution_bins)\n",
    "np.save(name2, new_50_0_ACO_runtime)\n",
    "np.save(name3, new_50_0_ACO_gbest_bins)\n",
    "np.save(name4, new_50_0_ACO_gbest_fitness)\n",
    "np.save(name5, new_50_0_ACO_average_bins)\n",
    "np.save(name6, new_50_0_ACO_best_bins)\n",
    "np.save(name7, new_50_0_ACO_worst_bins)\n",
    "np.save(name8, new_50_0_ACO_fitness)"
   ]
  },
  {
   "cell_type": "markdown",
   "metadata": {},
   "source": [
    "# 500_7"
   ]
  },
  {
   "cell_type": "code",
   "execution_count": 45,
   "metadata": {},
   "outputs": [
    {
     "name": "stdout",
     "output_type": "stream",
     "text": [
      "0 done\n",
      "1 done\n",
      "2 done\n",
      "3 done\n",
      "4 done\n",
      "5 done\n",
      "6 done\n",
      "7 done\n",
      "8 done\n",
      "9 done\n"
     ]
    }
   ],
   "source": [
    "new_50_0_ACO_solution_bins = np.zeros(number_average)\n",
    "new_50_0_ACO_runtime = np.zeros(number_average)\n",
    "new_50_0_ACO_gbest_bins = np.zeros((number_average, iterations))\n",
    "new_50_0_ACO_gbest_fitness = np.zeros((number_average, iterations))\n",
    "new_50_0_ACO_average_bins = np.zeros((number_average, iterations))\n",
    "new_50_0_ACO_best_bins = np.zeros((number_average, iterations))\n",
    "new_50_0_ACO_worst_bins = np.zeros((number_average, iterations))\n",
    "new_50_0_ACO_fitness = np.zeros((number_average, iterations))\n",
    "    \n",
    "for i in range(number_average):\n",
    "    ACO = AntColonyOptimization(ant_number, iterations, b, f, p, µ, new_500_7, medium_container)\n",
    "    [new_50_0_ACO_runtime[i], new_50_0_ACO_solution_bins[i],new_50_0_ACO_average_bins[i], new_50_0_ACO_fitness[i], new_50_0_ACO_best_bins[i], new_50_0_ACO_worst_bins[i], new_50_0_ACO_gbest_bins[i], new_50_0_ACO_gbest_fitness[i]]= ACO.run()\n",
    "    print(str(i) + ' done')\n",
    "    \n",
    "name1 = 'Solutions/new_500_7_ACO_solution_bins.npy'\n",
    "name2 = 'Solutions/new_500_7_ACO_runtime.npy'\n",
    "name3 = 'Solutions/new_500_7_ACO_gbest_bins.npy'\n",
    "name4 = 'Solutions/new_500_7_ACO_gbest_fitness.npy'\n",
    "name5 = 'Solutions/new_500_7_ACO_average_bins.npy'\n",
    "name6 = 'Solutions/new_500_7_ACO_best_bins.npy'\n",
    "name7 = 'Solutions/new_500_7_ACO_worst_bins.npy'\n",
    "name8 = 'Solutions/new_500_7_ACO_fitness.npy'\n",
    "\n",
    "np.save(name1, new_50_0_ACO_solution_bins)\n",
    "np.save(name2, new_50_0_ACO_runtime)\n",
    "np.save(name3, new_50_0_ACO_gbest_bins)\n",
    "np.save(name4, new_50_0_ACO_gbest_fitness)\n",
    "np.save(name5, new_50_0_ACO_average_bins)\n",
    "np.save(name6, new_50_0_ACO_best_bins)\n",
    "np.save(name7, new_50_0_ACO_worst_bins)\n",
    "np.save(name8, new_50_0_ACO_fitness)"
   ]
  },
  {
   "cell_type": "markdown",
   "metadata": {},
   "source": [
    "# 500_8"
   ]
  },
  {
   "cell_type": "code",
   "execution_count": 46,
   "metadata": {},
   "outputs": [
    {
     "name": "stdout",
     "output_type": "stream",
     "text": [
      "0 done\n",
      "1 done\n",
      "2 done\n",
      "3 done\n",
      "4 done\n",
      "5 done\n",
      "6 done\n",
      "7 done\n",
      "8 done\n",
      "9 done\n"
     ]
    }
   ],
   "source": [
    "new_50_0_ACO_solution_bins = np.zeros(number_average)\n",
    "new_50_0_ACO_runtime = np.zeros(number_average)\n",
    "new_50_0_ACO_gbest_bins = np.zeros((number_average, iterations))\n",
    "new_50_0_ACO_gbest_fitness = np.zeros((number_average, iterations))\n",
    "new_50_0_ACO_average_bins = np.zeros((number_average, iterations))\n",
    "new_50_0_ACO_best_bins = np.zeros((number_average, iterations))\n",
    "new_50_0_ACO_worst_bins = np.zeros((number_average, iterations))\n",
    "new_50_0_ACO_fitness = np.zeros((number_average, iterations))\n",
    "    \n",
    "for i in range(number_average):\n",
    "    ACO = AntColonyOptimization(ant_number, iterations, b, f, p, µ, new_500_8, medium_container)\n",
    "    [new_50_0_ACO_runtime[i], new_50_0_ACO_solution_bins[i],new_50_0_ACO_average_bins[i], new_50_0_ACO_fitness[i], new_50_0_ACO_best_bins[i], new_50_0_ACO_worst_bins[i], new_50_0_ACO_gbest_bins[i], new_50_0_ACO_gbest_fitness[i]]= ACO.run()\n",
    "    print(str(i) + ' done')\n",
    "    \n",
    "name1 = 'Solutions/new_500_8_ACO_solution_bins.npy'\n",
    "name2 = 'Solutions/new_500_8_ACO_runtime.npy'\n",
    "name3 = 'Solutions/new_500_8_ACO_gbest_bins.npy'\n",
    "name4 = 'Solutions/new_500_8_ACO_gbest_fitness.npy'\n",
    "name5 = 'Solutions/new_500_8_ACO_average_bins.npy'\n",
    "name6 = 'Solutions/new_500_8_ACO_best_bins.npy'\n",
    "name7 = 'Solutions/new_500_8_ACO_worst_bins.npy'\n",
    "name8 = 'Solutions/new_500_8_ACO_fitness.npy'\n",
    "\n",
    "np.save(name1, new_50_0_ACO_solution_bins)\n",
    "np.save(name2, new_50_0_ACO_runtime)\n",
    "np.save(name3, new_50_0_ACO_gbest_bins)\n",
    "np.save(name4, new_50_0_ACO_gbest_fitness)\n",
    "np.save(name5, new_50_0_ACO_average_bins)\n",
    "np.save(name6, new_50_0_ACO_best_bins)\n",
    "np.save(name7, new_50_0_ACO_worst_bins)\n",
    "np.save(name8, new_50_0_ACO_fitness)"
   ]
  },
  {
   "cell_type": "markdown",
   "metadata": {},
   "source": [
    "# 500_9"
   ]
  },
  {
   "cell_type": "code",
   "execution_count": 47,
   "metadata": {},
   "outputs": [
    {
     "name": "stdout",
     "output_type": "stream",
     "text": [
      "0 done\n",
      "1 done\n",
      "2 done\n",
      "3 done\n",
      "4 done\n",
      "5 done\n",
      "6 done\n",
      "7 done\n",
      "8 done\n",
      "9 done\n"
     ]
    }
   ],
   "source": [
    "new_50_0_ACO_solution_bins = np.zeros(number_average)\n",
    "new_50_0_ACO_runtime = np.zeros(number_average)\n",
    "new_50_0_ACO_gbest_bins = np.zeros((number_average, iterations))\n",
    "new_50_0_ACO_gbest_fitness = np.zeros((number_average, iterations))\n",
    "new_50_0_ACO_average_bins = np.zeros((number_average, iterations))\n",
    "new_50_0_ACO_best_bins = np.zeros((number_average, iterations))\n",
    "new_50_0_ACO_worst_bins = np.zeros((number_average, iterations))\n",
    "new_50_0_ACO_fitness = np.zeros((number_average, iterations))\n",
    "    \n",
    "for i in range(number_average):\n",
    "    ACO = AntColonyOptimization(ant_number, iterations, b, f, p, µ, new_500_9, medium_container)\n",
    "    [new_50_0_ACO_runtime[i], new_50_0_ACO_solution_bins[i],new_50_0_ACO_average_bins[i], new_50_0_ACO_fitness[i], new_50_0_ACO_best_bins[i], new_50_0_ACO_worst_bins[i], new_50_0_ACO_gbest_bins[i], new_50_0_ACO_gbest_fitness[i]]= ACO.run()\n",
    "    print(str(i) + ' done')\n",
    "    \n",
    "name1 = 'Solutions/new_500_9_ACO_solution_bins.npy'\n",
    "name2 = 'Solutions/new_500_9_ACO_runtime.npy'\n",
    "name3 = 'Solutions/new_500_9_ACO_gbest_bins.npy'\n",
    "name4 = 'Solutions/new_500_9_ACO_gbest_fitness.npy'\n",
    "name5 = 'Solutions/new_500_9_ACO_average_bins.npy'\n",
    "name6 = 'Solutions/new_500_9_ACO_best_bins.npy'\n",
    "name7 = 'Solutions/new_500_9_ACO_worst_bins.npy'\n",
    "name8 = 'Solutions/new_500_9_ACO_fitness.npy'\n",
    "\n",
    "np.save(name1, new_50_0_ACO_solution_bins)\n",
    "np.save(name2, new_50_0_ACO_runtime)\n",
    "np.save(name3, new_50_0_ACO_gbest_bins)\n",
    "np.save(name4, new_50_0_ACO_gbest_fitness)\n",
    "np.save(name5, new_50_0_ACO_average_bins)\n",
    "np.save(name6, new_50_0_ACO_best_bins)\n",
    "np.save(name7, new_50_0_ACO_worst_bins)\n",
    "np.save(name8, new_50_0_ACO_fitness)"
   ]
  },
  {
   "cell_type": "code",
   "execution_count": 48,
   "metadata": {},
   "outputs": [],
   "source": [
    "number_average = 10\n",
    "iterations = 30\n",
    "ant_number = 70\n",
    "b = 7\n",
    "f = 2\n",
    "µ = 1\n",
    "p = 0.95"
   ]
  },
  {
   "cell_type": "markdown",
   "metadata": {},
   "source": [
    "# 1000_0"
   ]
  },
  {
   "cell_type": "code",
   "execution_count": 49,
   "metadata": {},
   "outputs": [
    {
     "name": "stdout",
     "output_type": "stream",
     "text": [
      "0 done\n",
      "1 done\n",
      "2 done\n",
      "3 done\n",
      "4 done\n",
      "5 done\n",
      "6 done\n",
      "7 done\n",
      "8 done\n",
      "9 done\n"
     ]
    }
   ],
   "source": [
    "new_50_0_ACO_solution_bins = np.zeros(number_average)\n",
    "new_50_0_ACO_runtime = np.zeros(number_average)\n",
    "new_50_0_ACO_gbest_bins = np.zeros((number_average, iterations))\n",
    "new_50_0_ACO_gbest_fitness = np.zeros((number_average, iterations))\n",
    "new_50_0_ACO_average_bins = np.zeros((number_average, iterations))\n",
    "new_50_0_ACO_best_bins = np.zeros((number_average, iterations))\n",
    "new_50_0_ACO_worst_bins = np.zeros((number_average, iterations))\n",
    "new_50_0_ACO_fitness = np.zeros((number_average, iterations))\n",
    "    \n",
    "for i in range(number_average):\n",
    "    ACO = AntColonyOptimization(ant_number, iterations, b, f, p, µ, new_1000_0, medium_container)\n",
    "    [new_50_0_ACO_runtime[i], new_50_0_ACO_solution_bins[i],new_50_0_ACO_average_bins[i], new_50_0_ACO_fitness[i], new_50_0_ACO_best_bins[i], new_50_0_ACO_worst_bins[i], new_50_0_ACO_gbest_bins[i], new_50_0_ACO_gbest_fitness[i]]= ACO.run()\n",
    "    print(str(i) + ' done')\n",
    "    \n",
    "name1 = 'Solutions/new_1000_0_ACO_solution_bins.npy'\n",
    "name2 = 'Solutions/new_1000_0_ACO_runtime.npy'\n",
    "name3 = 'Solutions/new_1000_0_ACO_gbest_bins.npy'\n",
    "name4 = 'Solutions/new_1000_0_ACO_gbest_fitness.npy'\n",
    "name5 = 'Solutions/new_1000_0_ACO_average_bins.npy'\n",
    "name6 = 'Solutions/new_1000_0_ACO_best_bins.npy'\n",
    "name7 = 'Solutions/new_1000_0_ACO_worst_bins.npy'\n",
    "name8 = 'Solutions/new_1000_0_ACO_fitness.npy'\n",
    "\n",
    "np.save(name1, new_50_0_ACO_solution_bins)\n",
    "np.save(name2, new_50_0_ACO_runtime)\n",
    "np.save(name3, new_50_0_ACO_gbest_bins)\n",
    "np.save(name4, new_50_0_ACO_gbest_fitness)\n",
    "np.save(name5, new_50_0_ACO_average_bins)\n",
    "np.save(name6, new_50_0_ACO_best_bins)\n",
    "np.save(name7, new_50_0_ACO_worst_bins)\n",
    "np.save(name8, new_50_0_ACO_fitness)"
   ]
  },
  {
   "cell_type": "code",
   "execution_count": 50,
   "metadata": {},
   "outputs": [
    {
     "name": "stdout",
     "output_type": "stream",
     "text": [
      "23027.07807469368\n"
     ]
    }
   ],
   "source": [
    "ende = time.time()\n",
    "print(ende-start)"
   ]
  },
  {
   "cell_type": "markdown",
   "metadata": {},
   "source": [
    "# small"
   ]
  },
  {
   "cell_type": "code",
   "execution_count": 51,
   "metadata": {},
   "outputs": [],
   "source": [
    "number_average = 10\n",
    "iterations = 100\n",
    "ant_number = 10\n",
    "b = 2\n",
    "f = 2\n",
    "µ = 10\n",
    "p = 0.95"
   ]
  },
  {
   "cell_type": "code",
   "execution_count": 52,
   "metadata": {},
   "outputs": [
    {
     "name": "stdout",
     "output_type": "stream",
     "text": [
      "0 done\n",
      "1 done\n",
      "2 done\n",
      "3 done\n",
      "4 done\n",
      "5 done\n",
      "6 done\n",
      "7 done\n",
      "8 done\n",
      "9 done\n"
     ]
    }
   ],
   "source": [
    "new_50_0_ACO_solution_bins = np.zeros(number_average)\n",
    "new_50_0_ACO_runtime = np.zeros(number_average)\n",
    "new_50_0_ACO_gbest_bins = np.zeros((number_average, iterations))\n",
    "new_50_0_ACO_gbest_fitness = np.zeros((number_average, iterations))\n",
    "new_50_0_ACO_average_bins = np.zeros((number_average, iterations))\n",
    "new_50_0_ACO_best_bins = np.zeros((number_average, iterations))\n",
    "new_50_0_ACO_worst_bins = np.zeros((number_average, iterations))\n",
    "new_50_0_ACO_fitness = np.zeros((number_average, iterations))\n",
    "    \n",
    "for i in range(number_average):\n",
    "    ACO = AntColonyOptimization(ant_number, iterations, b, f, p, µ, small_objects, small_container)\n",
    "    [new_50_0_ACO_runtime[i], new_50_0_ACO_solution_bins[i],new_50_0_ACO_average_bins[i], new_50_0_ACO_fitness[i], new_50_0_ACO_best_bins[i], new_50_0_ACO_worst_bins[i], new_50_0_ACO_gbest_bins[i], new_50_0_ACO_gbest_fitness[i]]= ACO.run()\n",
    "    print(str(i) + ' done')\n",
    "    \n",
    "name1 = 'Solutions/small_ACO_solution_bins.npy'\n",
    "name2 = 'Solutions/small_ACO_runtime.npy'\n",
    "name3 = 'Solutions/small_ACO_gbest_bins.npy'\n",
    "name4 = 'Solutions/small_ACO_gbest_fitness.npy'\n",
    "name5 = 'Solutions/small_ACO_average_bins.npy'\n",
    "name6 = 'Solutions/small_ACO_best_bins.npy'\n",
    "name7 = 'Solutions/small_ACO_worst_bins.npy'\n",
    "name8 = 'Solutions/small_ACO_fitness.npy'\n",
    "\n",
    "np.save(name1, new_50_0_ACO_solution_bins)\n",
    "np.save(name2, new_50_0_ACO_runtime)\n",
    "np.save(name3, new_50_0_ACO_gbest_bins)\n",
    "np.save(name4, new_50_0_ACO_gbest_fitness)\n",
    "np.save(name5, new_50_0_ACO_average_bins)\n",
    "np.save(name6, new_50_0_ACO_best_bins)\n",
    "np.save(name7, new_50_0_ACO_worst_bins)\n",
    "np.save(name8, new_50_0_ACO_fitness)"
   ]
  },
  {
   "cell_type": "markdown",
   "metadata": {},
   "source": [
    "# medium"
   ]
  },
  {
   "cell_type": "code",
   "execution_count": 53,
   "metadata": {},
   "outputs": [],
   "source": [
    "number_average = 10\n",
    "iterations = 45\n",
    "ant_number = 60\n",
    "b = 2\n",
    "f = 2\n",
    "µ = 2\n",
    "p = 0.95"
   ]
  },
  {
   "cell_type": "code",
   "execution_count": 54,
   "metadata": {},
   "outputs": [
    {
     "name": "stdout",
     "output_type": "stream",
     "text": [
      "0 done\n",
      "1 done\n",
      "2 done\n",
      "3 done\n",
      "4 done\n",
      "5 done\n",
      "6 done\n",
      "7 done\n",
      "8 done\n",
      "9 done\n"
     ]
    }
   ],
   "source": [
    "new_50_0_ACO_solution_bins = np.zeros(number_average)\n",
    "new_50_0_ACO_runtime = np.zeros(number_average)\n",
    "new_50_0_ACO_gbest_bins = np.zeros((number_average, iterations))\n",
    "new_50_0_ACO_gbest_fitness = np.zeros((number_average, iterations))\n",
    "new_50_0_ACO_average_bins = np.zeros((number_average, iterations))\n",
    "new_50_0_ACO_best_bins = np.zeros((number_average, iterations))\n",
    "new_50_0_ACO_worst_bins = np.zeros((number_average, iterations))\n",
    "new_50_0_ACO_fitness = np.zeros((number_average, iterations))\n",
    "    \n",
    "for i in range(number_average):\n",
    "    ACO = AntColonyOptimization(ant_number, iterations, b, f, p, µ, medium_objects, medium_container)\n",
    "    [new_50_0_ACO_runtime[i], new_50_0_ACO_solution_bins[i],new_50_0_ACO_average_bins[i], new_50_0_ACO_fitness[i], new_50_0_ACO_best_bins[i], new_50_0_ACO_worst_bins[i], new_50_0_ACO_gbest_bins[i], new_50_0_ACO_gbest_fitness[i]]= ACO.run()\n",
    "    print(str(i) + ' done')\n",
    "    \n",
    "name1 = 'Solutions/medium_ACO_solution_bins.npy'\n",
    "name2 = 'Solutions/medium_ACO_runtime.npy'\n",
    "name3 = 'Solutions/medium_ACO_gbest_bins.npy'\n",
    "name4 = 'Solutions/medium_ACO_gbest_fitness.npy'\n",
    "name5 = 'Solutions/medium_ACO_average_bins.npy'\n",
    "name6 = 'Solutions/medium_ACO_best_bins.npy'\n",
    "name7 = 'Solutions/medium_ACO_worst_bins.npy'\n",
    "name8 = 'Solutions/medium_ACO_fitness.npy'\n",
    "\n",
    "np.save(name1, new_50_0_ACO_solution_bins)\n",
    "np.save(name2, new_50_0_ACO_runtime)\n",
    "np.save(name3, new_50_0_ACO_gbest_bins)\n",
    "np.save(name4, new_50_0_ACO_gbest_fitness)\n",
    "np.save(name5, new_50_0_ACO_average_bins)\n",
    "np.save(name6, new_50_0_ACO_best_bins)\n",
    "np.save(name7, new_50_0_ACO_worst_bins)\n",
    "np.save(name8, new_50_0_ACO_fitness)"
   ]
  },
  {
   "cell_type": "markdown",
   "metadata": {},
   "source": [
    "# large"
   ]
  },
  {
   "cell_type": "code",
   "execution_count": 55,
   "metadata": {},
   "outputs": [],
   "source": [
    "number_average = 10\n",
    "iterations = 30\n",
    "ant_number = 50\n",
    "b = 2\n",
    "f = 2\n",
    "µ = 1\n",
    "p = 0.95"
   ]
  },
  {
   "cell_type": "code",
   "execution_count": 56,
   "metadata": {},
   "outputs": [
    {
     "name": "stdout",
     "output_type": "stream",
     "text": [
      "0 done\n",
      "1 done\n",
      "2 done\n",
      "3 done\n",
      "4 done\n",
      "5 done\n",
      "6 done\n",
      "7 done\n",
      "8 done\n",
      "9 done\n"
     ]
    }
   ],
   "source": [
    "new_50_0_ACO_solution_bins = np.zeros(number_average)\n",
    "new_50_0_ACO_runtime = np.zeros(number_average)\n",
    "new_50_0_ACO_gbest_bins = np.zeros((number_average, iterations))\n",
    "new_50_0_ACO_gbest_fitness = np.zeros((number_average, iterations))\n",
    "new_50_0_ACO_average_bins = np.zeros((number_average, iterations))\n",
    "new_50_0_ACO_best_bins = np.zeros((number_average, iterations))\n",
    "new_50_0_ACO_worst_bins = np.zeros((number_average, iterations))\n",
    "new_50_0_ACO_fitness = np.zeros((number_average, iterations))\n",
    "    \n",
    "for i in range(number_average):\n",
    "    ACO = AntColonyOptimization(ant_number, iterations, b, f, p, µ, large_objects, large_container)\n",
    "    [new_50_0_ACO_runtime[i], new_50_0_ACO_solution_bins[i],new_50_0_ACO_average_bins[i], new_50_0_ACO_fitness[i], new_50_0_ACO_best_bins[i], new_50_0_ACO_worst_bins[i], new_50_0_ACO_gbest_bins[i], new_50_0_ACO_gbest_fitness[i]]= ACO.run()\n",
    "    print(str(i) + ' done')\n",
    "    \n",
    "name1 = 'Solutions/large_ACO_solution_bins.npy'\n",
    "name2 = 'Solutions/large_ACO_runtime.npy'\n",
    "name3 = 'Solutions/large_ACO_gbest_bins.npy'\n",
    "name4 = 'Solutions/large_ACO_gbest_fitness.npy'\n",
    "name5 = 'Solutions/large_ACO_average_bins.npy'\n",
    "name6 = 'Solutions/large_ACO_best_bins.npy'\n",
    "name7 = 'Solutions/large_ACO_worst_bins.npy'\n",
    "name8 = 'Solutions/large_ACO_fitness.npy'\n",
    "\n",
    "np.save(name1, new_50_0_ACO_solution_bins)\n",
    "np.save(name2, new_50_0_ACO_runtime)\n",
    "np.save(name3, new_50_0_ACO_gbest_bins)\n",
    "np.save(name4, new_50_0_ACO_gbest_fitness)\n",
    "np.save(name5, new_50_0_ACO_average_bins)\n",
    "np.save(name6, new_50_0_ACO_best_bins)\n",
    "np.save(name7, new_50_0_ACO_worst_bins)\n",
    "np.save(name8, new_50_0_ACO_fitness)"
   ]
  },
  {
   "cell_type": "code",
   "execution_count": 57,
   "metadata": {},
   "outputs": [],
   "source": [
    "#small:(10, 100, 2, 2, 0,95, 10)\n",
    "#medium:(60, 45, 2, 2, 0,95, 2)\n",
    "#large:(50, 30, 2, 2, 0.95, 1)"
   ]
  },
  {
   "cell_type": "code",
   "execution_count": 58,
   "metadata": {},
   "outputs": [
    {
     "name": "stdout",
     "output_type": "stream",
     "text": [
      "24322.1410779953\n"
     ]
    }
   ],
   "source": [
    "ende = time.time()\n",
    "print(ende-start)"
   ]
  }
 ],
 "metadata": {
  "kernelspec": {
   "display_name": "Python 3",
   "language": "python",
   "name": "python3"
  },
  "language_info": {
   "codemirror_mode": {
    "name": "ipython",
    "version": 3
   },
   "file_extension": ".py",
   "mimetype": "text/x-python",
   "name": "python",
   "nbconvert_exporter": "python",
   "pygments_lexer": "ipython3",
   "version": "3.8.8"
  }
 },
 "nbformat": 4,
 "nbformat_minor": 4
}
